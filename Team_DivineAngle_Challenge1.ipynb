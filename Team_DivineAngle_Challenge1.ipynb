{
  "cells": [
    {
      "cell_type": "code",
      "execution_count": 4,
      "id": "4200aecf",
      "metadata": {
        "_cell_guid": "b1076dfc-b9ad-4769-8c92-a6c4dae69d19",
        "_uuid": "8f2839f25d086af736a60e9eeb907d3b93b6e0e5",
        "execution": {
          "iopub.execute_input": "2022-02-21T19:29:27.378174Z",
          "iopub.status.busy": "2022-02-21T19:29:27.376891Z",
          "iopub.status.idle": "2022-02-21T19:29:27.393228Z",
          "shell.execute_reply": "2022-02-21T19:29:27.393761Z",
          "shell.execute_reply.started": "2022-02-21T18:39:42.939072Z"
        },
        "papermill": {
          "duration": 0.111246,
          "end_time": "2022-02-21T19:29:27.394182",
          "exception": false,
          "start_time": "2022-02-21T19:29:27.282936",
          "status": "completed"
        },
        "tags": [],
        "id": "4200aecf"
      },
      "outputs": [],
      "source": [
        "import numpy as np # linear algebra\n",
        "import pandas as pd # data processing, CSV file I/O (e.g. pd.read_csv)\n",
        "import os\n",
        "for dirname, _, filenames in os.walk('/kaggle/input'):\n",
        "    for filename in filenames:\n",
        "        print(os.path.join(dirname, filename))"
      ]
    },
    {
      "cell_type": "code",
      "source": [
        "from google.colab import drive\n",
        "drive.mount('/content/drive')"
      ],
      "metadata": {
        "id": "7SYawMonVy30",
        "colab": {
          "base_uri": "https://localhost:8080/"
        },
        "outputId": "14731b72-16db-4d83-ab58-e9030d9aa6ab"
      },
      "id": "7SYawMonVy30",
      "execution_count": 2,
      "outputs": [
        {
          "output_type": "stream",
          "name": "stdout",
          "text": [
            "Mounted at /content/drive\n"
          ]
        }
      ]
    },
    {
      "cell_type": "code",
      "execution_count": 5,
      "id": "18620c81",
      "metadata": {
        "execution": {
          "iopub.execute_input": "2022-02-21T19:29:27.575704Z",
          "iopub.status.busy": "2022-02-21T19:29:27.574921Z",
          "iopub.status.idle": "2022-02-21T19:30:03.212147Z",
          "shell.execute_reply": "2022-02-21T19:30:03.212688Z",
          "shell.execute_reply.started": "2022-02-21T18:39:42.954389Z"
        },
        "papermill": {
          "duration": 35.730747,
          "end_time": "2022-02-21T19:30:03.212919",
          "exception": false,
          "start_time": "2022-02-21T19:29:27.482172",
          "status": "completed"
        },
        "tags": [],
        "id": "18620c81"
      },
      "outputs": [],
      "source": [
        "Formula_pd=pd.read_csv('/content/drive/MyDrive/WeatherDataSet/weather.csv',low_memory=False)"
      ]
    },
    {
      "cell_type": "code",
      "execution_count": 6,
      "id": "b82fac41",
      "metadata": {
        "execution": {
          "iopub.execute_input": "2022-02-21T19:30:03.390420Z",
          "iopub.status.busy": "2022-02-21T19:30:03.389442Z",
          "iopub.status.idle": "2022-02-21T19:30:03.425879Z",
          "shell.execute_reply": "2022-02-21T19:30:03.426394Z",
          "shell.execute_reply.started": "2022-02-21T18:40:15.676183Z"
        },
        "papermill": {
          "duration": 0.126397,
          "end_time": "2022-02-21T19:30:03.426592",
          "exception": false,
          "start_time": "2022-02-21T19:30:03.300195",
          "status": "completed"
        },
        "tags": [],
        "id": "b82fac41",
        "outputId": "4bdd914c-4418-4ff8-c781-c2b31c920b06",
        "colab": {
          "base_uri": "https://localhost:8080/"
        }
      },
      "outputs": [
        {
          "output_type": "execute_result",
          "data": {
            "text/plain": [
              "array([0])"
            ]
          },
          "metadata": {},
          "execution_count": 6
        }
      ],
      "source": [
        "Formula_pd['M_SAFETY_CAR_STATUS'].unique()"
      ]
    },
    {
      "cell_type": "code",
      "execution_count": 7,
      "id": "2d8d879a",
      "metadata": {
        "execution": {
          "iopub.execute_input": "2022-02-21T19:30:03.605843Z",
          "iopub.status.busy": "2022-02-21T19:30:03.605198Z",
          "iopub.status.idle": "2022-02-21T19:30:03.609753Z",
          "shell.execute_reply": "2022-02-21T19:30:03.610287Z",
          "shell.execute_reply.started": "2022-02-21T18:40:15.717737Z"
        },
        "papermill": {
          "duration": 0.096481,
          "end_time": "2022-02-21T19:30:03.610470",
          "exception": false,
          "start_time": "2022-02-21T19:30:03.513989",
          "status": "completed"
        },
        "tags": [],
        "id": "2d8d879a",
        "outputId": "6fbff2ea-e13a-4f7e-f378-d538966654d3",
        "colab": {
          "base_uri": "https://localhost:8080/"
        }
      },
      "outputs": [
        {
          "output_type": "execute_result",
          "data": {
            "text/plain": [
              "(3572328, 59)"
            ]
          },
          "metadata": {},
          "execution_count": 7
        }
      ],
      "source": [
        "Formula_pd.shape"
      ]
    },
    {
      "cell_type": "code",
      "execution_count": 8,
      "id": "d8073507",
      "metadata": {
        "execution": {
          "iopub.execute_input": "2022-02-21T19:30:03.786008Z",
          "iopub.status.busy": "2022-02-21T19:30:03.785343Z",
          "iopub.status.idle": "2022-02-21T19:30:03.789633Z",
          "shell.execute_reply": "2022-02-21T19:30:03.788992Z",
          "shell.execute_reply.started": "2022-02-21T18:40:15.726488Z"
        },
        "papermill": {
          "duration": 0.093462,
          "end_time": "2022-02-21T19:30:03.789785",
          "exception": false,
          "start_time": "2022-02-21T19:30:03.696323",
          "status": "completed"
        },
        "tags": [],
        "id": "d8073507"
      },
      "outputs": [],
      "source": [
        "# Formula_pd['TIMESTAMP']=pd.to_datetime(Formula_pd['TIMESTAMP'],unit='s')"
      ]
    },
    {
      "cell_type": "code",
      "execution_count": 9,
      "id": "62a30f97",
      "metadata": {
        "execution": {
          "iopub.execute_input": "2022-02-21T19:30:03.967678Z",
          "iopub.status.busy": "2022-02-21T19:30:03.966936Z",
          "iopub.status.idle": "2022-02-21T19:30:09.591689Z",
          "shell.execute_reply": "2022-02-21T19:30:09.592241Z",
          "shell.execute_reply.started": "2022-02-21T18:40:15.738143Z"
        },
        "papermill": {
          "duration": 5.716794,
          "end_time": "2022-02-21T19:30:09.592448",
          "exception": false,
          "start_time": "2022-02-21T19:30:03.875654",
          "status": "completed"
        },
        "tags": [],
        "id": "62a30f97",
        "outputId": "9d61080e-c6f0-443a-e10e-ec2f355099e9",
        "colab": {
          "base_uri": "https://localhost:8080/",
          "height": 382
        }
      },
      "outputs": [
        {
          "output_type": "execute_result",
          "data": {
            "text/html": [
              "\n",
              "  <div id=\"df-179d2b8e-0020-4631-8ddf-8643c9aa2ad7\">\n",
              "    <div class=\"colab-df-container\">\n",
              "      <div>\n",
              "<style scoped>\n",
              "    .dataframe tbody tr th:only-of-type {\n",
              "        vertical-align: middle;\n",
              "    }\n",
              "\n",
              "    .dataframe tbody tr th {\n",
              "        vertical-align: top;\n",
              "    }\n",
              "\n",
              "    .dataframe thead th {\n",
              "        text-align: right;\n",
              "    }\n",
              "</style>\n",
              "<table border=\"1\" class=\"dataframe\">\n",
              "  <thead>\n",
              "    <tr style=\"text-align: right;\">\n",
              "      <th></th>\n",
              "      <th>M_PACKET_FORMAT</th>\n",
              "      <th>M_GAME_MAJOR_VERSION</th>\n",
              "      <th>M_GAME_MINOR_VERSION</th>\n",
              "      <th>M_PACKET_VERSION</th>\n",
              "      <th>M_PACKET_ID</th>\n",
              "      <th>M_SESSION_UID</th>\n",
              "      <th>M_SESSION_TIME</th>\n",
              "      <th>M_FRAME_IDENTIFIER</th>\n",
              "      <th>M_PLAYER_CAR_INDEX</th>\n",
              "      <th>M_SECONDARY_PLAYER_CAR_INDEX</th>\n",
              "      <th>M_BRAKING_ASSIST</th>\n",
              "      <th>M_SESSION_LINK_IDENTIFIER</th>\n",
              "      <th>M_PIT_RELEASE_ASSIST</th>\n",
              "      <th>TIMESTAMP</th>\n",
              "      <th>M_ZONE_START</th>\n",
              "      <th>M_ZONE_FLAG</th>\n",
              "      <th>M_PIT_STOP_WINDOW_IDEAL_LAP</th>\n",
              "      <th>M_TRACK_TEMPERATURE</th>\n",
              "      <th>M_TRACK_LENGTH</th>\n",
              "      <th>M_GAME_PAUSED</th>\n",
              "      <th>M_FORECAST_ACCURACY</th>\n",
              "      <th>M_AIR_TEMPERATURE</th>\n",
              "      <th>M_NUM_WEATHER_FORECAST_SAMPLES</th>\n",
              "      <th>M_SLI_PRO_NATIVE_SUPPORT</th>\n",
              "      <th>M_SAFETY_CAR_STATUS</th>\n",
              "      <th>M_TRACK_ID</th>\n",
              "      <th>M_ERSASSIST</th>\n",
              "      <th>M_FORMULA</th>\n",
              "      <th>M_SEASON_LINK_IDENTIFIER</th>\n",
              "      <th>M_PIT_ASSIST</th>\n",
              "      <th>M_GEARBOX_ASSIST</th>\n",
              "      <th>M_SESSION_TYPE</th>\n",
              "      <th>M_SPECTATOR_CAR_INDEX</th>\n",
              "      <th>M_PIT_STOP_WINDOW_LATEST_LAP</th>\n",
              "      <th>M_WEEKEND_LINK_IDENTIFIER</th>\n",
              "      <th>M_DYNAMIC_RACING_LINE_TYPE</th>\n",
              "      <th>M_SESSION_TIME_LEFT</th>\n",
              "      <th>M_SESSION_DURATION</th>\n",
              "      <th>M_PIT_STOP_REJOIN_POSITION</th>\n",
              "      <th>M_WEATHER_FORECAST_SAMPLES_M_SESSION_TYPE</th>\n",
              "      <th>M_TIME_OFFSET</th>\n",
              "      <th>M_WEATHER_FORECAST_SAMPLES_M_WEATHER</th>\n",
              "      <th>M_WEATHER_FORECAST_SAMPLES_M_TRACK_TEMPERATURE</th>\n",
              "      <th>M_TRACK_TEMPERATURE_CHANGE</th>\n",
              "      <th>M_WEATHER_FORECAST_SAMPLES_M_AIR_TEMPERATURE</th>\n",
              "      <th>M_AIR_TEMPERATURE_CHANGE</th>\n",
              "      <th>M_RAIN_PERCENTAGE</th>\n",
              "      <th>M_WEATHER</th>\n",
              "      <th>M_AI_DIFFICULTY</th>\n",
              "      <th>M_PIT_SPEED_LIMIT</th>\n",
              "      <th>M_NETWORK_GAME</th>\n",
              "      <th>M_TOTAL_LAPS</th>\n",
              "      <th>M_STEERING_ASSIST</th>\n",
              "      <th>M_IS_SPECTATING</th>\n",
              "      <th>M_DYNAMIC_RACING_LINE</th>\n",
              "      <th>M_DRSASSIST</th>\n",
              "      <th>M_NUM_MARSHAL_ZONES</th>\n",
              "      <th>Unnamed: 58</th>\n",
              "    </tr>\n",
              "  </thead>\n",
              "  <tbody>\n",
              "    <tr>\n",
              "      <th>count</th>\n",
              "      <td>3572328.0</td>\n",
              "      <td>3572328.0</td>\n",
              "      <td>3.572328e+06</td>\n",
              "      <td>3572328.0</td>\n",
              "      <td>3572328.0</td>\n",
              "      <td>3.572328e+06</td>\n",
              "      <td>3.572328e+06</td>\n",
              "      <td>3.572328e+06</td>\n",
              "      <td>3.572328e+06</td>\n",
              "      <td>3572328.0</td>\n",
              "      <td>3.572328e+06</td>\n",
              "      <td>3.572328e+06</td>\n",
              "      <td>3.572328e+06</td>\n",
              "      <td>3.572328e+06</td>\n",
              "      <td>974274.000000</td>\n",
              "      <td>974274.000000</td>\n",
              "      <td>3.572328e+06</td>\n",
              "      <td>3.572328e+06</td>\n",
              "      <td>3.572328e+06</td>\n",
              "      <td>3.572328e+06</td>\n",
              "      <td>3.572328e+06</td>\n",
              "      <td>3.572328e+06</td>\n",
              "      <td>3.572328e+06</td>\n",
              "      <td>3572328.0</td>\n",
              "      <td>3572328.0</td>\n",
              "      <td>3.572328e+06</td>\n",
              "      <td>3.572328e+06</td>\n",
              "      <td>3.572328e+06</td>\n",
              "      <td>3.572328e+06</td>\n",
              "      <td>3.572328e+06</td>\n",
              "      <td>3.572328e+06</td>\n",
              "      <td>3.572328e+06</td>\n",
              "      <td>3.572328e+06</td>\n",
              "      <td>3.572328e+06</td>\n",
              "      <td>3.572328e+06</td>\n",
              "      <td>3.572328e+06</td>\n",
              "      <td>3.572328e+06</td>\n",
              "      <td>3.572328e+06</td>\n",
              "      <td>3.572328e+06</td>\n",
              "      <td>2.598054e+06</td>\n",
              "      <td>2.598054e+06</td>\n",
              "      <td>2.598054e+06</td>\n",
              "      <td>2.598054e+06</td>\n",
              "      <td>2.598054e+06</td>\n",
              "      <td>2.598054e+06</td>\n",
              "      <td>2.598054e+06</td>\n",
              "      <td>2.598054e+06</td>\n",
              "      <td>3.572328e+06</td>\n",
              "      <td>3.572328e+06</td>\n",
              "      <td>3.572328e+06</td>\n",
              "      <td>3.572327e+06</td>\n",
              "      <td>3.572327e+06</td>\n",
              "      <td>3.572327e+06</td>\n",
              "      <td>3.572327e+06</td>\n",
              "      <td>3.572327e+06</td>\n",
              "      <td>3.572327e+06</td>\n",
              "      <td>3.572327e+06</td>\n",
              "      <td>0.0</td>\n",
              "    </tr>\n",
              "    <tr>\n",
              "      <th>mean</th>\n",
              "      <td>2021.0</td>\n",
              "      <td>1.0</td>\n",
              "      <td>1.410704e+01</td>\n",
              "      <td>1.0</td>\n",
              "      <td>1.0</td>\n",
              "      <td>8.239394e+18</td>\n",
              "      <td>1.019926e+03</td>\n",
              "      <td>2.857427e+04</td>\n",
              "      <td>9.212292e+00</td>\n",
              "      <td>255.0</td>\n",
              "      <td>6.926777e-01</td>\n",
              "      <td>1.894529e+09</td>\n",
              "      <td>3.153865e-01</td>\n",
              "      <td>1.642326e+09</td>\n",
              "      <td>0.414565</td>\n",
              "      <td>0.009579</td>\n",
              "      <td>1.881843e+00</td>\n",
              "      <td>3.185621e+01</td>\n",
              "      <td>4.890588e+03</td>\n",
              "      <td>1.366560e-02</td>\n",
              "      <td>5.711961e-02</td>\n",
              "      <td>2.407445e+01</td>\n",
              "      <td>1.388980e+01</td>\n",
              "      <td>0.0</td>\n",
              "      <td>0.0</td>\n",
              "      <td>1.588987e+01</td>\n",
              "      <td>3.153865e-01</td>\n",
              "      <td>8.147628e-03</td>\n",
              "      <td>1.894529e+09</td>\n",
              "      <td>3.153865e-01</td>\n",
              "      <td>1.630773e+00</td>\n",
              "      <td>8.246455e+00</td>\n",
              "      <td>2.546247e+02</td>\n",
              "      <td>2.185138e+00</td>\n",
              "      <td>1.894529e+09</td>\n",
              "      <td>3.153865e-01</td>\n",
              "      <td>1.558772e+03</td>\n",
              "      <td>2.471925e+03</td>\n",
              "      <td>2.164424e+00</td>\n",
              "      <td>1.667811e+00</td>\n",
              "      <td>5.917654e+00</td>\n",
              "      <td>9.705187e-02</td>\n",
              "      <td>7.615204e+00</td>\n",
              "      <td>4.123082e-01</td>\n",
              "      <td>5.993771e+00</td>\n",
              "      <td>4.199920e-01</td>\n",
              "      <td>1.147212e+00</td>\n",
              "      <td>3.304962e-01</td>\n",
              "      <td>4.595344e+01</td>\n",
              "      <td>7.583221e+01</td>\n",
              "      <td>2.261691e-01</td>\n",
              "      <td>1.709807e+02</td>\n",
              "      <td>1.580382e-01</td>\n",
              "      <td>1.487266e-03</td>\n",
              "      <td>6.307732e-01</td>\n",
              "      <td>3.153866e-01</td>\n",
              "      <td>1.687091e+01</td>\n",
              "      <td>NaN</td>\n",
              "    </tr>\n",
              "    <tr>\n",
              "      <th>std</th>\n",
              "      <td>0.0</td>\n",
              "      <td>0.0</td>\n",
              "      <td>3.091641e-01</td>\n",
              "      <td>0.0</td>\n",
              "      <td>0.0</td>\n",
              "      <td>5.119260e+18</td>\n",
              "      <td>1.682487e+03</td>\n",
              "      <td>5.428773e+04</td>\n",
              "      <td>9.217495e+00</td>\n",
              "      <td>0.0</td>\n",
              "      <td>1.178056e+00</td>\n",
              "      <td>1.345200e+09</td>\n",
              "      <td>4.646697e-01</td>\n",
              "      <td>5.468145e+05</td>\n",
              "      <td>0.315565</td>\n",
              "      <td>0.147761</td>\n",
              "      <td>8.317268e+00</td>\n",
              "      <td>2.457039e+00</td>\n",
              "      <td>6.615081e+02</td>\n",
              "      <td>1.160985e-01</td>\n",
              "      <td>2.320711e-01</td>\n",
              "      <td>2.703748e+00</td>\n",
              "      <td>1.642868e+01</td>\n",
              "      <td>0.0</td>\n",
              "      <td>0.0</td>\n",
              "      <td>1.238743e+01</td>\n",
              "      <td>4.646697e-01</td>\n",
              "      <td>1.561298e-01</td>\n",
              "      <td>1.345200e+09</td>\n",
              "      <td>4.646697e-01</td>\n",
              "      <td>9.293394e-01</td>\n",
              "      <td>3.896537e+00</td>\n",
              "      <td>9.725290e+00</td>\n",
              "      <td>9.589723e+00</td>\n",
              "      <td>1.345200e+09</td>\n",
              "      <td>4.646697e-01</td>\n",
              "      <td>2.070011e+03</td>\n",
              "      <td>2.389139e+03</td>\n",
              "      <td>5.387997e+00</td>\n",
              "      <td>3.339838e+00</td>\n",
              "      <td>1.642600e+01</td>\n",
              "      <td>3.251820e-01</td>\n",
              "      <td>1.331635e+01</td>\n",
              "      <td>7.645373e-01</td>\n",
              "      <td>1.049220e+01</td>\n",
              "      <td>7.746689e-01</td>\n",
              "      <td>3.353760e+00</td>\n",
              "      <td>7.195647e-01</td>\n",
              "      <td>3.811992e+01</td>\n",
              "      <td>8.123138e+00</td>\n",
              "      <td>4.183500e-01</td>\n",
              "      <td>6.422035e+01</td>\n",
              "      <td>3.647768e-01</td>\n",
              "      <td>3.853640e-02</td>\n",
              "      <td>9.293394e-01</td>\n",
              "      <td>4.646697e-01</td>\n",
              "      <td>1.092343e+00</td>\n",
              "      <td>NaN</td>\n",
              "    </tr>\n",
              "    <tr>\n",
              "      <th>min</th>\n",
              "      <td>2021.0</td>\n",
              "      <td>1.0</td>\n",
              "      <td>1.400000e+01</td>\n",
              "      <td>1.0</td>\n",
              "      <td>1.0</td>\n",
              "      <td>2.106082e+16</td>\n",
              "      <td>4.000000e-03</td>\n",
              "      <td>0.000000e+00</td>\n",
              "      <td>0.000000e+00</td>\n",
              "      <td>255.0</td>\n",
              "      <td>0.000000e+00</td>\n",
              "      <td>0.000000e+00</td>\n",
              "      <td>0.000000e+00</td>\n",
              "      <td>1.641391e+09</td>\n",
              "      <td>0.000000</td>\n",
              "      <td>0.000000</td>\n",
              "      <td>0.000000e+00</td>\n",
              "      <td>2.300000e+01</td>\n",
              "      <td>3.323000e+03</td>\n",
              "      <td>0.000000e+00</td>\n",
              "      <td>0.000000e+00</td>\n",
              "      <td>1.700000e+01</td>\n",
              "      <td>0.000000e+00</td>\n",
              "      <td>0.0</td>\n",
              "      <td>0.0</td>\n",
              "      <td>1.000000e+00</td>\n",
              "      <td>0.000000e+00</td>\n",
              "      <td>0.000000e+00</td>\n",
              "      <td>0.000000e+00</td>\n",
              "      <td>0.000000e+00</td>\n",
              "      <td>1.000000e+00</td>\n",
              "      <td>1.000000e+00</td>\n",
              "      <td>0.000000e+00</td>\n",
              "      <td>0.000000e+00</td>\n",
              "      <td>0.000000e+00</td>\n",
              "      <td>0.000000e+00</td>\n",
              "      <td>0.000000e+00</td>\n",
              "      <td>2.400000e+02</td>\n",
              "      <td>0.000000e+00</td>\n",
              "      <td>0.000000e+00</td>\n",
              "      <td>0.000000e+00</td>\n",
              "      <td>0.000000e+00</td>\n",
              "      <td>0.000000e+00</td>\n",
              "      <td>0.000000e+00</td>\n",
              "      <td>0.000000e+00</td>\n",
              "      <td>0.000000e+00</td>\n",
              "      <td>0.000000e+00</td>\n",
              "      <td>0.000000e+00</td>\n",
              "      <td>0.000000e+00</td>\n",
              "      <td>6.000000e+01</td>\n",
              "      <td>0.000000e+00</td>\n",
              "      <td>5.000000e+00</td>\n",
              "      <td>0.000000e+00</td>\n",
              "      <td>0.000000e+00</td>\n",
              "      <td>0.000000e+00</td>\n",
              "      <td>0.000000e+00</td>\n",
              "      <td>1.000000e+01</td>\n",
              "      <td>NaN</td>\n",
              "    </tr>\n",
              "    <tr>\n",
              "      <th>25%</th>\n",
              "      <td>2021.0</td>\n",
              "      <td>1.0</td>\n",
              "      <td>1.400000e+01</td>\n",
              "      <td>1.0</td>\n",
              "      <td>1.0</td>\n",
              "      <td>3.591802e+18</td>\n",
              "      <td>1.138000e+02</td>\n",
              "      <td>3.007000e+03</td>\n",
              "      <td>0.000000e+00</td>\n",
              "      <td>255.0</td>\n",
              "      <td>0.000000e+00</td>\n",
              "      <td>8.613347e+08</td>\n",
              "      <td>0.000000e+00</td>\n",
              "      <td>1.641823e+09</td>\n",
              "      <td>0.108000</td>\n",
              "      <td>0.000000</td>\n",
              "      <td>0.000000e+00</td>\n",
              "      <td>3.100000e+01</td>\n",
              "      <td>4.650000e+03</td>\n",
              "      <td>0.000000e+00</td>\n",
              "      <td>0.000000e+00</td>\n",
              "      <td>2.300000e+01</td>\n",
              "      <td>3.000000e+00</td>\n",
              "      <td>0.0</td>\n",
              "      <td>0.0</td>\n",
              "      <td>3.000000e+00</td>\n",
              "      <td>0.000000e+00</td>\n",
              "      <td>0.000000e+00</td>\n",
              "      <td>8.613347e+08</td>\n",
              "      <td>0.000000e+00</td>\n",
              "      <td>1.000000e+00</td>\n",
              "      <td>8.000000e+00</td>\n",
              "      <td>2.550000e+02</td>\n",
              "      <td>0.000000e+00</td>\n",
              "      <td>8.613347e+08</td>\n",
              "      <td>0.000000e+00</td>\n",
              "      <td>9.300000e+01</td>\n",
              "      <td>1.080000e+03</td>\n",
              "      <td>0.000000e+00</td>\n",
              "      <td>0.000000e+00</td>\n",
              "      <td>0.000000e+00</td>\n",
              "      <td>0.000000e+00</td>\n",
              "      <td>0.000000e+00</td>\n",
              "      <td>0.000000e+00</td>\n",
              "      <td>0.000000e+00</td>\n",
              "      <td>0.000000e+00</td>\n",
              "      <td>0.000000e+00</td>\n",
              "      <td>0.000000e+00</td>\n",
              "      <td>3.100000e+01</td>\n",
              "      <td>8.000000e+01</td>\n",
              "      <td>0.000000e+00</td>\n",
              "      <td>2.000000e+02</td>\n",
              "      <td>0.000000e+00</td>\n",
              "      <td>0.000000e+00</td>\n",
              "      <td>0.000000e+00</td>\n",
              "      <td>0.000000e+00</td>\n",
              "      <td>1.600000e+01</td>\n",
              "      <td>NaN</td>\n",
              "    </tr>\n",
              "    <tr>\n",
              "      <th>50%</th>\n",
              "      <td>2021.0</td>\n",
              "      <td>1.0</td>\n",
              "      <td>1.400000e+01</td>\n",
              "      <td>1.0</td>\n",
              "      <td>1.0</td>\n",
              "      <td>7.802116e+18</td>\n",
              "      <td>4.319240e+02</td>\n",
              "      <td>1.174900e+04</td>\n",
              "      <td>2.000000e+00</td>\n",
              "      <td>255.0</td>\n",
              "      <td>0.000000e+00</td>\n",
              "      <td>2.184232e+09</td>\n",
              "      <td>0.000000e+00</td>\n",
              "      <td>1.642287e+09</td>\n",
              "      <td>0.412000</td>\n",
              "      <td>0.000000</td>\n",
              "      <td>0.000000e+00</td>\n",
              "      <td>3.300000e+01</td>\n",
              "      <td>4.650000e+03</td>\n",
              "      <td>0.000000e+00</td>\n",
              "      <td>0.000000e+00</td>\n",
              "      <td>2.500000e+01</td>\n",
              "      <td>1.000000e+01</td>\n",
              "      <td>0.0</td>\n",
              "      <td>0.0</td>\n",
              "      <td>2.700000e+01</td>\n",
              "      <td>0.000000e+00</td>\n",
              "      <td>0.000000e+00</td>\n",
              "      <td>2.184232e+09</td>\n",
              "      <td>0.000000e+00</td>\n",
              "      <td>1.000000e+00</td>\n",
              "      <td>8.000000e+00</td>\n",
              "      <td>2.550000e+02</td>\n",
              "      <td>0.000000e+00</td>\n",
              "      <td>2.184232e+09</td>\n",
              "      <td>0.000000e+00</td>\n",
              "      <td>5.590000e+02</td>\n",
              "      <td>1.080000e+03</td>\n",
              "      <td>0.000000e+00</td>\n",
              "      <td>0.000000e+00</td>\n",
              "      <td>0.000000e+00</td>\n",
              "      <td>0.000000e+00</td>\n",
              "      <td>0.000000e+00</td>\n",
              "      <td>0.000000e+00</td>\n",
              "      <td>0.000000e+00</td>\n",
              "      <td>0.000000e+00</td>\n",
              "      <td>0.000000e+00</td>\n",
              "      <td>0.000000e+00</td>\n",
              "      <td>3.100000e+01</td>\n",
              "      <td>8.000000e+01</td>\n",
              "      <td>0.000000e+00</td>\n",
              "      <td>2.000000e+02</td>\n",
              "      <td>0.000000e+00</td>\n",
              "      <td>0.000000e+00</td>\n",
              "      <td>0.000000e+00</td>\n",
              "      <td>0.000000e+00</td>\n",
              "      <td>1.700000e+01</td>\n",
              "      <td>NaN</td>\n",
              "    </tr>\n",
              "    <tr>\n",
              "      <th>75%</th>\n",
              "      <td>2021.0</td>\n",
              "      <td>1.0</td>\n",
              "      <td>1.400000e+01</td>\n",
              "      <td>1.0</td>\n",
              "      <td>1.0</td>\n",
              "      <td>1.279207e+19</td>\n",
              "      <td>1.024212e+03</td>\n",
              "      <td>2.972400e+04</td>\n",
              "      <td>1.900000e+01</td>\n",
              "      <td>255.0</td>\n",
              "      <td>2.000000e+00</td>\n",
              "      <td>3.271241e+09</td>\n",
              "      <td>1.000000e+00</td>\n",
              "      <td>1.642445e+09</td>\n",
              "      <td>0.690000</td>\n",
              "      <td>0.000000</td>\n",
              "      <td>0.000000e+00</td>\n",
              "      <td>3.300000e+01</td>\n",
              "      <td>5.408000e+03</td>\n",
              "      <td>0.000000e+00</td>\n",
              "      <td>0.000000e+00</td>\n",
              "      <td>2.500000e+01</td>\n",
              "      <td>1.000000e+01</td>\n",
              "      <td>0.0</td>\n",
              "      <td>0.0</td>\n",
              "      <td>2.800000e+01</td>\n",
              "      <td>1.000000e+00</td>\n",
              "      <td>0.000000e+00</td>\n",
              "      <td>3.271241e+09</td>\n",
              "      <td>1.000000e+00</td>\n",
              "      <td>3.000000e+00</td>\n",
              "      <td>1.000000e+01</td>\n",
              "      <td>2.550000e+02</td>\n",
              "      <td>0.000000e+00</td>\n",
              "      <td>3.271241e+09</td>\n",
              "      <td>1.000000e+00</td>\n",
              "      <td>2.872000e+03</td>\n",
              "      <td>3.600000e+03</td>\n",
              "      <td>0.000000e+00</td>\n",
              "      <td>0.000000e+00</td>\n",
              "      <td>0.000000e+00</td>\n",
              "      <td>0.000000e+00</td>\n",
              "      <td>0.000000e+00</td>\n",
              "      <td>0.000000e+00</td>\n",
              "      <td>0.000000e+00</td>\n",
              "      <td>0.000000e+00</td>\n",
              "      <td>0.000000e+00</td>\n",
              "      <td>1.000000e+00</td>\n",
              "      <td>9.000000e+01</td>\n",
              "      <td>8.000000e+01</td>\n",
              "      <td>0.000000e+00</td>\n",
              "      <td>2.000000e+02</td>\n",
              "      <td>0.000000e+00</td>\n",
              "      <td>0.000000e+00</td>\n",
              "      <td>2.000000e+00</td>\n",
              "      <td>1.000000e+00</td>\n",
              "      <td>1.800000e+01</td>\n",
              "      <td>NaN</td>\n",
              "    </tr>\n",
              "    <tr>\n",
              "      <th>max</th>\n",
              "      <td>2021.0</td>\n",
              "      <td>1.0</td>\n",
              "      <td>1.500000e+01</td>\n",
              "      <td>1.0</td>\n",
              "      <td>1.0</td>\n",
              "      <td>1.826297e+19</td>\n",
              "      <td>9.686959e+03</td>\n",
              "      <td>3.339170e+05</td>\n",
              "      <td>1.900000e+01</td>\n",
              "      <td>255.0</td>\n",
              "      <td>3.000000e+00</td>\n",
              "      <td>4.264309e+09</td>\n",
              "      <td>1.000000e+00</td>\n",
              "      <td>1.644020e+09</td>\n",
              "      <td>0.997000</td>\n",
              "      <td>3.000000</td>\n",
              "      <td>4.700000e+01</td>\n",
              "      <td>3.600000e+01</td>\n",
              "      <td>5.896000e+03</td>\n",
              "      <td>1.000000e+00</td>\n",
              "      <td>1.000000e+00</td>\n",
              "      <td>2.900000e+01</td>\n",
              "      <td>4.800000e+01</td>\n",
              "      <td>0.0</td>\n",
              "      <td>0.0</td>\n",
              "      <td>2.800000e+01</td>\n",
              "      <td>1.000000e+00</td>\n",
              "      <td>3.000000e+00</td>\n",
              "      <td>4.264309e+09</td>\n",
              "      <td>1.000000e+00</td>\n",
              "      <td>3.000000e+00</td>\n",
              "      <td>1.300000e+01</td>\n",
              "      <td>2.550000e+02</td>\n",
              "      <td>5.200000e+01</td>\n",
              "      <td>4.264309e+09</td>\n",
              "      <td>1.000000e+00</td>\n",
              "      <td>7.200000e+03</td>\n",
              "      <td>7.200000e+03</td>\n",
              "      <td>2.000000e+01</td>\n",
              "      <td>1.000000e+01</td>\n",
              "      <td>1.200000e+02</td>\n",
              "      <td>6.000000e+00</td>\n",
              "      <td>3.600000e+01</td>\n",
              "      <td>2.000000e+00</td>\n",
              "      <td>2.900000e+01</td>\n",
              "      <td>2.000000e+00</td>\n",
              "      <td>9.300000e+01</td>\n",
              "      <td>5.000000e+00</td>\n",
              "      <td>1.100000e+02</td>\n",
              "      <td>8.000000e+01</td>\n",
              "      <td>1.000000e+00</td>\n",
              "      <td>2.000000e+02</td>\n",
              "      <td>1.000000e+00</td>\n",
              "      <td>1.000000e+00</td>\n",
              "      <td>2.000000e+00</td>\n",
              "      <td>1.000000e+00</td>\n",
              "      <td>1.900000e+01</td>\n",
              "      <td>NaN</td>\n",
              "    </tr>\n",
              "  </tbody>\n",
              "</table>\n",
              "</div>\n",
              "      <button class=\"colab-df-convert\" onclick=\"convertToInteractive('df-179d2b8e-0020-4631-8ddf-8643c9aa2ad7')\"\n",
              "              title=\"Convert this dataframe to an interactive table.\"\n",
              "              style=\"display:none;\">\n",
              "        \n",
              "  <svg xmlns=\"http://www.w3.org/2000/svg\" height=\"24px\"viewBox=\"0 0 24 24\"\n",
              "       width=\"24px\">\n",
              "    <path d=\"M0 0h24v24H0V0z\" fill=\"none\"/>\n",
              "    <path d=\"M18.56 5.44l.94 2.06.94-2.06 2.06-.94-2.06-.94-.94-2.06-.94 2.06-2.06.94zm-11 1L8.5 8.5l.94-2.06 2.06-.94-2.06-.94L8.5 2.5l-.94 2.06-2.06.94zm10 10l.94 2.06.94-2.06 2.06-.94-2.06-.94-.94-2.06-.94 2.06-2.06.94z\"/><path d=\"M17.41 7.96l-1.37-1.37c-.4-.4-.92-.59-1.43-.59-.52 0-1.04.2-1.43.59L10.3 9.45l-7.72 7.72c-.78.78-.78 2.05 0 2.83L4 21.41c.39.39.9.59 1.41.59.51 0 1.02-.2 1.41-.59l7.78-7.78 2.81-2.81c.8-.78.8-2.07 0-2.86zM5.41 20L4 18.59l7.72-7.72 1.47 1.35L5.41 20z\"/>\n",
              "  </svg>\n",
              "      </button>\n",
              "      \n",
              "  <style>\n",
              "    .colab-df-container {\n",
              "      display:flex;\n",
              "      flex-wrap:wrap;\n",
              "      gap: 12px;\n",
              "    }\n",
              "\n",
              "    .colab-df-convert {\n",
              "      background-color: #E8F0FE;\n",
              "      border: none;\n",
              "      border-radius: 50%;\n",
              "      cursor: pointer;\n",
              "      display: none;\n",
              "      fill: #1967D2;\n",
              "      height: 32px;\n",
              "      padding: 0 0 0 0;\n",
              "      width: 32px;\n",
              "    }\n",
              "\n",
              "    .colab-df-convert:hover {\n",
              "      background-color: #E2EBFA;\n",
              "      box-shadow: 0px 1px 2px rgba(60, 64, 67, 0.3), 0px 1px 3px 1px rgba(60, 64, 67, 0.15);\n",
              "      fill: #174EA6;\n",
              "    }\n",
              "\n",
              "    [theme=dark] .colab-df-convert {\n",
              "      background-color: #3B4455;\n",
              "      fill: #D2E3FC;\n",
              "    }\n",
              "\n",
              "    [theme=dark] .colab-df-convert:hover {\n",
              "      background-color: #434B5C;\n",
              "      box-shadow: 0px 1px 3px 1px rgba(0, 0, 0, 0.15);\n",
              "      filter: drop-shadow(0px 1px 2px rgba(0, 0, 0, 0.3));\n",
              "      fill: #FFFFFF;\n",
              "    }\n",
              "  </style>\n",
              "\n",
              "      <script>\n",
              "        const buttonEl =\n",
              "          document.querySelector('#df-179d2b8e-0020-4631-8ddf-8643c9aa2ad7 button.colab-df-convert');\n",
              "        buttonEl.style.display =\n",
              "          google.colab.kernel.accessAllowed ? 'block' : 'none';\n",
              "\n",
              "        async function convertToInteractive(key) {\n",
              "          const element = document.querySelector('#df-179d2b8e-0020-4631-8ddf-8643c9aa2ad7');\n",
              "          const dataTable =\n",
              "            await google.colab.kernel.invokeFunction('convertToInteractive',\n",
              "                                                     [key], {});\n",
              "          if (!dataTable) return;\n",
              "\n",
              "          const docLinkHtml = 'Like what you see? Visit the ' +\n",
              "            '<a target=\"_blank\" href=https://colab.research.google.com/notebooks/data_table.ipynb>data table notebook</a>'\n",
              "            + ' to learn more about interactive tables.';\n",
              "          element.innerHTML = '';\n",
              "          dataTable['output_type'] = 'display_data';\n",
              "          await google.colab.output.renderOutput(dataTable, element);\n",
              "          const docLink = document.createElement('div');\n",
              "          docLink.innerHTML = docLinkHtml;\n",
              "          element.appendChild(docLink);\n",
              "        }\n",
              "      </script>\n",
              "    </div>\n",
              "  </div>\n",
              "  "
            ],
            "text/plain": [
              "       M_PACKET_FORMAT  M_GAME_MAJOR_VERSION  ...  M_NUM_MARSHAL_ZONES  Unnamed: 58\n",
              "count        3572328.0             3572328.0  ...         3.572327e+06          0.0\n",
              "mean            2021.0                   1.0  ...         1.687091e+01          NaN\n",
              "std                0.0                   0.0  ...         1.092343e+00          NaN\n",
              "min             2021.0                   1.0  ...         1.000000e+01          NaN\n",
              "25%             2021.0                   1.0  ...         1.600000e+01          NaN\n",
              "50%             2021.0                   1.0  ...         1.700000e+01          NaN\n",
              "75%             2021.0                   1.0  ...         1.800000e+01          NaN\n",
              "max             2021.0                   1.0  ...         1.900000e+01          NaN\n",
              "\n",
              "[8 rows x 58 columns]"
            ]
          },
          "metadata": {},
          "execution_count": 9
        }
      ],
      "source": [
        "Formula_pd.describe()"
      ]
    },
    {
      "cell_type": "code",
      "execution_count": 10,
      "id": "e9083261",
      "metadata": {
        "execution": {
          "iopub.execute_input": "2022-02-21T19:30:09.772237Z",
          "iopub.status.busy": "2022-02-21T19:30:09.771264Z",
          "iopub.status.idle": "2022-02-21T19:30:10.370610Z",
          "shell.execute_reply": "2022-02-21T19:30:10.371127Z",
          "shell.execute_reply.started": "2022-02-21T18:40:20.264411Z"
        },
        "papermill": {
          "duration": 0.69195,
          "end_time": "2022-02-21T19:30:10.371349",
          "exception": false,
          "start_time": "2022-02-21T19:30:09.679399",
          "status": "completed"
        },
        "tags": [],
        "id": "e9083261"
      },
      "outputs": [],
      "source": [
        "Formula_pd=Formula_pd[Formula_pd.M_NUM_WEATHER_FORECAST_SAMPLES!=0]"
      ]
    },
    {
      "cell_type": "code",
      "execution_count": 11,
      "id": "9890aae0",
      "metadata": {
        "execution": {
          "iopub.execute_input": "2022-02-21T19:30:10.582932Z",
          "iopub.status.busy": "2022-02-21T19:30:10.582132Z",
          "iopub.status.idle": "2022-02-21T19:30:10.585577Z",
          "shell.execute_reply": "2022-02-21T19:30:10.586096Z",
          "shell.execute_reply.started": "2022-02-21T18:40:20.837748Z"
        },
        "papermill": {
          "duration": 0.120342,
          "end_time": "2022-02-21T19:30:10.586293",
          "exception": false,
          "start_time": "2022-02-21T19:30:10.465951",
          "status": "completed"
        },
        "tags": [],
        "id": "9890aae0",
        "outputId": "87fdc9c0-8978-47e3-efc4-c3c79b82b909",
        "colab": {
          "base_uri": "https://localhost:8080/"
        }
      },
      "outputs": [
        {
          "output_type": "execute_result",
          "data": {
            "text/plain": [
              "(2745117, 59)"
            ]
          },
          "metadata": {},
          "execution_count": 11
        }
      ],
      "source": [
        "Formula_pd.shape"
      ]
    },
    {
      "cell_type": "code",
      "execution_count": 12,
      "id": "2d08fdb4",
      "metadata": {
        "execution": {
          "iopub.execute_input": "2022-02-21T19:30:10.767111Z",
          "iopub.status.busy": "2022-02-21T19:30:10.766103Z",
          "iopub.status.idle": "2022-02-21T19:30:11.666811Z",
          "shell.execute_reply": "2022-02-21T19:30:11.667364Z",
          "shell.execute_reply.started": "2022-02-21T18:40:20.861566Z"
        },
        "papermill": {
          "duration": 0.993126,
          "end_time": "2022-02-21T19:30:11.667593",
          "exception": false,
          "start_time": "2022-02-21T19:30:10.674467",
          "status": "completed"
        },
        "tags": [],
        "id": "2d08fdb4"
      },
      "outputs": [],
      "source": [
        "Formula_pd=Formula_pd[Formula_pd.M_SESSION_UID!=0]"
      ]
    },
    {
      "cell_type": "code",
      "execution_count": 13,
      "id": "b4b7245f",
      "metadata": {
        "execution": {
          "iopub.execute_input": "2022-02-21T19:30:11.847922Z",
          "iopub.status.busy": "2022-02-21T19:30:11.846936Z",
          "iopub.status.idle": "2022-02-21T19:30:11.852755Z",
          "shell.execute_reply": "2022-02-21T19:30:11.853295Z",
          "shell.execute_reply.started": "2022-02-21T18:40:21.581244Z"
        },
        "papermill": {
          "duration": 0.098326,
          "end_time": "2022-02-21T19:30:11.853489",
          "exception": false,
          "start_time": "2022-02-21T19:30:11.755163",
          "status": "completed"
        },
        "tags": [],
        "id": "b4b7245f",
        "outputId": "1a37d5a0-a8e3-4ad9-d084-96a571a5cce2",
        "colab": {
          "base_uri": "https://localhost:8080/"
        }
      },
      "outputs": [
        {
          "output_type": "execute_result",
          "data": {
            "text/plain": [
              "(2745117, 59)"
            ]
          },
          "metadata": {},
          "execution_count": 13
        }
      ],
      "source": [
        "Formula_pd.shape"
      ]
    },
    {
      "cell_type": "code",
      "execution_count": 14,
      "id": "814d5cee",
      "metadata": {
        "execution": {
          "iopub.execute_input": "2022-02-21T19:30:12.039431Z",
          "iopub.status.busy": "2022-02-21T19:30:12.038748Z",
          "iopub.status.idle": "2022-02-21T19:30:12.041580Z",
          "shell.execute_reply": "2022-02-21T19:30:12.042099Z",
          "shell.execute_reply.started": "2022-02-21T18:40:21.591098Z"
        },
        "papermill": {
          "duration": 0.09875,
          "end_time": "2022-02-21T19:30:12.042301",
          "exception": false,
          "start_time": "2022-02-21T19:30:11.943551",
          "status": "completed"
        },
        "tags": [],
        "id": "814d5cee",
        "outputId": "2a61d5ff-c0cd-4792-a888-66ab5b7b112d",
        "colab": {
          "base_uri": "https://localhost:8080/"
        }
      },
      "outputs": [
        {
          "output_type": "execute_result",
          "data": {
            "text/plain": [
              "Index(['M_PACKET_FORMAT', 'M_GAME_MAJOR_VERSION', 'M_GAME_MINOR_VERSION',\n",
              "       'M_PACKET_VERSION', 'M_PACKET_ID', 'M_SESSION_UID', 'M_SESSION_TIME',\n",
              "       'M_FRAME_IDENTIFIER', 'M_PLAYER_CAR_INDEX',\n",
              "       'M_SECONDARY_PLAYER_CAR_INDEX', 'M_BRAKING_ASSIST',\n",
              "       'M_SESSION_LINK_IDENTIFIER', 'M_PIT_RELEASE_ASSIST', 'TIMESTAMP',\n",
              "       'M_ZONE_START', 'M_ZONE_FLAG', 'M_PIT_STOP_WINDOW_IDEAL_LAP',\n",
              "       'M_TRACK_TEMPERATURE', 'M_TRACK_LENGTH', 'M_GAME_PAUSED',\n",
              "       'M_FORECAST_ACCURACY', 'GAMEHOST', 'M_AIR_TEMPERATURE',\n",
              "       'M_NUM_WEATHER_FORECAST_SAMPLES', 'M_SLI_PRO_NATIVE_SUPPORT',\n",
              "       'M_SAFETY_CAR_STATUS', 'M_TRACK_ID', 'M_ERSASSIST', 'M_FORMULA',\n",
              "       'M_SEASON_LINK_IDENTIFIER', 'M_PIT_ASSIST', 'M_GEARBOX_ASSIST',\n",
              "       'M_SESSION_TYPE', 'M_SPECTATOR_CAR_INDEX',\n",
              "       'M_PIT_STOP_WINDOW_LATEST_LAP', 'M_WEEKEND_LINK_IDENTIFIER',\n",
              "       'M_DYNAMIC_RACING_LINE_TYPE', 'M_SESSION_TIME_LEFT',\n",
              "       'M_SESSION_DURATION', 'M_PIT_STOP_REJOIN_POSITION',\n",
              "       'M_WEATHER_FORECAST_SAMPLES_M_SESSION_TYPE', 'M_TIME_OFFSET',\n",
              "       'M_WEATHER_FORECAST_SAMPLES_M_WEATHER',\n",
              "       'M_WEATHER_FORECAST_SAMPLES_M_TRACK_TEMPERATURE',\n",
              "       'M_TRACK_TEMPERATURE_CHANGE',\n",
              "       'M_WEATHER_FORECAST_SAMPLES_M_AIR_TEMPERATURE',\n",
              "       'M_AIR_TEMPERATURE_CHANGE', 'M_RAIN_PERCENTAGE', 'M_WEATHER',\n",
              "       'M_AI_DIFFICULTY', 'M_PIT_SPEED_LIMIT', 'M_NETWORK_GAME',\n",
              "       'M_TOTAL_LAPS', 'M_STEERING_ASSIST', 'M_IS_SPECTATING',\n",
              "       'M_DYNAMIC_RACING_LINE', 'M_DRSASSIST', 'M_NUM_MARSHAL_ZONES',\n",
              "       'Unnamed: 58'],\n",
              "      dtype='object')"
            ]
          },
          "metadata": {},
          "execution_count": 14
        }
      ],
      "source": [
        "Formula_pd.columns"
      ]
    },
    {
      "cell_type": "code",
      "execution_count": 15,
      "id": "664fb3da",
      "metadata": {
        "execution": {
          "iopub.execute_input": "2022-02-21T19:30:12.225067Z",
          "iopub.status.busy": "2022-02-21T19:30:12.224003Z",
          "iopub.status.idle": "2022-02-21T19:30:12.246638Z",
          "shell.execute_reply": "2022-02-21T19:30:12.247211Z",
          "shell.execute_reply.started": "2022-02-21T18:40:21.609222Z"
        },
        "papermill": {
          "duration": 0.115298,
          "end_time": "2022-02-21T19:30:12.247412",
          "exception": false,
          "start_time": "2022-02-21T19:30:12.132114",
          "status": "completed"
        },
        "tags": [],
        "id": "664fb3da",
        "outputId": "d3f9075d-c1e7-493a-bd45-f9ed19a6aa2d",
        "colab": {
          "base_uri": "https://localhost:8080/"
        }
      },
      "outputs": [
        {
          "output_type": "execute_result",
          "data": {
            "text/plain": [
              "array([0])"
            ]
          },
          "metadata": {},
          "execution_count": 15
        }
      ],
      "source": [
        "Formula_pd['M_SAFETY_CAR_STATUS'].unique()"
      ]
    },
    {
      "cell_type": "code",
      "execution_count": 16,
      "id": "1b1a09e9",
      "metadata": {
        "execution": {
          "iopub.execute_input": "2022-02-21T19:30:12.429804Z",
          "iopub.status.busy": "2022-02-21T19:30:12.429117Z",
          "iopub.status.idle": "2022-02-21T19:30:12.901321Z",
          "shell.execute_reply": "2022-02-21T19:30:12.901827Z",
          "shell.execute_reply.started": "2022-02-21T18:40:21.643129Z"
        },
        "papermill": {
          "duration": 0.566456,
          "end_time": "2022-02-21T19:30:12.902030",
          "exception": false,
          "start_time": "2022-02-21T19:30:12.335574",
          "status": "completed"
        },
        "tags": [],
        "id": "1b1a09e9",
        "outputId": "27fd310e-d152-4fa4-9819-73a10d4d1e06",
        "colab": {
          "base_uri": "https://localhost:8080/"
        }
      },
      "outputs": [
        {
          "output_type": "execute_result",
          "data": {
            "text/plain": [
              "M_PACKET_FORMAT                                         0\n",
              "M_GAME_MAJOR_VERSION                                    0\n",
              "M_GAME_MINOR_VERSION                                    0\n",
              "M_PACKET_VERSION                                        0\n",
              "M_PACKET_ID                                             0\n",
              "M_SESSION_UID                                           0\n",
              "M_SESSION_TIME                                          0\n",
              "M_FRAME_IDENTIFIER                                      0\n",
              "M_PLAYER_CAR_INDEX                                      0\n",
              "M_SECONDARY_PLAYER_CAR_INDEX                            0\n",
              "M_BRAKING_ASSIST                                        0\n",
              "M_SESSION_LINK_IDENTIFIER                               0\n",
              "M_PIT_RELEASE_ASSIST                                    0\n",
              "TIMESTAMP                                               0\n",
              "M_ZONE_START                                      1996446\n",
              "M_ZONE_FLAG                                       1996446\n",
              "M_PIT_STOP_WINDOW_IDEAL_LAP                             0\n",
              "M_TRACK_TEMPERATURE                                     0\n",
              "M_TRACK_LENGTH                                          0\n",
              "M_GAME_PAUSED                                           0\n",
              "M_FORECAST_ACCURACY                                     0\n",
              "GAMEHOST                                           907445\n",
              "M_AIR_TEMPERATURE                                       0\n",
              "M_NUM_WEATHER_FORECAST_SAMPLES                          0\n",
              "M_SLI_PRO_NATIVE_SUPPORT                                0\n",
              "M_SAFETY_CAR_STATUS                                     0\n",
              "M_TRACK_ID                                              0\n",
              "M_ERSASSIST                                             0\n",
              "M_FORMULA                                               0\n",
              "M_SEASON_LINK_IDENTIFIER                                0\n",
              "M_PIT_ASSIST                                            0\n",
              "M_GEARBOX_ASSIST                                        0\n",
              "M_SESSION_TYPE                                          0\n",
              "M_SPECTATOR_CAR_INDEX                                   0\n",
              "M_PIT_STOP_WINDOW_LATEST_LAP                            0\n",
              "M_WEEKEND_LINK_IDENTIFIER                               0\n",
              "M_DYNAMIC_RACING_LINE_TYPE                              0\n",
              "M_SESSION_TIME_LEFT                                     0\n",
              "M_SESSION_DURATION                                      0\n",
              "M_PIT_STOP_REJOIN_POSITION                              0\n",
              "M_WEATHER_FORECAST_SAMPLES_M_SESSION_TYPE          748671\n",
              "M_TIME_OFFSET                                      748671\n",
              "M_WEATHER_FORECAST_SAMPLES_M_WEATHER               748671\n",
              "M_WEATHER_FORECAST_SAMPLES_M_TRACK_TEMPERATURE     748671\n",
              "M_TRACK_TEMPERATURE_CHANGE                         748671\n",
              "M_WEATHER_FORECAST_SAMPLES_M_AIR_TEMPERATURE       748671\n",
              "M_AIR_TEMPERATURE_CHANGE                           748671\n",
              "M_RAIN_PERCENTAGE                                  748671\n",
              "M_WEATHER                                               0\n",
              "M_AI_DIFFICULTY                                         0\n",
              "M_PIT_SPEED_LIMIT                                       0\n",
              "M_NETWORK_GAME                                          1\n",
              "M_TOTAL_LAPS                                            1\n",
              "M_STEERING_ASSIST                                       1\n",
              "M_IS_SPECTATING                                         1\n",
              "M_DYNAMIC_RACING_LINE                                   1\n",
              "M_DRSASSIST                                             1\n",
              "M_NUM_MARSHAL_ZONES                                     1\n",
              "Unnamed: 58                                       2745117\n",
              "dtype: int64"
            ]
          },
          "metadata": {},
          "execution_count": 16
        }
      ],
      "source": [
        "Formula_pd.isnull().sum()"
      ]
    },
    {
      "cell_type": "code",
      "execution_count": 17,
      "id": "dbc77d7c",
      "metadata": {
        "execution": {
          "iopub.execute_input": "2022-02-21T19:30:13.094409Z",
          "iopub.status.busy": "2022-02-21T19:30:13.093710Z",
          "iopub.status.idle": "2022-02-21T19:30:13.120235Z",
          "shell.execute_reply": "2022-02-21T19:30:13.119625Z",
          "shell.execute_reply.started": "2022-02-21T18:40:22.157255Z"
        },
        "papermill": {
          "duration": 0.125488,
          "end_time": "2022-02-21T19:30:13.120401",
          "exception": false,
          "start_time": "2022-02-21T19:30:12.994913",
          "status": "completed"
        },
        "tags": [],
        "id": "dbc77d7c",
        "outputId": "35892286-44d4-4c9e-e95e-7517eecbf2a5",
        "colab": {
          "base_uri": "https://localhost:8080/"
        }
      },
      "outputs": [
        {
          "output_type": "execute_result",
          "data": {
            "text/plain": [
              "array([ nan,   0.,   5.,  10.,  15.,  30.,  45.,  60.,  90., 120.])"
            ]
          },
          "metadata": {},
          "execution_count": 17
        }
      ],
      "source": [
        "Formula_pd['M_TIME_OFFSET'].unique()"
      ]
    },
    {
      "cell_type": "code",
      "execution_count": 18,
      "id": "15d959ae",
      "metadata": {
        "execution": {
          "iopub.execute_input": "2022-02-21T19:30:13.305680Z",
          "iopub.status.busy": "2022-02-21T19:30:13.304735Z",
          "iopub.status.idle": "2022-02-21T19:30:13.342485Z",
          "shell.execute_reply": "2022-02-21T19:30:13.343028Z",
          "shell.execute_reply.started": "2022-02-21T18:40:22.194219Z"
        },
        "papermill": {
          "duration": 0.130961,
          "end_time": "2022-02-21T19:30:13.343193",
          "exception": false,
          "start_time": "2022-02-21T19:30:13.212232",
          "status": "completed"
        },
        "tags": [],
        "id": "15d959ae",
        "outputId": "ec931b0a-56a8-45b7-a51a-f4b7ce86139f",
        "colab": {
          "base_uri": "https://localhost:8080/"
        }
      },
      "outputs": [
        {
          "output_type": "execute_result",
          "data": {
            "text/plain": [
              "34035"
            ]
          },
          "metadata": {},
          "execution_count": 18
        }
      ],
      "source": [
        "len(Formula_pd['M_SESSION_TIME'].unique())"
      ]
    },
    {
      "cell_type": "code",
      "execution_count": 19,
      "id": "fef50249",
      "metadata": {
        "execution": {
          "iopub.execute_input": "2022-02-21T19:30:13.526316Z",
          "iopub.status.busy": "2022-02-21T19:30:13.525371Z",
          "iopub.status.idle": "2022-02-21T19:30:13.853464Z",
          "shell.execute_reply": "2022-02-21T19:30:13.854055Z",
          "shell.execute_reply.started": "2022-02-21T18:40:22.239787Z"
        },
        "papermill": {
          "duration": 0.421386,
          "end_time": "2022-02-21T19:30:13.854238",
          "exception": false,
          "start_time": "2022-02-21T19:30:13.432852",
          "status": "completed"
        },
        "tags": [],
        "id": "fef50249"
      },
      "outputs": [],
      "source": [
        "F1=Formula_pd.drop(columns=['Unnamed: 58'],axis=1,inplace=False)"
      ]
    },
    {
      "cell_type": "code",
      "execution_count": 20,
      "id": "522a8cf9",
      "metadata": {
        "execution": {
          "iopub.execute_input": "2022-02-21T19:30:14.045516Z",
          "iopub.status.busy": "2022-02-21T19:30:14.044537Z",
          "iopub.status.idle": "2022-02-21T19:30:14.558442Z",
          "shell.execute_reply": "2022-02-21T19:30:14.558948Z",
          "shell.execute_reply.started": "2022-02-21T18:40:22.566861Z"
        },
        "papermill": {
          "duration": 0.611513,
          "end_time": "2022-02-21T19:30:14.559161",
          "exception": false,
          "start_time": "2022-02-21T19:30:13.947648",
          "status": "completed"
        },
        "tags": [],
        "id": "522a8cf9",
        "outputId": "6ab9679e-e30d-44e1-899a-8126ba21e032",
        "colab": {
          "base_uri": "https://localhost:8080/"
        }
      },
      "outputs": [
        {
          "output_type": "execute_result",
          "data": {
            "text/plain": [
              "M_PACKET_FORMAT                                         0\n",
              "M_GAME_MAJOR_VERSION                                    0\n",
              "M_GAME_MINOR_VERSION                                    0\n",
              "M_PACKET_VERSION                                        0\n",
              "M_PACKET_ID                                             0\n",
              "M_SESSION_UID                                           0\n",
              "M_SESSION_TIME                                          0\n",
              "M_FRAME_IDENTIFIER                                      0\n",
              "M_PLAYER_CAR_INDEX                                      0\n",
              "M_SECONDARY_PLAYER_CAR_INDEX                            0\n",
              "M_BRAKING_ASSIST                                        0\n",
              "M_SESSION_LINK_IDENTIFIER                               0\n",
              "M_PIT_RELEASE_ASSIST                                    0\n",
              "TIMESTAMP                                               0\n",
              "M_ZONE_START                                      1996446\n",
              "M_ZONE_FLAG                                       1996446\n",
              "M_PIT_STOP_WINDOW_IDEAL_LAP                             0\n",
              "M_TRACK_TEMPERATURE                                     0\n",
              "M_TRACK_LENGTH                                          0\n",
              "M_GAME_PAUSED                                           0\n",
              "M_FORECAST_ACCURACY                                     0\n",
              "GAMEHOST                                           907445\n",
              "M_AIR_TEMPERATURE                                       0\n",
              "M_NUM_WEATHER_FORECAST_SAMPLES                          0\n",
              "M_SLI_PRO_NATIVE_SUPPORT                                0\n",
              "M_SAFETY_CAR_STATUS                                     0\n",
              "M_TRACK_ID                                              0\n",
              "M_ERSASSIST                                             0\n",
              "M_FORMULA                                               0\n",
              "M_SEASON_LINK_IDENTIFIER                                0\n",
              "M_PIT_ASSIST                                            0\n",
              "M_GEARBOX_ASSIST                                        0\n",
              "M_SESSION_TYPE                                          0\n",
              "M_SPECTATOR_CAR_INDEX                                   0\n",
              "M_PIT_STOP_WINDOW_LATEST_LAP                            0\n",
              "M_WEEKEND_LINK_IDENTIFIER                               0\n",
              "M_DYNAMIC_RACING_LINE_TYPE                              0\n",
              "M_SESSION_TIME_LEFT                                     0\n",
              "M_SESSION_DURATION                                      0\n",
              "M_PIT_STOP_REJOIN_POSITION                              0\n",
              "M_WEATHER_FORECAST_SAMPLES_M_SESSION_TYPE          748671\n",
              "M_TIME_OFFSET                                      748671\n",
              "M_WEATHER_FORECAST_SAMPLES_M_WEATHER               748671\n",
              "M_WEATHER_FORECAST_SAMPLES_M_TRACK_TEMPERATURE     748671\n",
              "M_TRACK_TEMPERATURE_CHANGE                         748671\n",
              "M_WEATHER_FORECAST_SAMPLES_M_AIR_TEMPERATURE       748671\n",
              "M_AIR_TEMPERATURE_CHANGE                           748671\n",
              "M_RAIN_PERCENTAGE                                  748671\n",
              "M_WEATHER                                               0\n",
              "M_AI_DIFFICULTY                                         0\n",
              "M_PIT_SPEED_LIMIT                                       0\n",
              "M_NETWORK_GAME                                          1\n",
              "M_TOTAL_LAPS                                            1\n",
              "M_STEERING_ASSIST                                       1\n",
              "M_IS_SPECTATING                                         1\n",
              "M_DYNAMIC_RACING_LINE                                   1\n",
              "M_DRSASSIST                                             1\n",
              "M_NUM_MARSHAL_ZONES                                     1\n",
              "dtype: int64"
            ]
          },
          "metadata": {},
          "execution_count": 20
        }
      ],
      "source": [
        "F1.isnull().sum()"
      ]
    },
    {
      "cell_type": "code",
      "execution_count": 21,
      "id": "985515d7",
      "metadata": {
        "execution": {
          "iopub.execute_input": "2022-02-21T19:30:14.750218Z",
          "iopub.status.busy": "2022-02-21T19:30:14.748199Z",
          "iopub.status.idle": "2022-02-21T19:30:14.789162Z",
          "shell.execute_reply": "2022-02-21T19:30:14.789665Z",
          "shell.execute_reply.started": "2022-02-21T18:40:23.05692Z"
        },
        "papermill": {
          "duration": 0.139676,
          "end_time": "2022-02-21T19:30:14.789861",
          "exception": false,
          "start_time": "2022-02-21T19:30:14.650185",
          "status": "completed"
        },
        "tags": [],
        "id": "985515d7",
        "outputId": "5d744d47-5de1-47d8-e5f9-73ae90bc1483",
        "colab": {
          "base_uri": "https://localhost:8080/"
        }
      },
      "outputs": [
        {
          "output_type": "execute_result",
          "data": {
            "text/plain": [
              "array([1.64272421e+09, 1.64272421e+09, 1.64272421e+09, ...,\n",
              "       1.64228849e+09, 1.64228849e+09, 1.64228849e+09])"
            ]
          },
          "metadata": {},
          "execution_count": 21
        }
      ],
      "source": [
        "Formula_pd['TIMESTAMP'].unique()"
      ]
    },
    {
      "cell_type": "code",
      "execution_count": 22,
      "id": "3fb35b47",
      "metadata": {
        "execution": {
          "iopub.execute_input": "2022-02-21T19:30:14.976101Z",
          "iopub.status.busy": "2022-02-21T19:30:14.975419Z",
          "iopub.status.idle": "2022-02-21T19:30:14.982574Z",
          "shell.execute_reply": "2022-02-21T19:30:14.983079Z",
          "shell.execute_reply.started": "2022-02-21T18:40:23.100452Z"
        },
        "papermill": {
          "duration": 0.102129,
          "end_time": "2022-02-21T19:30:14.983279",
          "exception": false,
          "start_time": "2022-02-21T19:30:14.881150",
          "status": "completed"
        },
        "tags": [],
        "id": "3fb35b47",
        "outputId": "2ca4fd9f-d711-4424-a6c1-35908ed1202d",
        "colab": {
          "base_uri": "https://localhost:8080/"
        }
      },
      "outputs": [
        {
          "output_type": "execute_result",
          "data": {
            "text/plain": [
              "M_PACKET_FORMAT                                     int64\n",
              "M_GAME_MAJOR_VERSION                                int64\n",
              "M_GAME_MINOR_VERSION                                int64\n",
              "M_PACKET_VERSION                                    int64\n",
              "M_PACKET_ID                                         int64\n",
              "M_SESSION_UID                                      uint64\n",
              "M_SESSION_TIME                                    float64\n",
              "M_FRAME_IDENTIFIER                                  int64\n",
              "M_PLAYER_CAR_INDEX                                  int64\n",
              "M_SECONDARY_PLAYER_CAR_INDEX                        int64\n",
              "M_BRAKING_ASSIST                                    int64\n",
              "M_SESSION_LINK_IDENTIFIER                           int64\n",
              "M_PIT_RELEASE_ASSIST                                int64\n",
              "TIMESTAMP                                         float64\n",
              "M_ZONE_START                                      float64\n",
              "M_ZONE_FLAG                                       float64\n",
              "M_PIT_STOP_WINDOW_IDEAL_LAP                         int64\n",
              "M_TRACK_TEMPERATURE                                 int64\n",
              "M_TRACK_LENGTH                                      int64\n",
              "M_GAME_PAUSED                                       int64\n",
              "M_FORECAST_ACCURACY                                 int64\n",
              "GAMEHOST                                           object\n",
              "M_AIR_TEMPERATURE                                   int64\n",
              "M_NUM_WEATHER_FORECAST_SAMPLES                      int64\n",
              "M_SLI_PRO_NATIVE_SUPPORT                            int64\n",
              "M_SAFETY_CAR_STATUS                                 int64\n",
              "M_TRACK_ID                                          int64\n",
              "M_ERSASSIST                                         int64\n",
              "M_FORMULA                                           int64\n",
              "M_SEASON_LINK_IDENTIFIER                            int64\n",
              "M_PIT_ASSIST                                        int64\n",
              "M_GEARBOX_ASSIST                                    int64\n",
              "M_SESSION_TYPE                                      int64\n",
              "M_SPECTATOR_CAR_INDEX                               int64\n",
              "M_PIT_STOP_WINDOW_LATEST_LAP                        int64\n",
              "M_WEEKEND_LINK_IDENTIFIER                           int64\n",
              "M_DYNAMIC_RACING_LINE_TYPE                          int64\n",
              "M_SESSION_TIME_LEFT                                 int64\n",
              "M_SESSION_DURATION                                  int64\n",
              "M_PIT_STOP_REJOIN_POSITION                          int64\n",
              "M_WEATHER_FORECAST_SAMPLES_M_SESSION_TYPE         float64\n",
              "M_TIME_OFFSET                                     float64\n",
              "M_WEATHER_FORECAST_SAMPLES_M_WEATHER              float64\n",
              "M_WEATHER_FORECAST_SAMPLES_M_TRACK_TEMPERATURE    float64\n",
              "M_TRACK_TEMPERATURE_CHANGE                        float64\n",
              "M_WEATHER_FORECAST_SAMPLES_M_AIR_TEMPERATURE      float64\n",
              "M_AIR_TEMPERATURE_CHANGE                          float64\n",
              "M_RAIN_PERCENTAGE                                 float64\n",
              "M_WEATHER                                           int64\n",
              "M_AI_DIFFICULTY                                     int64\n",
              "M_PIT_SPEED_LIMIT                                   int64\n",
              "M_NETWORK_GAME                                    float64\n",
              "M_TOTAL_LAPS                                      float64\n",
              "M_STEERING_ASSIST                                 float64\n",
              "M_IS_SPECTATING                                   float64\n",
              "M_DYNAMIC_RACING_LINE                             float64\n",
              "M_DRSASSIST                                       float64\n",
              "M_NUM_MARSHAL_ZONES                               float64\n",
              "dtype: object"
            ]
          },
          "metadata": {},
          "execution_count": 22
        }
      ],
      "source": [
        "F1.dtypes"
      ]
    },
    {
      "cell_type": "code",
      "execution_count": 23,
      "id": "2396ab88",
      "metadata": {
        "execution": {
          "iopub.execute_input": "2022-02-21T19:30:15.173562Z",
          "iopub.status.busy": "2022-02-21T19:30:15.172881Z",
          "iopub.status.idle": "2022-02-21T19:30:15.178669Z",
          "shell.execute_reply": "2022-02-21T19:30:15.178141Z",
          "shell.execute_reply.started": "2022-02-21T18:40:23.112044Z"
        },
        "papermill": {
          "duration": 0.102265,
          "end_time": "2022-02-21T19:30:15.178828",
          "exception": false,
          "start_time": "2022-02-21T19:30:15.076563",
          "status": "completed"
        },
        "tags": [],
        "id": "2396ab88",
        "outputId": "e1077cdb-b0c6-4b5c-d790-2d1c39a5b60d",
        "colab": {
          "base_uri": "https://localhost:8080/"
        }
      },
      "outputs": [
        {
          "output_type": "execute_result",
          "data": {
            "text/plain": [
              "(2745117, 58)"
            ]
          },
          "metadata": {},
          "execution_count": 23
        }
      ],
      "source": [
        "F1.shape"
      ]
    },
    {
      "cell_type": "code",
      "execution_count": 24,
      "id": "8198657e",
      "metadata": {
        "execution": {
          "iopub.execute_input": "2022-02-21T19:30:15.367010Z",
          "iopub.status.busy": "2022-02-21T19:30:15.366357Z",
          "iopub.status.idle": "2022-02-21T19:30:15.782477Z",
          "shell.execute_reply": "2022-02-21T19:30:15.782989Z",
          "shell.execute_reply.started": "2022-02-21T18:40:23.12812Z"
        },
        "papermill": {
          "duration": 0.511977,
          "end_time": "2022-02-21T19:30:15.783195",
          "exception": false,
          "start_time": "2022-02-21T19:30:15.271218",
          "status": "completed"
        },
        "tags": [],
        "id": "8198657e",
        "outputId": "42714adb-a66e-40b0-dad1-e9a1cec59fd4",
        "colab": {
          "base_uri": "https://localhost:8080/",
          "height": 270
        }
      },
      "outputs": [
        {
          "output_type": "execute_result",
          "data": {
            "text/html": [
              "\n",
              "  <div id=\"df-84ed0e49-91d9-4db7-9483-745678f4194b\">\n",
              "    <div class=\"colab-df-container\">\n",
              "      <div>\n",
              "<style scoped>\n",
              "    .dataframe tbody tr th:only-of-type {\n",
              "        vertical-align: middle;\n",
              "    }\n",
              "\n",
              "    .dataframe tbody tr th {\n",
              "        vertical-align: top;\n",
              "    }\n",
              "\n",
              "    .dataframe thead th {\n",
              "        text-align: right;\n",
              "    }\n",
              "</style>\n",
              "<table border=\"1\" class=\"dataframe\">\n",
              "  <thead>\n",
              "    <tr style=\"text-align: right;\">\n",
              "      <th></th>\n",
              "      <th>M_FRAME_IDENTIFIER</th>\n",
              "      <th>M_PLAYER_CAR_INDEX</th>\n",
              "      <th>M_SECONDARY_PLAYER_CAR_INDEX</th>\n",
              "      <th>M_BRAKING_ASSIST</th>\n",
              "      <th>M_SESSION_LINK_IDENTIFIER</th>\n",
              "      <th>M_PIT_RELEASE_ASSIST</th>\n",
              "      <th>TIMESTAMP</th>\n",
              "      <th>M_ZONE_START</th>\n",
              "      <th>M_ZONE_FLAG</th>\n",
              "      <th>M_PIT_STOP_WINDOW_IDEAL_LAP</th>\n",
              "      <th>M_TRACK_TEMPERATURE</th>\n",
              "      <th>M_TRACK_LENGTH</th>\n",
              "      <th>M_GAME_PAUSED</th>\n",
              "      <th>M_FORECAST_ACCURACY</th>\n",
              "      <th>GAMEHOST</th>\n",
              "      <th>M_AIR_TEMPERATURE</th>\n",
              "      <th>M_NUM_WEATHER_FORECAST_SAMPLES</th>\n",
              "      <th>M_SLI_PRO_NATIVE_SUPPORT</th>\n",
              "      <th>M_SAFETY_CAR_STATUS</th>\n",
              "      <th>M_TRACK_ID</th>\n",
              "      <th>M_ERSASSIST</th>\n",
              "      <th>M_FORMULA</th>\n",
              "      <th>M_SEASON_LINK_IDENTIFIER</th>\n",
              "      <th>M_PIT_ASSIST</th>\n",
              "      <th>M_GEARBOX_ASSIST</th>\n",
              "      <th>M_SESSION_TYPE</th>\n",
              "      <th>M_SPECTATOR_CAR_INDEX</th>\n",
              "      <th>M_PIT_STOP_WINDOW_LATEST_LAP</th>\n",
              "      <th>M_WEEKEND_LINK_IDENTIFIER</th>\n",
              "      <th>M_DYNAMIC_RACING_LINE_TYPE</th>\n",
              "      <th>M_SESSION_TIME_LEFT</th>\n",
              "      <th>M_SESSION_DURATION</th>\n",
              "      <th>M_PIT_STOP_REJOIN_POSITION</th>\n",
              "      <th>M_WEATHER_FORECAST_SAMPLES_M_SESSION_TYPE</th>\n",
              "      <th>M_TIME_OFFSET</th>\n",
              "      <th>M_WEATHER_FORECAST_SAMPLES_M_WEATHER</th>\n",
              "      <th>M_WEATHER_FORECAST_SAMPLES_M_TRACK_TEMPERATURE</th>\n",
              "      <th>M_TRACK_TEMPERATURE_CHANGE</th>\n",
              "      <th>M_WEATHER_FORECAST_SAMPLES_M_AIR_TEMPERATURE</th>\n",
              "      <th>M_AIR_TEMPERATURE_CHANGE</th>\n",
              "      <th>M_RAIN_PERCENTAGE</th>\n",
              "      <th>M_WEATHER</th>\n",
              "      <th>M_AI_DIFFICULTY</th>\n",
              "      <th>M_PIT_SPEED_LIMIT</th>\n",
              "      <th>M_NETWORK_GAME</th>\n",
              "      <th>M_TOTAL_LAPS</th>\n",
              "      <th>M_STEERING_ASSIST</th>\n",
              "      <th>M_IS_SPECTATING</th>\n",
              "      <th>M_DYNAMIC_RACING_LINE</th>\n",
              "      <th>M_DRSASSIST</th>\n",
              "      <th>M_NUM_MARSHAL_ZONES</th>\n",
              "    </tr>\n",
              "  </thead>\n",
              "  <tbody>\n",
              "    <tr>\n",
              "      <th>17017</th>\n",
              "      <td>1647</td>\n",
              "      <td>0</td>\n",
              "      <td>255</td>\n",
              "      <td>0</td>\n",
              "      <td>1553478724</td>\n",
              "      <td>0</td>\n",
              "      <td>1.642724e+09</td>\n",
              "      <td>0.088</td>\n",
              "      <td>0.0</td>\n",
              "      <td>0</td>\n",
              "      <td>33</td>\n",
              "      <td>4650</td>\n",
              "      <td>0</td>\n",
              "      <td>0</td>\n",
              "      <td>f1digest</td>\n",
              "      <td>25</td>\n",
              "      <td>10</td>\n",
              "      <td>0</td>\n",
              "      <td>0</td>\n",
              "      <td>28</td>\n",
              "      <td>0</td>\n",
              "      <td>0</td>\n",
              "      <td>1553478724</td>\n",
              "      <td>0</td>\n",
              "      <td>1</td>\n",
              "      <td>8</td>\n",
              "      <td>255</td>\n",
              "      <td>0</td>\n",
              "      <td>1553478724</td>\n",
              "      <td>0</td>\n",
              "      <td>1019</td>\n",
              "      <td>1080</td>\n",
              "      <td>0</td>\n",
              "      <td>NaN</td>\n",
              "      <td>NaN</td>\n",
              "      <td>NaN</td>\n",
              "      <td>NaN</td>\n",
              "      <td>NaN</td>\n",
              "      <td>NaN</td>\n",
              "      <td>NaN</td>\n",
              "      <td>NaN</td>\n",
              "      <td>0</td>\n",
              "      <td>31</td>\n",
              "      <td>80</td>\n",
              "      <td>1.0</td>\n",
              "      <td>200.0</td>\n",
              "      <td>0.0</td>\n",
              "      <td>0.0</td>\n",
              "      <td>0.0</td>\n",
              "      <td>0.0</td>\n",
              "      <td>16.0</td>\n",
              "    </tr>\n",
              "    <tr>\n",
              "      <th>17018</th>\n",
              "      <td>1647</td>\n",
              "      <td>0</td>\n",
              "      <td>255</td>\n",
              "      <td>0</td>\n",
              "      <td>1553478724</td>\n",
              "      <td>0</td>\n",
              "      <td>1.642724e+09</td>\n",
              "      <td>0.167</td>\n",
              "      <td>0.0</td>\n",
              "      <td>0</td>\n",
              "      <td>33</td>\n",
              "      <td>4650</td>\n",
              "      <td>0</td>\n",
              "      <td>0</td>\n",
              "      <td>f1digest</td>\n",
              "      <td>25</td>\n",
              "      <td>10</td>\n",
              "      <td>0</td>\n",
              "      <td>0</td>\n",
              "      <td>28</td>\n",
              "      <td>0</td>\n",
              "      <td>0</td>\n",
              "      <td>1553478724</td>\n",
              "      <td>0</td>\n",
              "      <td>1</td>\n",
              "      <td>8</td>\n",
              "      <td>255</td>\n",
              "      <td>0</td>\n",
              "      <td>1553478724</td>\n",
              "      <td>0</td>\n",
              "      <td>1019</td>\n",
              "      <td>1080</td>\n",
              "      <td>0</td>\n",
              "      <td>NaN</td>\n",
              "      <td>NaN</td>\n",
              "      <td>NaN</td>\n",
              "      <td>NaN</td>\n",
              "      <td>NaN</td>\n",
              "      <td>NaN</td>\n",
              "      <td>NaN</td>\n",
              "      <td>NaN</td>\n",
              "      <td>0</td>\n",
              "      <td>31</td>\n",
              "      <td>80</td>\n",
              "      <td>1.0</td>\n",
              "      <td>200.0</td>\n",
              "      <td>0.0</td>\n",
              "      <td>0.0</td>\n",
              "      <td>0.0</td>\n",
              "      <td>0.0</td>\n",
              "      <td>16.0</td>\n",
              "    </tr>\n",
              "    <tr>\n",
              "      <th>17019</th>\n",
              "      <td>1647</td>\n",
              "      <td>0</td>\n",
              "      <td>255</td>\n",
              "      <td>0</td>\n",
              "      <td>1553478724</td>\n",
              "      <td>0</td>\n",
              "      <td>1.642724e+09</td>\n",
              "      <td>0.238</td>\n",
              "      <td>0.0</td>\n",
              "      <td>0</td>\n",
              "      <td>33</td>\n",
              "      <td>4650</td>\n",
              "      <td>0</td>\n",
              "      <td>0</td>\n",
              "      <td>f1digest</td>\n",
              "      <td>25</td>\n",
              "      <td>10</td>\n",
              "      <td>0</td>\n",
              "      <td>0</td>\n",
              "      <td>28</td>\n",
              "      <td>0</td>\n",
              "      <td>0</td>\n",
              "      <td>1553478724</td>\n",
              "      <td>0</td>\n",
              "      <td>1</td>\n",
              "      <td>8</td>\n",
              "      <td>255</td>\n",
              "      <td>0</td>\n",
              "      <td>1553478724</td>\n",
              "      <td>0</td>\n",
              "      <td>1019</td>\n",
              "      <td>1080</td>\n",
              "      <td>0</td>\n",
              "      <td>NaN</td>\n",
              "      <td>NaN</td>\n",
              "      <td>NaN</td>\n",
              "      <td>NaN</td>\n",
              "      <td>NaN</td>\n",
              "      <td>NaN</td>\n",
              "      <td>NaN</td>\n",
              "      <td>NaN</td>\n",
              "      <td>0</td>\n",
              "      <td>31</td>\n",
              "      <td>80</td>\n",
              "      <td>1.0</td>\n",
              "      <td>200.0</td>\n",
              "      <td>0.0</td>\n",
              "      <td>0.0</td>\n",
              "      <td>0.0</td>\n",
              "      <td>0.0</td>\n",
              "      <td>16.0</td>\n",
              "    </tr>\n",
              "    <tr>\n",
              "      <th>17020</th>\n",
              "      <td>1647</td>\n",
              "      <td>0</td>\n",
              "      <td>255</td>\n",
              "      <td>0</td>\n",
              "      <td>1553478724</td>\n",
              "      <td>0</td>\n",
              "      <td>1.642724e+09</td>\n",
              "      <td>0.298</td>\n",
              "      <td>0.0</td>\n",
              "      <td>0</td>\n",
              "      <td>33</td>\n",
              "      <td>4650</td>\n",
              "      <td>0</td>\n",
              "      <td>0</td>\n",
              "      <td>f1digest</td>\n",
              "      <td>25</td>\n",
              "      <td>10</td>\n",
              "      <td>0</td>\n",
              "      <td>0</td>\n",
              "      <td>28</td>\n",
              "      <td>0</td>\n",
              "      <td>0</td>\n",
              "      <td>1553478724</td>\n",
              "      <td>0</td>\n",
              "      <td>1</td>\n",
              "      <td>8</td>\n",
              "      <td>255</td>\n",
              "      <td>0</td>\n",
              "      <td>1553478724</td>\n",
              "      <td>0</td>\n",
              "      <td>1019</td>\n",
              "      <td>1080</td>\n",
              "      <td>0</td>\n",
              "      <td>NaN</td>\n",
              "      <td>NaN</td>\n",
              "      <td>NaN</td>\n",
              "      <td>NaN</td>\n",
              "      <td>NaN</td>\n",
              "      <td>NaN</td>\n",
              "      <td>NaN</td>\n",
              "      <td>NaN</td>\n",
              "      <td>0</td>\n",
              "      <td>31</td>\n",
              "      <td>80</td>\n",
              "      <td>1.0</td>\n",
              "      <td>200.0</td>\n",
              "      <td>0.0</td>\n",
              "      <td>0.0</td>\n",
              "      <td>0.0</td>\n",
              "      <td>0.0</td>\n",
              "      <td>16.0</td>\n",
              "    </tr>\n",
              "    <tr>\n",
              "      <th>17021</th>\n",
              "      <td>1647</td>\n",
              "      <td>0</td>\n",
              "      <td>255</td>\n",
              "      <td>0</td>\n",
              "      <td>1553478724</td>\n",
              "      <td>0</td>\n",
              "      <td>1.642724e+09</td>\n",
              "      <td>0.353</td>\n",
              "      <td>0.0</td>\n",
              "      <td>0</td>\n",
              "      <td>33</td>\n",
              "      <td>4650</td>\n",
              "      <td>0</td>\n",
              "      <td>0</td>\n",
              "      <td>f1digest</td>\n",
              "      <td>25</td>\n",
              "      <td>10</td>\n",
              "      <td>0</td>\n",
              "      <td>0</td>\n",
              "      <td>28</td>\n",
              "      <td>0</td>\n",
              "      <td>0</td>\n",
              "      <td>1553478724</td>\n",
              "      <td>0</td>\n",
              "      <td>1</td>\n",
              "      <td>8</td>\n",
              "      <td>255</td>\n",
              "      <td>0</td>\n",
              "      <td>1553478724</td>\n",
              "      <td>0</td>\n",
              "      <td>1019</td>\n",
              "      <td>1080</td>\n",
              "      <td>0</td>\n",
              "      <td>NaN</td>\n",
              "      <td>NaN</td>\n",
              "      <td>NaN</td>\n",
              "      <td>NaN</td>\n",
              "      <td>NaN</td>\n",
              "      <td>NaN</td>\n",
              "      <td>NaN</td>\n",
              "      <td>NaN</td>\n",
              "      <td>0</td>\n",
              "      <td>31</td>\n",
              "      <td>80</td>\n",
              "      <td>1.0</td>\n",
              "      <td>200.0</td>\n",
              "      <td>0.0</td>\n",
              "      <td>0.0</td>\n",
              "      <td>0.0</td>\n",
              "      <td>0.0</td>\n",
              "      <td>16.0</td>\n",
              "    </tr>\n",
              "  </tbody>\n",
              "</table>\n",
              "</div>\n",
              "      <button class=\"colab-df-convert\" onclick=\"convertToInteractive('df-84ed0e49-91d9-4db7-9483-745678f4194b')\"\n",
              "              title=\"Convert this dataframe to an interactive table.\"\n",
              "              style=\"display:none;\">\n",
              "        \n",
              "  <svg xmlns=\"http://www.w3.org/2000/svg\" height=\"24px\"viewBox=\"0 0 24 24\"\n",
              "       width=\"24px\">\n",
              "    <path d=\"M0 0h24v24H0V0z\" fill=\"none\"/>\n",
              "    <path d=\"M18.56 5.44l.94 2.06.94-2.06 2.06-.94-2.06-.94-.94-2.06-.94 2.06-2.06.94zm-11 1L8.5 8.5l.94-2.06 2.06-.94-2.06-.94L8.5 2.5l-.94 2.06-2.06.94zm10 10l.94 2.06.94-2.06 2.06-.94-2.06-.94-.94-2.06-.94 2.06-2.06.94z\"/><path d=\"M17.41 7.96l-1.37-1.37c-.4-.4-.92-.59-1.43-.59-.52 0-1.04.2-1.43.59L10.3 9.45l-7.72 7.72c-.78.78-.78 2.05 0 2.83L4 21.41c.39.39.9.59 1.41.59.51 0 1.02-.2 1.41-.59l7.78-7.78 2.81-2.81c.8-.78.8-2.07 0-2.86zM5.41 20L4 18.59l7.72-7.72 1.47 1.35L5.41 20z\"/>\n",
              "  </svg>\n",
              "      </button>\n",
              "      \n",
              "  <style>\n",
              "    .colab-df-container {\n",
              "      display:flex;\n",
              "      flex-wrap:wrap;\n",
              "      gap: 12px;\n",
              "    }\n",
              "\n",
              "    .colab-df-convert {\n",
              "      background-color: #E8F0FE;\n",
              "      border: none;\n",
              "      border-radius: 50%;\n",
              "      cursor: pointer;\n",
              "      display: none;\n",
              "      fill: #1967D2;\n",
              "      height: 32px;\n",
              "      padding: 0 0 0 0;\n",
              "      width: 32px;\n",
              "    }\n",
              "\n",
              "    .colab-df-convert:hover {\n",
              "      background-color: #E2EBFA;\n",
              "      box-shadow: 0px 1px 2px rgba(60, 64, 67, 0.3), 0px 1px 3px 1px rgba(60, 64, 67, 0.15);\n",
              "      fill: #174EA6;\n",
              "    }\n",
              "\n",
              "    [theme=dark] .colab-df-convert {\n",
              "      background-color: #3B4455;\n",
              "      fill: #D2E3FC;\n",
              "    }\n",
              "\n",
              "    [theme=dark] .colab-df-convert:hover {\n",
              "      background-color: #434B5C;\n",
              "      box-shadow: 0px 1px 3px 1px rgba(0, 0, 0, 0.15);\n",
              "      filter: drop-shadow(0px 1px 2px rgba(0, 0, 0, 0.3));\n",
              "      fill: #FFFFFF;\n",
              "    }\n",
              "  </style>\n",
              "\n",
              "      <script>\n",
              "        const buttonEl =\n",
              "          document.querySelector('#df-84ed0e49-91d9-4db7-9483-745678f4194b button.colab-df-convert');\n",
              "        buttonEl.style.display =\n",
              "          google.colab.kernel.accessAllowed ? 'block' : 'none';\n",
              "\n",
              "        async function convertToInteractive(key) {\n",
              "          const element = document.querySelector('#df-84ed0e49-91d9-4db7-9483-745678f4194b');\n",
              "          const dataTable =\n",
              "            await google.colab.kernel.invokeFunction('convertToInteractive',\n",
              "                                                     [key], {});\n",
              "          if (!dataTable) return;\n",
              "\n",
              "          const docLinkHtml = 'Like what you see? Visit the ' +\n",
              "            '<a target=\"_blank\" href=https://colab.research.google.com/notebooks/data_table.ipynb>data table notebook</a>'\n",
              "            + ' to learn more about interactive tables.';\n",
              "          element.innerHTML = '';\n",
              "          dataTable['output_type'] = 'display_data';\n",
              "          await google.colab.output.renderOutput(dataTable, element);\n",
              "          const docLink = document.createElement('div');\n",
              "          docLink.innerHTML = docLinkHtml;\n",
              "          element.appendChild(docLink);\n",
              "        }\n",
              "      </script>\n",
              "    </div>\n",
              "  </div>\n",
              "  "
            ],
            "text/plain": [
              "       M_FRAME_IDENTIFIER  M_PLAYER_CAR_INDEX  ...  M_DRSASSIST  M_NUM_MARSHAL_ZONES\n",
              "17017                1647                   0  ...          0.0                 16.0\n",
              "17018                1647                   0  ...          0.0                 16.0\n",
              "17019                1647                   0  ...          0.0                 16.0\n",
              "17020                1647                   0  ...          0.0                 16.0\n",
              "17021                1647                   0  ...          0.0                 16.0\n",
              "\n",
              "[5 rows x 51 columns]"
            ]
          },
          "metadata": {},
          "execution_count": 24
        }
      ],
      "source": [
        "F1=F1.iloc[:,7:]\n",
        "F1.head()"
      ]
    },
    {
      "cell_type": "code",
      "execution_count": 25,
      "id": "3bbb9eda",
      "metadata": {
        "execution": {
          "iopub.execute_input": "2022-02-21T19:30:15.974786Z",
          "iopub.status.busy": "2022-02-21T19:30:15.972117Z",
          "iopub.status.idle": "2022-02-21T19:30:15.977377Z",
          "shell.execute_reply": "2022-02-21T19:30:15.977874Z",
          "shell.execute_reply.started": "2022-02-21T18:40:23.570192Z"
        },
        "papermill": {
          "duration": 0.101984,
          "end_time": "2022-02-21T19:30:15.978090",
          "exception": false,
          "start_time": "2022-02-21T19:30:15.876106",
          "status": "completed"
        },
        "tags": [],
        "id": "3bbb9eda",
        "outputId": "f40489a6-8954-4937-af22-2152a315987b",
        "colab": {
          "base_uri": "https://localhost:8080/"
        }
      },
      "outputs": [
        {
          "output_type": "execute_result",
          "data": {
            "text/plain": [
              "(2745117, 51)"
            ]
          },
          "metadata": {},
          "execution_count": 25
        }
      ],
      "source": [
        "F1.shape"
      ]
    },
    {
      "cell_type": "code",
      "execution_count": 26,
      "id": "101bc8e6",
      "metadata": {
        "execution": {
          "iopub.execute_input": "2022-02-21T19:30:16.173728Z",
          "iopub.status.busy": "2022-02-21T19:30:16.172931Z",
          "iopub.status.idle": "2022-02-21T19:30:16.176405Z",
          "shell.execute_reply": "2022-02-21T19:30:16.176879Z",
          "shell.execute_reply.started": "2022-02-21T18:40:23.578276Z"
        },
        "papermill": {
          "duration": 0.102968,
          "end_time": "2022-02-21T19:30:16.177092",
          "exception": false,
          "start_time": "2022-02-21T19:30:16.074124",
          "status": "completed"
        },
        "tags": [],
        "id": "101bc8e6",
        "outputId": "1b0e894e-307e-466f-ae7f-5f7193f24c04",
        "colab": {
          "base_uri": "https://localhost:8080/"
        }
      },
      "outputs": [
        {
          "output_type": "execute_result",
          "data": {
            "text/plain": [
              "Index(['M_FRAME_IDENTIFIER', 'M_PLAYER_CAR_INDEX',\n",
              "       'M_SECONDARY_PLAYER_CAR_INDEX', 'M_BRAKING_ASSIST',\n",
              "       'M_SESSION_LINK_IDENTIFIER', 'M_PIT_RELEASE_ASSIST', 'TIMESTAMP',\n",
              "       'M_ZONE_START', 'M_ZONE_FLAG', 'M_PIT_STOP_WINDOW_IDEAL_LAP',\n",
              "       'M_TRACK_TEMPERATURE', 'M_TRACK_LENGTH', 'M_GAME_PAUSED',\n",
              "       'M_FORECAST_ACCURACY', 'GAMEHOST', 'M_AIR_TEMPERATURE',\n",
              "       'M_NUM_WEATHER_FORECAST_SAMPLES', 'M_SLI_PRO_NATIVE_SUPPORT',\n",
              "       'M_SAFETY_CAR_STATUS', 'M_TRACK_ID', 'M_ERSASSIST', 'M_FORMULA',\n",
              "       'M_SEASON_LINK_IDENTIFIER', 'M_PIT_ASSIST', 'M_GEARBOX_ASSIST',\n",
              "       'M_SESSION_TYPE', 'M_SPECTATOR_CAR_INDEX',\n",
              "       'M_PIT_STOP_WINDOW_LATEST_LAP', 'M_WEEKEND_LINK_IDENTIFIER',\n",
              "       'M_DYNAMIC_RACING_LINE_TYPE', 'M_SESSION_TIME_LEFT',\n",
              "       'M_SESSION_DURATION', 'M_PIT_STOP_REJOIN_POSITION',\n",
              "       'M_WEATHER_FORECAST_SAMPLES_M_SESSION_TYPE', 'M_TIME_OFFSET',\n",
              "       'M_WEATHER_FORECAST_SAMPLES_M_WEATHER',\n",
              "       'M_WEATHER_FORECAST_SAMPLES_M_TRACK_TEMPERATURE',\n",
              "       'M_TRACK_TEMPERATURE_CHANGE',\n",
              "       'M_WEATHER_FORECAST_SAMPLES_M_AIR_TEMPERATURE',\n",
              "       'M_AIR_TEMPERATURE_CHANGE', 'M_RAIN_PERCENTAGE', 'M_WEATHER',\n",
              "       'M_AI_DIFFICULTY', 'M_PIT_SPEED_LIMIT', 'M_NETWORK_GAME',\n",
              "       'M_TOTAL_LAPS', 'M_STEERING_ASSIST', 'M_IS_SPECTATING',\n",
              "       'M_DYNAMIC_RACING_LINE', 'M_DRSASSIST', 'M_NUM_MARSHAL_ZONES'],\n",
              "      dtype='object')"
            ]
          },
          "metadata": {},
          "execution_count": 26
        }
      ],
      "source": [
        "F1.columns"
      ]
    },
    {
      "cell_type": "code",
      "execution_count": 27,
      "id": "5bf3bcd1",
      "metadata": {
        "execution": {
          "iopub.execute_input": "2022-02-21T19:30:16.371164Z",
          "iopub.status.busy": "2022-02-21T19:30:16.370439Z",
          "iopub.status.idle": "2022-02-21T19:30:16.527538Z",
          "shell.execute_reply": "2022-02-21T19:30:16.528076Z",
          "shell.execute_reply.started": "2022-02-21T18:40:23.595013Z"
        },
        "papermill": {
          "duration": 0.257665,
          "end_time": "2022-02-21T19:30:16.528307",
          "exception": false,
          "start_time": "2022-02-21T19:30:16.270642",
          "status": "completed"
        },
        "tags": [],
        "id": "5bf3bcd1"
      },
      "outputs": [],
      "source": [
        "F1.drop(columns=['M_PIT_RELEASE_ASSIST','M_GEARBOX_ASSIST','M_GAME_PAUSED','GAMEHOST','M_SLI_PRO_NATIVE_SUPPORT','M_SAFETY_CAR_STATUS','M_FORMULA','M_PIT_ASSIST','M_SPECTATOR_CAR_INDEX','M_DYNAMIC_RACING_LINE_TYPE','M_AI_DIFFICULTY','M_NETWORK_GAME','M_STEERING_ASSIST','M_IS_SPECTATING'],inplace=True)"
      ]
    },
    {
      "cell_type": "code",
      "execution_count": 28,
      "id": "acc7894b",
      "metadata": {
        "execution": {
          "iopub.execute_input": "2022-02-21T19:30:16.723270Z",
          "iopub.status.busy": "2022-02-21T19:30:16.722581Z",
          "iopub.status.idle": "2022-02-21T19:30:16.725226Z",
          "shell.execute_reply": "2022-02-21T19:30:16.725702Z",
          "shell.execute_reply.started": "2022-02-21T18:40:23.771503Z"
        },
        "papermill": {
          "duration": 0.102189,
          "end_time": "2022-02-21T19:30:16.725883",
          "exception": false,
          "start_time": "2022-02-21T19:30:16.623694",
          "status": "completed"
        },
        "tags": [],
        "id": "acc7894b",
        "outputId": "432dac6d-995d-4c45-d212-d2a0faa5aaf0",
        "colab": {
          "base_uri": "https://localhost:8080/"
        }
      },
      "outputs": [
        {
          "output_type": "execute_result",
          "data": {
            "text/plain": [
              "(2745117, 37)"
            ]
          },
          "metadata": {},
          "execution_count": 28
        }
      ],
      "source": [
        "F1.shape"
      ]
    },
    {
      "cell_type": "code",
      "execution_count": 29,
      "id": "0edd2883",
      "metadata": {
        "execution": {
          "iopub.execute_input": "2022-02-21T19:30:16.921214Z",
          "iopub.status.busy": "2022-02-21T19:30:16.920488Z",
          "iopub.status.idle": "2022-02-21T19:30:16.923308Z",
          "shell.execute_reply": "2022-02-21T19:30:16.923823Z",
          "shell.execute_reply.started": "2022-02-21T18:40:23.791394Z"
        },
        "papermill": {
          "duration": 0.1035,
          "end_time": "2022-02-21T19:30:16.924034",
          "exception": false,
          "start_time": "2022-02-21T19:30:16.820534",
          "status": "completed"
        },
        "tags": [],
        "id": "0edd2883",
        "outputId": "fd7e3987-b447-40fc-9393-f4c9eabc414c",
        "colab": {
          "base_uri": "https://localhost:8080/"
        }
      },
      "outputs": [
        {
          "output_type": "execute_result",
          "data": {
            "text/plain": [
              "Index(['M_FRAME_IDENTIFIER', 'M_PLAYER_CAR_INDEX',\n",
              "       'M_SECONDARY_PLAYER_CAR_INDEX', 'M_BRAKING_ASSIST',\n",
              "       'M_SESSION_LINK_IDENTIFIER', 'TIMESTAMP', 'M_ZONE_START', 'M_ZONE_FLAG',\n",
              "       'M_PIT_STOP_WINDOW_IDEAL_LAP', 'M_TRACK_TEMPERATURE', 'M_TRACK_LENGTH',\n",
              "       'M_FORECAST_ACCURACY', 'M_AIR_TEMPERATURE',\n",
              "       'M_NUM_WEATHER_FORECAST_SAMPLES', 'M_TRACK_ID', 'M_ERSASSIST',\n",
              "       'M_SEASON_LINK_IDENTIFIER', 'M_SESSION_TYPE',\n",
              "       'M_PIT_STOP_WINDOW_LATEST_LAP', 'M_WEEKEND_LINK_IDENTIFIER',\n",
              "       'M_SESSION_TIME_LEFT', 'M_SESSION_DURATION',\n",
              "       'M_PIT_STOP_REJOIN_POSITION',\n",
              "       'M_WEATHER_FORECAST_SAMPLES_M_SESSION_TYPE', 'M_TIME_OFFSET',\n",
              "       'M_WEATHER_FORECAST_SAMPLES_M_WEATHER',\n",
              "       'M_WEATHER_FORECAST_SAMPLES_M_TRACK_TEMPERATURE',\n",
              "       'M_TRACK_TEMPERATURE_CHANGE',\n",
              "       'M_WEATHER_FORECAST_SAMPLES_M_AIR_TEMPERATURE',\n",
              "       'M_AIR_TEMPERATURE_CHANGE', 'M_RAIN_PERCENTAGE', 'M_WEATHER',\n",
              "       'M_PIT_SPEED_LIMIT', 'M_TOTAL_LAPS', 'M_DYNAMIC_RACING_LINE',\n",
              "       'M_DRSASSIST', 'M_NUM_MARSHAL_ZONES'],\n",
              "      dtype='object')"
            ]
          },
          "metadata": {},
          "execution_count": 29
        }
      ],
      "source": [
        "F1.columns"
      ]
    },
    {
      "cell_type": "code",
      "execution_count": 30,
      "id": "7cd19bb7",
      "metadata": {
        "execution": {
          "iopub.execute_input": "2022-02-21T19:30:17.294216Z",
          "iopub.status.busy": "2022-02-21T19:30:17.293481Z",
          "iopub.status.idle": "2022-02-21T19:30:17.295727Z",
          "shell.execute_reply": "2022-02-21T19:30:17.296213Z",
          "shell.execute_reply.started": "2022-02-21T18:40:23.807694Z"
        },
        "papermill": {
          "duration": 0.276505,
          "end_time": "2022-02-21T19:30:17.296421",
          "exception": false,
          "start_time": "2022-02-21T19:30:17.019916",
          "status": "completed"
        },
        "tags": [],
        "id": "7cd19bb7"
      },
      "outputs": [],
      "source": [
        "F1.drop(columns=['M_FRAME_IDENTIFIER','M_PLAYER_CAR_INDEX','M_SECONDARY_PLAYER_CAR_INDEX', 'M_BRAKING_ASSIST','M_SESSION_LINK_IDENTIFIER', 'M_ZONE_START', 'M_ZONE_FLAG',\n",
        "       'M_PIT_STOP_WINDOW_IDEAL_LAP'],inplace=True)"
      ]
    },
    {
      "cell_type": "code",
      "execution_count": 31,
      "id": "b87867e8",
      "metadata": {
        "execution": {
          "iopub.execute_input": "2022-02-21T19:30:17.491898Z",
          "iopub.status.busy": "2022-02-21T19:30:17.491279Z",
          "iopub.status.idle": "2022-02-21T19:30:17.493879Z",
          "shell.execute_reply": "2022-02-21T19:30:17.494378Z",
          "shell.execute_reply.started": "2022-02-21T18:40:24.000061Z"
        },
        "papermill": {
          "duration": 0.103182,
          "end_time": "2022-02-21T19:30:17.494555",
          "exception": false,
          "start_time": "2022-02-21T19:30:17.391373",
          "status": "completed"
        },
        "tags": [],
        "id": "b87867e8",
        "outputId": "fe099d0d-9ff2-4822-bfd5-c8dab29ba664",
        "colab": {
          "base_uri": "https://localhost:8080/"
        }
      },
      "outputs": [
        {
          "output_type": "execute_result",
          "data": {
            "text/plain": [
              "Index(['TIMESTAMP', 'M_TRACK_TEMPERATURE', 'M_TRACK_LENGTH',\n",
              "       'M_FORECAST_ACCURACY', 'M_AIR_TEMPERATURE',\n",
              "       'M_NUM_WEATHER_FORECAST_SAMPLES', 'M_TRACK_ID', 'M_ERSASSIST',\n",
              "       'M_SEASON_LINK_IDENTIFIER', 'M_SESSION_TYPE',\n",
              "       'M_PIT_STOP_WINDOW_LATEST_LAP', 'M_WEEKEND_LINK_IDENTIFIER',\n",
              "       'M_SESSION_TIME_LEFT', 'M_SESSION_DURATION',\n",
              "       'M_PIT_STOP_REJOIN_POSITION',\n",
              "       'M_WEATHER_FORECAST_SAMPLES_M_SESSION_TYPE', 'M_TIME_OFFSET',\n",
              "       'M_WEATHER_FORECAST_SAMPLES_M_WEATHER',\n",
              "       'M_WEATHER_FORECAST_SAMPLES_M_TRACK_TEMPERATURE',\n",
              "       'M_TRACK_TEMPERATURE_CHANGE',\n",
              "       'M_WEATHER_FORECAST_SAMPLES_M_AIR_TEMPERATURE',\n",
              "       'M_AIR_TEMPERATURE_CHANGE', 'M_RAIN_PERCENTAGE', 'M_WEATHER',\n",
              "       'M_PIT_SPEED_LIMIT', 'M_TOTAL_LAPS', 'M_DYNAMIC_RACING_LINE',\n",
              "       'M_DRSASSIST', 'M_NUM_MARSHAL_ZONES'],\n",
              "      dtype='object')"
            ]
          },
          "metadata": {},
          "execution_count": 31
        }
      ],
      "source": [
        "F1.columns"
      ]
    },
    {
      "cell_type": "code",
      "execution_count": 34,
      "id": "4dd2a8ed",
      "metadata": {
        "execution": {
          "iopub.execute_input": "2022-02-21T19:30:17.690219Z",
          "iopub.status.busy": "2022-02-21T19:30:17.689537Z",
          "iopub.status.idle": "2022-02-21T19:30:17.768440Z",
          "shell.execute_reply": "2022-02-21T19:30:17.767819Z",
          "shell.execute_reply.started": "2022-02-21T18:40:24.020501Z"
        },
        "papermill": {
          "duration": 0.179353,
          "end_time": "2022-02-21T19:30:17.768601",
          "exception": false,
          "start_time": "2022-02-21T19:30:17.589248",
          "status": "completed"
        },
        "tags": [],
        "id": "4dd2a8ed"
      },
      "outputs": [],
      "source": [
        "F1.drop(columns=['M_ERSASSIST','M_SESSION_TYPE','M_PIT_STOP_WINDOW_LATEST_LAP', 'M_WEEKEND_LINK_IDENTIFIER',\n",
        "       'M_SESSION_TIME_LEFT','M_SESSION_DURATION',\n",
        "       'M_PIT_STOP_REJOIN_POSITION','M_PIT_SPEED_LIMIT', 'M_TOTAL_LAPS', 'M_DYNAMIC_RACING_LINE',\n",
        "       'M_DRSASSIST'],inplace=True)"
      ]
    },
    {
      "cell_type": "code",
      "execution_count": 32,
      "id": "18a79868",
      "metadata": {
        "execution": {
          "iopub.execute_input": "2022-02-21T19:30:17.964500Z",
          "iopub.status.busy": "2022-02-21T19:30:17.963823Z",
          "iopub.status.idle": "2022-02-21T19:30:17.966464Z",
          "shell.execute_reply": "2022-02-21T19:30:17.966929Z",
          "shell.execute_reply.started": "2022-02-21T18:40:24.112814Z"
        },
        "papermill": {
          "duration": 0.103665,
          "end_time": "2022-02-21T19:30:17.967129",
          "exception": false,
          "start_time": "2022-02-21T19:30:17.863464",
          "status": "completed"
        },
        "tags": [],
        "id": "18a79868",
        "outputId": "1f020fc8-e018-48b8-bac7-11a12f7a94d6",
        "colab": {
          "base_uri": "https://localhost:8080/"
        }
      },
      "outputs": [
        {
          "output_type": "execute_result",
          "data": {
            "text/plain": [
              "Index(['TIMESTAMP', 'M_TRACK_TEMPERATURE', 'M_TRACK_LENGTH',\n",
              "       'M_FORECAST_ACCURACY', 'M_AIR_TEMPERATURE',\n",
              "       'M_NUM_WEATHER_FORECAST_SAMPLES', 'M_TRACK_ID', 'M_ERSASSIST',\n",
              "       'M_SEASON_LINK_IDENTIFIER', 'M_SESSION_TYPE',\n",
              "       'M_PIT_STOP_WINDOW_LATEST_LAP', 'M_WEEKEND_LINK_IDENTIFIER',\n",
              "       'M_SESSION_TIME_LEFT', 'M_SESSION_DURATION',\n",
              "       'M_PIT_STOP_REJOIN_POSITION',\n",
              "       'M_WEATHER_FORECAST_SAMPLES_M_SESSION_TYPE', 'M_TIME_OFFSET',\n",
              "       'M_WEATHER_FORECAST_SAMPLES_M_WEATHER',\n",
              "       'M_WEATHER_FORECAST_SAMPLES_M_TRACK_TEMPERATURE',\n",
              "       'M_TRACK_TEMPERATURE_CHANGE',\n",
              "       'M_WEATHER_FORECAST_SAMPLES_M_AIR_TEMPERATURE',\n",
              "       'M_AIR_TEMPERATURE_CHANGE', 'M_RAIN_PERCENTAGE', 'M_WEATHER',\n",
              "       'M_PIT_SPEED_LIMIT', 'M_TOTAL_LAPS', 'M_DYNAMIC_RACING_LINE',\n",
              "       'M_DRSASSIST', 'M_NUM_MARSHAL_ZONES'],\n",
              "      dtype='object')"
            ]
          },
          "metadata": {},
          "execution_count": 32
        }
      ],
      "source": [
        "F1.columns"
      ]
    },
    {
      "cell_type": "code",
      "execution_count": 33,
      "id": "5c25b63b",
      "metadata": {
        "execution": {
          "iopub.execute_input": "2022-02-21T19:30:18.165389Z",
          "iopub.status.busy": "2022-02-21T19:30:18.164704Z",
          "iopub.status.idle": "2022-02-21T19:30:18.254835Z",
          "shell.execute_reply": "2022-02-21T19:30:18.254303Z",
          "shell.execute_reply.started": "2022-02-21T18:40:24.121097Z"
        },
        "papermill": {
          "duration": 0.189901,
          "end_time": "2022-02-21T19:30:18.255020",
          "exception": false,
          "start_time": "2022-02-21T19:30:18.065119",
          "status": "completed"
        },
        "tags": [],
        "id": "5c25b63b",
        "outputId": "bb69b7a5-5ca1-4614-efcb-7c2db5d2f74f",
        "colab": {
          "base_uri": "https://localhost:8080/"
        }
      },
      "outputs": [
        {
          "output_type": "execute_result",
          "data": {
            "text/plain": [
              "TIMESTAMP                                              0\n",
              "M_TRACK_TEMPERATURE                                    0\n",
              "M_TRACK_LENGTH                                         0\n",
              "M_FORECAST_ACCURACY                                    0\n",
              "M_AIR_TEMPERATURE                                      0\n",
              "M_NUM_WEATHER_FORECAST_SAMPLES                         0\n",
              "M_TRACK_ID                                             0\n",
              "M_ERSASSIST                                            0\n",
              "M_SEASON_LINK_IDENTIFIER                               0\n",
              "M_SESSION_TYPE                                         0\n",
              "M_PIT_STOP_WINDOW_LATEST_LAP                           0\n",
              "M_WEEKEND_LINK_IDENTIFIER                              0\n",
              "M_SESSION_TIME_LEFT                                    0\n",
              "M_SESSION_DURATION                                     0\n",
              "M_PIT_STOP_REJOIN_POSITION                             0\n",
              "M_WEATHER_FORECAST_SAMPLES_M_SESSION_TYPE         748671\n",
              "M_TIME_OFFSET                                     748671\n",
              "M_WEATHER_FORECAST_SAMPLES_M_WEATHER              748671\n",
              "M_WEATHER_FORECAST_SAMPLES_M_TRACK_TEMPERATURE    748671\n",
              "M_TRACK_TEMPERATURE_CHANGE                        748671\n",
              "M_WEATHER_FORECAST_SAMPLES_M_AIR_TEMPERATURE      748671\n",
              "M_AIR_TEMPERATURE_CHANGE                          748671\n",
              "M_RAIN_PERCENTAGE                                 748671\n",
              "M_WEATHER                                              0\n",
              "M_PIT_SPEED_LIMIT                                      0\n",
              "M_TOTAL_LAPS                                           1\n",
              "M_DYNAMIC_RACING_LINE                                  1\n",
              "M_DRSASSIST                                            1\n",
              "M_NUM_MARSHAL_ZONES                                    1\n",
              "dtype: int64"
            ]
          },
          "metadata": {},
          "execution_count": 33
        }
      ],
      "source": [
        "F1.isnull().sum()"
      ]
    },
    {
      "cell_type": "code",
      "execution_count": 35,
      "id": "f539f7cd",
      "metadata": {
        "execution": {
          "iopub.execute_input": "2022-02-21T19:30:18.448825Z",
          "iopub.status.busy": "2022-02-21T19:30:18.448144Z",
          "iopub.status.idle": "2022-02-21T19:30:18.452233Z",
          "shell.execute_reply": "2022-02-21T19:30:18.452810Z",
          "shell.execute_reply.started": "2022-02-21T18:40:24.228991Z"
        },
        "papermill": {
          "duration": 0.103081,
          "end_time": "2022-02-21T19:30:18.453015",
          "exception": false,
          "start_time": "2022-02-21T19:30:18.349934",
          "status": "completed"
        },
        "tags": [],
        "id": "f539f7cd",
        "outputId": "5fb1d64c-6071-46ce-f2ea-6205946ba605",
        "colab": {
          "base_uri": "https://localhost:8080/"
        }
      },
      "outputs": [
        {
          "output_type": "execute_result",
          "data": {
            "text/plain": [
              "(2745117, 18)"
            ]
          },
          "metadata": {},
          "execution_count": 35
        }
      ],
      "source": [
        "F1.shape"
      ]
    },
    {
      "cell_type": "code",
      "execution_count": 36,
      "id": "e243337c",
      "metadata": {
        "execution": {
          "iopub.execute_input": "2022-02-21T19:30:18.648952Z",
          "iopub.status.busy": "2022-02-21T19:30:18.648326Z",
          "iopub.status.idle": "2022-02-21T19:30:18.888136Z",
          "shell.execute_reply": "2022-02-21T19:30:18.887452Z",
          "shell.execute_reply.started": "2022-02-21T18:40:24.238599Z"
        },
        "papermill": {
          "duration": 0.338777,
          "end_time": "2022-02-21T19:30:18.888311",
          "exception": false,
          "start_time": "2022-02-21T19:30:18.549534",
          "status": "completed"
        },
        "tags": [],
        "id": "e243337c"
      },
      "outputs": [],
      "source": [
        "F1.dropna(inplace=True)"
      ]
    },
    {
      "cell_type": "code",
      "execution_count": 37,
      "id": "6ae39d3e",
      "metadata": {
        "execution": {
          "iopub.execute_input": "2022-02-21T19:30:19.086848Z",
          "iopub.status.busy": "2022-02-21T19:30:19.086191Z",
          "iopub.status.idle": "2022-02-21T19:30:19.090512Z",
          "shell.execute_reply": "2022-02-21T19:30:19.091059Z",
          "shell.execute_reply.started": "2022-02-21T18:40:24.526789Z"
        },
        "papermill": {
          "duration": 0.105656,
          "end_time": "2022-02-21T19:30:19.091266",
          "exception": false,
          "start_time": "2022-02-21T19:30:18.985610",
          "status": "completed"
        },
        "tags": [],
        "id": "6ae39d3e",
        "outputId": "483f834a-8ae3-499b-bdbf-bbe71b294de4",
        "colab": {
          "base_uri": "https://localhost:8080/"
        }
      },
      "outputs": [
        {
          "output_type": "execute_result",
          "data": {
            "text/plain": [
              "(1996445, 18)"
            ]
          },
          "metadata": {},
          "execution_count": 37
        }
      ],
      "source": [
        "F1.shape"
      ]
    },
    {
      "cell_type": "code",
      "execution_count": 38,
      "id": "04903e8f",
      "metadata": {
        "execution": {
          "iopub.execute_input": "2022-02-21T19:30:19.289766Z",
          "iopub.status.busy": "2022-02-21T19:30:19.289103Z",
          "iopub.status.idle": "2022-02-21T19:30:19.347254Z",
          "shell.execute_reply": "2022-02-21T19:30:19.347795Z",
          "shell.execute_reply.started": "2022-02-21T18:40:24.535911Z"
        },
        "papermill": {
          "duration": 0.159666,
          "end_time": "2022-02-21T19:30:19.348017",
          "exception": false,
          "start_time": "2022-02-21T19:30:19.188351",
          "status": "completed"
        },
        "tags": [],
        "id": "04903e8f"
      },
      "outputs": [],
      "source": [
        "Y=F1['M_RAIN_PERCENTAGE']\n",
        "X=F1.drop(columns=['M_RAIN_PERCENTAGE'],inplace=False)"
      ]
    },
    {
      "cell_type": "code",
      "execution_count": 39,
      "id": "d85597e6",
      "metadata": {
        "execution": {
          "iopub.execute_input": "2022-02-21T19:30:19.546181Z",
          "iopub.status.busy": "2022-02-21T19:30:19.545553Z",
          "iopub.status.idle": "2022-02-21T19:30:19.618914Z",
          "shell.execute_reply": "2022-02-21T19:30:19.618297Z",
          "shell.execute_reply.started": "2022-02-21T18:40:24.608579Z"
        },
        "papermill": {
          "duration": 0.17307,
          "end_time": "2022-02-21T19:30:19.619083",
          "exception": false,
          "start_time": "2022-02-21T19:30:19.446013",
          "status": "completed"
        },
        "tags": [],
        "id": "d85597e6",
        "outputId": "f9f855c2-ca40-40df-e18d-22d830f7a1fd",
        "colab": {
          "base_uri": "https://localhost:8080/"
        }
      },
      "outputs": [
        {
          "output_type": "execute_result",
          "data": {
            "text/plain": [
              "17039    1.642724e+09\n",
              "17042    1.642724e+09\n",
              "17116    1.642724e+09\n",
              "17119    1.642724e+09\n",
              "17193    1.642724e+09\n",
              "17196    1.642724e+09\n",
              "17270    1.642724e+09\n",
              "17273    1.642724e+09\n",
              "17347    1.642724e+09\n",
              "17350    1.642724e+09\n",
              "Name: TIMESTAMP, dtype: float64"
            ]
          },
          "metadata": {},
          "execution_count": 39
        }
      ],
      "source": [
        "Formula_pd[Formula_pd.M_TIME_OFFSET==5]['TIMESTAMP'].iloc[:10]\n",
        "# Formula_pd.columns"
      ]
    },
    {
      "cell_type": "code",
      "execution_count": 40,
      "id": "2e30067e",
      "metadata": {
        "execution": {
          "iopub.execute_input": "2022-02-21T19:30:19.817521Z",
          "iopub.status.busy": "2022-02-21T19:30:19.816799Z",
          "iopub.status.idle": "2022-02-21T19:30:19.822709Z",
          "shell.execute_reply": "2022-02-21T19:30:19.823372Z",
          "shell.execute_reply.started": "2022-02-21T18:40:24.703846Z"
        },
        "papermill": {
          "duration": 0.107236,
          "end_time": "2022-02-21T19:30:19.823570",
          "exception": false,
          "start_time": "2022-02-21T19:30:19.716334",
          "status": "completed"
        },
        "tags": [],
        "id": "2e30067e",
        "outputId": "5f1aab6e-cec4-43c9-a6ca-a33f8a467d43",
        "colab": {
          "base_uri": "https://localhost:8080/"
        }
      },
      "outputs": [
        {
          "output_type": "execute_result",
          "data": {
            "text/plain": [
              "17038    1.0\n",
              "17039    1.0\n",
              "17040    2.0\n",
              "17041    5.0\n",
              "17042    5.0\n",
              "Name: M_RAIN_PERCENTAGE, dtype: float64"
            ]
          },
          "metadata": {},
          "execution_count": 40
        }
      ],
      "source": [
        "Y.head()"
      ]
    },
    {
      "cell_type": "code",
      "execution_count": 41,
      "id": "b3eca371",
      "metadata": {
        "execution": {
          "iopub.execute_input": "2022-02-21T19:30:20.028574Z",
          "iopub.status.busy": "2022-02-21T19:30:20.027889Z",
          "iopub.status.idle": "2022-02-21T19:30:20.049801Z",
          "shell.execute_reply": "2022-02-21T19:30:20.050333Z",
          "shell.execute_reply.started": "2022-02-21T18:40:24.713802Z"
        },
        "papermill": {
          "duration": 0.124615,
          "end_time": "2022-02-21T19:30:20.050533",
          "exception": false,
          "start_time": "2022-02-21T19:30:19.925918",
          "status": "completed"
        },
        "tags": [],
        "id": "b3eca371",
        "outputId": "cc4f024e-8b2a-4e49-ecb1-7f5f0c9a7372",
        "colab": {
          "base_uri": "https://localhost:8080/",
          "height": 270
        }
      },
      "outputs": [
        {
          "output_type": "execute_result",
          "data": {
            "text/html": [
              "\n",
              "  <div id=\"df-d9f33204-46a3-4191-b400-94ee1b716c57\">\n",
              "    <div class=\"colab-df-container\">\n",
              "      <div>\n",
              "<style scoped>\n",
              "    .dataframe tbody tr th:only-of-type {\n",
              "        vertical-align: middle;\n",
              "    }\n",
              "\n",
              "    .dataframe tbody tr th {\n",
              "        vertical-align: top;\n",
              "    }\n",
              "\n",
              "    .dataframe thead th {\n",
              "        text-align: right;\n",
              "    }\n",
              "</style>\n",
              "<table border=\"1\" class=\"dataframe\">\n",
              "  <thead>\n",
              "    <tr style=\"text-align: right;\">\n",
              "      <th></th>\n",
              "      <th>TIMESTAMP</th>\n",
              "      <th>M_TRACK_TEMPERATURE</th>\n",
              "      <th>M_TRACK_LENGTH</th>\n",
              "      <th>M_FORECAST_ACCURACY</th>\n",
              "      <th>M_AIR_TEMPERATURE</th>\n",
              "      <th>M_NUM_WEATHER_FORECAST_SAMPLES</th>\n",
              "      <th>M_TRACK_ID</th>\n",
              "      <th>M_SEASON_LINK_IDENTIFIER</th>\n",
              "      <th>M_WEATHER_FORECAST_SAMPLES_M_SESSION_TYPE</th>\n",
              "      <th>M_TIME_OFFSET</th>\n",
              "      <th>M_WEATHER_FORECAST_SAMPLES_M_WEATHER</th>\n",
              "      <th>M_WEATHER_FORECAST_SAMPLES_M_TRACK_TEMPERATURE</th>\n",
              "      <th>M_TRACK_TEMPERATURE_CHANGE</th>\n",
              "      <th>M_WEATHER_FORECAST_SAMPLES_M_AIR_TEMPERATURE</th>\n",
              "      <th>M_AIR_TEMPERATURE_CHANGE</th>\n",
              "      <th>M_WEATHER</th>\n",
              "      <th>M_NUM_MARSHAL_ZONES</th>\n",
              "    </tr>\n",
              "  </thead>\n",
              "  <tbody>\n",
              "    <tr>\n",
              "      <th>17038</th>\n",
              "      <td>1.642724e+09</td>\n",
              "      <td>33</td>\n",
              "      <td>4650</td>\n",
              "      <td>0</td>\n",
              "      <td>25</td>\n",
              "      <td>10</td>\n",
              "      <td>28</td>\n",
              "      <td>1553478724</td>\n",
              "      <td>8.0</td>\n",
              "      <td>0.0</td>\n",
              "      <td>0.0</td>\n",
              "      <td>33.0</td>\n",
              "      <td>2.0</td>\n",
              "      <td>25.0</td>\n",
              "      <td>2.0</td>\n",
              "      <td>0</td>\n",
              "      <td>16.0</td>\n",
              "    </tr>\n",
              "    <tr>\n",
              "      <th>17039</th>\n",
              "      <td>1.642724e+09</td>\n",
              "      <td>33</td>\n",
              "      <td>4650</td>\n",
              "      <td>0</td>\n",
              "      <td>25</td>\n",
              "      <td>10</td>\n",
              "      <td>28</td>\n",
              "      <td>1553478724</td>\n",
              "      <td>8.0</td>\n",
              "      <td>5.0</td>\n",
              "      <td>0.0</td>\n",
              "      <td>33.0</td>\n",
              "      <td>2.0</td>\n",
              "      <td>25.0</td>\n",
              "      <td>2.0</td>\n",
              "      <td>0</td>\n",
              "      <td>16.0</td>\n",
              "    </tr>\n",
              "    <tr>\n",
              "      <th>17040</th>\n",
              "      <td>1.642724e+09</td>\n",
              "      <td>33</td>\n",
              "      <td>4650</td>\n",
              "      <td>0</td>\n",
              "      <td>25</td>\n",
              "      <td>10</td>\n",
              "      <td>28</td>\n",
              "      <td>1553478724</td>\n",
              "      <td>8.0</td>\n",
              "      <td>10.0</td>\n",
              "      <td>0.0</td>\n",
              "      <td>33.0</td>\n",
              "      <td>2.0</td>\n",
              "      <td>25.0</td>\n",
              "      <td>2.0</td>\n",
              "      <td>0</td>\n",
              "      <td>16.0</td>\n",
              "    </tr>\n",
              "    <tr>\n",
              "      <th>17041</th>\n",
              "      <td>1.642724e+09</td>\n",
              "      <td>33</td>\n",
              "      <td>4650</td>\n",
              "      <td>0</td>\n",
              "      <td>25</td>\n",
              "      <td>10</td>\n",
              "      <td>28</td>\n",
              "      <td>1553478724</td>\n",
              "      <td>10.0</td>\n",
              "      <td>0.0</td>\n",
              "      <td>1.0</td>\n",
              "      <td>32.0</td>\n",
              "      <td>1.0</td>\n",
              "      <td>24.0</td>\n",
              "      <td>1.0</td>\n",
              "      <td>0</td>\n",
              "      <td>16.0</td>\n",
              "    </tr>\n",
              "    <tr>\n",
              "      <th>17042</th>\n",
              "      <td>1.642724e+09</td>\n",
              "      <td>33</td>\n",
              "      <td>4650</td>\n",
              "      <td>0</td>\n",
              "      <td>25</td>\n",
              "      <td>10</td>\n",
              "      <td>28</td>\n",
              "      <td>1553478724</td>\n",
              "      <td>10.0</td>\n",
              "      <td>5.0</td>\n",
              "      <td>1.0</td>\n",
              "      <td>32.0</td>\n",
              "      <td>2.0</td>\n",
              "      <td>24.0</td>\n",
              "      <td>2.0</td>\n",
              "      <td>0</td>\n",
              "      <td>16.0</td>\n",
              "    </tr>\n",
              "  </tbody>\n",
              "</table>\n",
              "</div>\n",
              "      <button class=\"colab-df-convert\" onclick=\"convertToInteractive('df-d9f33204-46a3-4191-b400-94ee1b716c57')\"\n",
              "              title=\"Convert this dataframe to an interactive table.\"\n",
              "              style=\"display:none;\">\n",
              "        \n",
              "  <svg xmlns=\"http://www.w3.org/2000/svg\" height=\"24px\"viewBox=\"0 0 24 24\"\n",
              "       width=\"24px\">\n",
              "    <path d=\"M0 0h24v24H0V0z\" fill=\"none\"/>\n",
              "    <path d=\"M18.56 5.44l.94 2.06.94-2.06 2.06-.94-2.06-.94-.94-2.06-.94 2.06-2.06.94zm-11 1L8.5 8.5l.94-2.06 2.06-.94-2.06-.94L8.5 2.5l-.94 2.06-2.06.94zm10 10l.94 2.06.94-2.06 2.06-.94-2.06-.94-.94-2.06-.94 2.06-2.06.94z\"/><path d=\"M17.41 7.96l-1.37-1.37c-.4-.4-.92-.59-1.43-.59-.52 0-1.04.2-1.43.59L10.3 9.45l-7.72 7.72c-.78.78-.78 2.05 0 2.83L4 21.41c.39.39.9.59 1.41.59.51 0 1.02-.2 1.41-.59l7.78-7.78 2.81-2.81c.8-.78.8-2.07 0-2.86zM5.41 20L4 18.59l7.72-7.72 1.47 1.35L5.41 20z\"/>\n",
              "  </svg>\n",
              "      </button>\n",
              "      \n",
              "  <style>\n",
              "    .colab-df-container {\n",
              "      display:flex;\n",
              "      flex-wrap:wrap;\n",
              "      gap: 12px;\n",
              "    }\n",
              "\n",
              "    .colab-df-convert {\n",
              "      background-color: #E8F0FE;\n",
              "      border: none;\n",
              "      border-radius: 50%;\n",
              "      cursor: pointer;\n",
              "      display: none;\n",
              "      fill: #1967D2;\n",
              "      height: 32px;\n",
              "      padding: 0 0 0 0;\n",
              "      width: 32px;\n",
              "    }\n",
              "\n",
              "    .colab-df-convert:hover {\n",
              "      background-color: #E2EBFA;\n",
              "      box-shadow: 0px 1px 2px rgba(60, 64, 67, 0.3), 0px 1px 3px 1px rgba(60, 64, 67, 0.15);\n",
              "      fill: #174EA6;\n",
              "    }\n",
              "\n",
              "    [theme=dark] .colab-df-convert {\n",
              "      background-color: #3B4455;\n",
              "      fill: #D2E3FC;\n",
              "    }\n",
              "\n",
              "    [theme=dark] .colab-df-convert:hover {\n",
              "      background-color: #434B5C;\n",
              "      box-shadow: 0px 1px 3px 1px rgba(0, 0, 0, 0.15);\n",
              "      filter: drop-shadow(0px 1px 2px rgba(0, 0, 0, 0.3));\n",
              "      fill: #FFFFFF;\n",
              "    }\n",
              "  </style>\n",
              "\n",
              "      <script>\n",
              "        const buttonEl =\n",
              "          document.querySelector('#df-d9f33204-46a3-4191-b400-94ee1b716c57 button.colab-df-convert');\n",
              "        buttonEl.style.display =\n",
              "          google.colab.kernel.accessAllowed ? 'block' : 'none';\n",
              "\n",
              "        async function convertToInteractive(key) {\n",
              "          const element = document.querySelector('#df-d9f33204-46a3-4191-b400-94ee1b716c57');\n",
              "          const dataTable =\n",
              "            await google.colab.kernel.invokeFunction('convertToInteractive',\n",
              "                                                     [key], {});\n",
              "          if (!dataTable) return;\n",
              "\n",
              "          const docLinkHtml = 'Like what you see? Visit the ' +\n",
              "            '<a target=\"_blank\" href=https://colab.research.google.com/notebooks/data_table.ipynb>data table notebook</a>'\n",
              "            + ' to learn more about interactive tables.';\n",
              "          element.innerHTML = '';\n",
              "          dataTable['output_type'] = 'display_data';\n",
              "          await google.colab.output.renderOutput(dataTable, element);\n",
              "          const docLink = document.createElement('div');\n",
              "          docLink.innerHTML = docLinkHtml;\n",
              "          element.appendChild(docLink);\n",
              "        }\n",
              "      </script>\n",
              "    </div>\n",
              "  </div>\n",
              "  "
            ],
            "text/plain": [
              "          TIMESTAMP  M_TRACK_TEMPERATURE  ...  M_WEATHER  M_NUM_MARSHAL_ZONES\n",
              "17038  1.642724e+09                   33  ...          0                 16.0\n",
              "17039  1.642724e+09                   33  ...          0                 16.0\n",
              "17040  1.642724e+09                   33  ...          0                 16.0\n",
              "17041  1.642724e+09                   33  ...          0                 16.0\n",
              "17042  1.642724e+09                   33  ...          0                 16.0\n",
              "\n",
              "[5 rows x 17 columns]"
            ]
          },
          "metadata": {},
          "execution_count": 41
        }
      ],
      "source": [
        "X.head()"
      ]
    },
    {
      "cell_type": "code",
      "execution_count": 42,
      "id": "a4e31e24",
      "metadata": {
        "execution": {
          "iopub.execute_input": "2022-02-21T19:30:20.254853Z",
          "iopub.status.busy": "2022-02-21T19:30:20.254181Z",
          "iopub.status.idle": "2022-02-21T19:30:20.262687Z",
          "shell.execute_reply": "2022-02-21T19:30:20.262150Z",
          "shell.execute_reply.started": "2022-02-21T18:40:24.750208Z"
        },
        "papermill": {
          "duration": 0.111899,
          "end_time": "2022-02-21T19:30:20.262844",
          "exception": false,
          "start_time": "2022-02-21T19:30:20.150945",
          "status": "completed"
        },
        "tags": [],
        "id": "a4e31e24",
        "outputId": "6a98a07a-ae02-411e-a39a-b163c6a4d1cd",
        "colab": {
          "base_uri": "https://localhost:8080/"
        }
      },
      "outputs": [
        {
          "output_type": "execute_result",
          "data": {
            "text/plain": [
              "0"
            ]
          },
          "metadata": {},
          "execution_count": 42
        }
      ],
      "source": [
        "Y.isnull().sum()"
      ]
    },
    {
      "cell_type": "code",
      "execution_count": 43,
      "id": "d150ee77",
      "metadata": {
        "execution": {
          "iopub.execute_input": "2022-02-21T19:30:20.470554Z",
          "iopub.status.busy": "2022-02-21T19:30:20.469908Z",
          "iopub.status.idle": "2022-02-21T19:30:20.475094Z",
          "shell.execute_reply": "2022-02-21T19:30:20.475623Z",
          "shell.execute_reply.started": "2022-02-21T18:40:24.76919Z"
        },
        "papermill": {
          "duration": 0.10903,
          "end_time": "2022-02-21T19:30:20.475819",
          "exception": false,
          "start_time": "2022-02-21T19:30:20.366789",
          "status": "completed"
        },
        "tags": [],
        "id": "d150ee77",
        "outputId": "d227496f-fabe-46e7-c291-acb51af53e23",
        "colab": {
          "base_uri": "https://localhost:8080/"
        }
      },
      "outputs": [
        {
          "output_type": "execute_result",
          "data": {
            "text/plain": [
              "Index(['TIMESTAMP', 'M_TRACK_TEMPERATURE', 'M_TRACK_LENGTH',\n",
              "       'M_FORECAST_ACCURACY', 'M_AIR_TEMPERATURE',\n",
              "       'M_NUM_WEATHER_FORECAST_SAMPLES', 'M_TRACK_ID',\n",
              "       'M_SEASON_LINK_IDENTIFIER', 'M_WEATHER_FORECAST_SAMPLES_M_SESSION_TYPE',\n",
              "       'M_TIME_OFFSET', 'M_WEATHER_FORECAST_SAMPLES_M_WEATHER',\n",
              "       'M_WEATHER_FORECAST_SAMPLES_M_TRACK_TEMPERATURE',\n",
              "       'M_TRACK_TEMPERATURE_CHANGE',\n",
              "       'M_WEATHER_FORECAST_SAMPLES_M_AIR_TEMPERATURE',\n",
              "       'M_AIR_TEMPERATURE_CHANGE', 'M_WEATHER', 'M_NUM_MARSHAL_ZONES'],\n",
              "      dtype='object')"
            ]
          },
          "metadata": {},
          "execution_count": 43
        }
      ],
      "source": [
        "X.columns"
      ]
    },
    {
      "cell_type": "code",
      "execution_count": 53,
      "id": "84bc29c2",
      "metadata": {
        "execution": {
          "iopub.execute_input": "2022-02-21T19:30:20.698383Z",
          "iopub.status.busy": "2022-02-21T19:30:20.697675Z",
          "iopub.status.idle": "2022-02-21T19:30:20.701196Z",
          "shell.execute_reply": "2022-02-21T19:30:20.701844Z",
          "shell.execute_reply.started": "2022-02-21T18:40:24.793088Z"
        },
        "papermill": {
          "duration": 0.126707,
          "end_time": "2022-02-21T19:30:20.702067",
          "exception": false,
          "start_time": "2022-02-21T19:30:20.575360",
          "status": "completed"
        },
        "tags": [],
        "id": "84bc29c2"
      },
      "outputs": [],
      "source": [
        "X.drop(columns=['M_NUM_MARSHAL_ZONES'],inplace=True)\n",
        "X.drop(columns=['M_TRACK_LENGTH','M_TRACK_TEMPERATURE_CHANGE'],inplace=True)\n",
        "X.head()\n",
        "X.drop(columns=['M_WEATHER_FORECAST_SAMPLES_M_WEATHER','M_WEATHER_FORECAST_SAMPLES_M_TRACK_TEMPERATURE','M_WEATHER_FORECAST_SAMPLES_M_AIR_TEMPERATURE','M_NUM_WEATHER_FORECAST_SAMPLES'],inplace=True)\n",
        "X['M_SEASON_LINK_IDENTIFIER'].unique()\n",
        "X.drop(columns=['M_SEASON_LINK_IDENTIFIER'],inplace=True)"
      ]
    },
    {
      "cell_type": "code",
      "execution_count": 54,
      "id": "7b1c4e74",
      "metadata": {
        "execution": {
          "iopub.execute_input": "2022-02-21T19:30:22.027604Z",
          "iopub.status.busy": "2022-02-21T19:30:22.026915Z",
          "iopub.status.idle": "2022-02-21T19:30:22.032281Z",
          "shell.execute_reply": "2022-02-21T19:30:22.032866Z",
          "shell.execute_reply.started": "2022-02-21T18:40:24.881523Z"
        },
        "papermill": {
          "duration": 0.110409,
          "end_time": "2022-02-21T19:30:22.033069",
          "exception": false,
          "start_time": "2022-02-21T19:30:21.922660",
          "status": "completed"
        },
        "tags": [],
        "id": "7b1c4e74",
        "outputId": "66313fb9-50a7-4947-f3a6-adc9ff12b3a6",
        "colab": {
          "base_uri": "https://localhost:8080/"
        }
      },
      "outputs": [
        {
          "output_type": "execute_result",
          "data": {
            "text/plain": [
              "Index(['TIMESTAMP', 'M_TRACK_TEMPERATURE', 'M_FORECAST_ACCURACY',\n",
              "       'M_AIR_TEMPERATURE', 'M_TRACK_ID',\n",
              "       'M_WEATHER_FORECAST_SAMPLES_M_SESSION_TYPE', 'M_TIME_OFFSET',\n",
              "       'M_AIR_TEMPERATURE_CHANGE', 'M_WEATHER'],\n",
              "      dtype='object')"
            ]
          },
          "metadata": {},
          "execution_count": 54
        }
      ],
      "source": [
        "X.columns"
      ]
    },
    {
      "cell_type": "code",
      "execution_count": 55,
      "id": "97741205",
      "metadata": {
        "execution": {
          "iopub.execute_input": "2022-02-21T19:30:22.442912Z",
          "iopub.status.busy": "2022-02-21T19:30:22.442071Z",
          "iopub.status.idle": "2022-02-21T19:30:23.798527Z",
          "shell.execute_reply": "2022-02-21T19:30:23.799202Z",
          "shell.execute_reply.started": "2022-02-21T18:40:24.912719Z"
        },
        "papermill": {
          "duration": 1.46144,
          "end_time": "2022-02-21T19:30:23.799458",
          "exception": false,
          "start_time": "2022-02-21T19:30:22.338018",
          "status": "completed"
        },
        "tags": [],
        "id": "97741205"
      },
      "outputs": [],
      "source": [
        "from sklearn.ensemble import RandomForestRegressor\n",
        "from sklearn.metrics import mean_absolute_error"
      ]
    },
    {
      "cell_type": "code",
      "execution_count": 56,
      "id": "d5d2041b",
      "metadata": {
        "execution": {
          "iopub.execute_input": "2022-02-21T19:30:24.008980Z",
          "iopub.status.busy": "2022-02-21T19:30:24.008107Z",
          "iopub.status.idle": "2022-02-21T19:30:24.810761Z",
          "shell.execute_reply": "2022-02-21T19:30:24.810054Z",
          "shell.execute_reply.started": "2022-02-21T18:40:26.54481Z"
        },
        "papermill": {
          "duration": 0.909908,
          "end_time": "2022-02-21T19:30:24.810933",
          "exception": false,
          "start_time": "2022-02-21T19:30:23.901025",
          "status": "completed"
        },
        "tags": [],
        "id": "d5d2041b"
      },
      "outputs": [],
      "source": [
        "from sklearn.model_selection import train_test_split\n",
        "train_X, val_X, train_y, val_y = train_test_split(X, Y,random_state = 0)"
      ]
    },
    {
      "cell_type": "code",
      "execution_count": 57,
      "id": "b92161ef",
      "metadata": {
        "execution": {
          "iopub.execute_input": "2022-02-21T19:30:25.036553Z",
          "iopub.status.busy": "2022-02-21T19:30:25.035818Z",
          "iopub.status.idle": "2022-02-21T19:30:25.038724Z",
          "shell.execute_reply": "2022-02-21T19:30:25.039275Z",
          "shell.execute_reply.started": "2022-02-21T18:40:27.277321Z"
        },
        "papermill": {
          "duration": 0.128446,
          "end_time": "2022-02-21T19:30:25.039450",
          "exception": false,
          "start_time": "2022-02-21T19:30:24.911004",
          "status": "completed"
        },
        "tags": [],
        "id": "b92161ef",
        "outputId": "6ac610e1-cec9-4907-ae28-2a13ef6c23d5",
        "colab": {
          "base_uri": "https://localhost:8080/",
          "height": 270
        }
      },
      "outputs": [
        {
          "output_type": "execute_result",
          "data": {
            "text/html": [
              "\n",
              "  <div id=\"df-d9e4887a-cfc9-405b-a537-721af4bc4a57\">\n",
              "    <div class=\"colab-df-container\">\n",
              "      <div>\n",
              "<style scoped>\n",
              "    .dataframe tbody tr th:only-of-type {\n",
              "        vertical-align: middle;\n",
              "    }\n",
              "\n",
              "    .dataframe tbody tr th {\n",
              "        vertical-align: top;\n",
              "    }\n",
              "\n",
              "    .dataframe thead th {\n",
              "        text-align: right;\n",
              "    }\n",
              "</style>\n",
              "<table border=\"1\" class=\"dataframe\">\n",
              "  <thead>\n",
              "    <tr style=\"text-align: right;\">\n",
              "      <th></th>\n",
              "      <th>TIMESTAMP</th>\n",
              "      <th>M_TRACK_TEMPERATURE</th>\n",
              "      <th>M_FORECAST_ACCURACY</th>\n",
              "      <th>M_AIR_TEMPERATURE</th>\n",
              "      <th>M_TRACK_ID</th>\n",
              "      <th>M_WEATHER_FORECAST_SAMPLES_M_SESSION_TYPE</th>\n",
              "      <th>M_TIME_OFFSET</th>\n",
              "      <th>M_AIR_TEMPERATURE_CHANGE</th>\n",
              "      <th>M_WEATHER</th>\n",
              "    </tr>\n",
              "  </thead>\n",
              "  <tbody>\n",
              "    <tr>\n",
              "      <th>17038</th>\n",
              "      <td>1.642724e+09</td>\n",
              "      <td>33</td>\n",
              "      <td>0</td>\n",
              "      <td>25</td>\n",
              "      <td>28</td>\n",
              "      <td>8.0</td>\n",
              "      <td>0.0</td>\n",
              "      <td>2.0</td>\n",
              "      <td>0</td>\n",
              "    </tr>\n",
              "    <tr>\n",
              "      <th>17039</th>\n",
              "      <td>1.642724e+09</td>\n",
              "      <td>33</td>\n",
              "      <td>0</td>\n",
              "      <td>25</td>\n",
              "      <td>28</td>\n",
              "      <td>8.0</td>\n",
              "      <td>5.0</td>\n",
              "      <td>2.0</td>\n",
              "      <td>0</td>\n",
              "    </tr>\n",
              "    <tr>\n",
              "      <th>17040</th>\n",
              "      <td>1.642724e+09</td>\n",
              "      <td>33</td>\n",
              "      <td>0</td>\n",
              "      <td>25</td>\n",
              "      <td>28</td>\n",
              "      <td>8.0</td>\n",
              "      <td>10.0</td>\n",
              "      <td>2.0</td>\n",
              "      <td>0</td>\n",
              "    </tr>\n",
              "    <tr>\n",
              "      <th>17041</th>\n",
              "      <td>1.642724e+09</td>\n",
              "      <td>33</td>\n",
              "      <td>0</td>\n",
              "      <td>25</td>\n",
              "      <td>28</td>\n",
              "      <td>10.0</td>\n",
              "      <td>0.0</td>\n",
              "      <td>1.0</td>\n",
              "      <td>0</td>\n",
              "    </tr>\n",
              "    <tr>\n",
              "      <th>17042</th>\n",
              "      <td>1.642724e+09</td>\n",
              "      <td>33</td>\n",
              "      <td>0</td>\n",
              "      <td>25</td>\n",
              "      <td>28</td>\n",
              "      <td>10.0</td>\n",
              "      <td>5.0</td>\n",
              "      <td>2.0</td>\n",
              "      <td>0</td>\n",
              "    </tr>\n",
              "  </tbody>\n",
              "</table>\n",
              "</div>\n",
              "      <button class=\"colab-df-convert\" onclick=\"convertToInteractive('df-d9e4887a-cfc9-405b-a537-721af4bc4a57')\"\n",
              "              title=\"Convert this dataframe to an interactive table.\"\n",
              "              style=\"display:none;\">\n",
              "        \n",
              "  <svg xmlns=\"http://www.w3.org/2000/svg\" height=\"24px\"viewBox=\"0 0 24 24\"\n",
              "       width=\"24px\">\n",
              "    <path d=\"M0 0h24v24H0V0z\" fill=\"none\"/>\n",
              "    <path d=\"M18.56 5.44l.94 2.06.94-2.06 2.06-.94-2.06-.94-.94-2.06-.94 2.06-2.06.94zm-11 1L8.5 8.5l.94-2.06 2.06-.94-2.06-.94L8.5 2.5l-.94 2.06-2.06.94zm10 10l.94 2.06.94-2.06 2.06-.94-2.06-.94-.94-2.06-.94 2.06-2.06.94z\"/><path d=\"M17.41 7.96l-1.37-1.37c-.4-.4-.92-.59-1.43-.59-.52 0-1.04.2-1.43.59L10.3 9.45l-7.72 7.72c-.78.78-.78 2.05 0 2.83L4 21.41c.39.39.9.59 1.41.59.51 0 1.02-.2 1.41-.59l7.78-7.78 2.81-2.81c.8-.78.8-2.07 0-2.86zM5.41 20L4 18.59l7.72-7.72 1.47 1.35L5.41 20z\"/>\n",
              "  </svg>\n",
              "      </button>\n",
              "      \n",
              "  <style>\n",
              "    .colab-df-container {\n",
              "      display:flex;\n",
              "      flex-wrap:wrap;\n",
              "      gap: 12px;\n",
              "    }\n",
              "\n",
              "    .colab-df-convert {\n",
              "      background-color: #E8F0FE;\n",
              "      border: none;\n",
              "      border-radius: 50%;\n",
              "      cursor: pointer;\n",
              "      display: none;\n",
              "      fill: #1967D2;\n",
              "      height: 32px;\n",
              "      padding: 0 0 0 0;\n",
              "      width: 32px;\n",
              "    }\n",
              "\n",
              "    .colab-df-convert:hover {\n",
              "      background-color: #E2EBFA;\n",
              "      box-shadow: 0px 1px 2px rgba(60, 64, 67, 0.3), 0px 1px 3px 1px rgba(60, 64, 67, 0.15);\n",
              "      fill: #174EA6;\n",
              "    }\n",
              "\n",
              "    [theme=dark] .colab-df-convert {\n",
              "      background-color: #3B4455;\n",
              "      fill: #D2E3FC;\n",
              "    }\n",
              "\n",
              "    [theme=dark] .colab-df-convert:hover {\n",
              "      background-color: #434B5C;\n",
              "      box-shadow: 0px 1px 3px 1px rgba(0, 0, 0, 0.15);\n",
              "      filter: drop-shadow(0px 1px 2px rgba(0, 0, 0, 0.3));\n",
              "      fill: #FFFFFF;\n",
              "    }\n",
              "  </style>\n",
              "\n",
              "      <script>\n",
              "        const buttonEl =\n",
              "          document.querySelector('#df-d9e4887a-cfc9-405b-a537-721af4bc4a57 button.colab-df-convert');\n",
              "        buttonEl.style.display =\n",
              "          google.colab.kernel.accessAllowed ? 'block' : 'none';\n",
              "\n",
              "        async function convertToInteractive(key) {\n",
              "          const element = document.querySelector('#df-d9e4887a-cfc9-405b-a537-721af4bc4a57');\n",
              "          const dataTable =\n",
              "            await google.colab.kernel.invokeFunction('convertToInteractive',\n",
              "                                                     [key], {});\n",
              "          if (!dataTable) return;\n",
              "\n",
              "          const docLinkHtml = 'Like what you see? Visit the ' +\n",
              "            '<a target=\"_blank\" href=https://colab.research.google.com/notebooks/data_table.ipynb>data table notebook</a>'\n",
              "            + ' to learn more about interactive tables.';\n",
              "          element.innerHTML = '';\n",
              "          dataTable['output_type'] = 'display_data';\n",
              "          await google.colab.output.renderOutput(dataTable, element);\n",
              "          const docLink = document.createElement('div');\n",
              "          docLink.innerHTML = docLinkHtml;\n",
              "          element.appendChild(docLink);\n",
              "        }\n",
              "      </script>\n",
              "    </div>\n",
              "  </div>\n",
              "  "
            ],
            "text/plain": [
              "          TIMESTAMP  M_TRACK_TEMPERATURE  ...  M_AIR_TEMPERATURE_CHANGE  M_WEATHER\n",
              "17038  1.642724e+09                   33  ...                       2.0          0\n",
              "17039  1.642724e+09                   33  ...                       2.0          0\n",
              "17040  1.642724e+09                   33  ...                       2.0          0\n",
              "17041  1.642724e+09                   33  ...                       1.0          0\n",
              "17042  1.642724e+09                   33  ...                       2.0          0\n",
              "\n",
              "[5 rows x 9 columns]"
            ]
          },
          "metadata": {},
          "execution_count": 57
        }
      ],
      "source": [
        "X.head()"
      ]
    },
    {
      "cell_type": "code",
      "execution_count": 58,
      "id": "9a1e1a21",
      "metadata": {
        "execution": {
          "iopub.execute_input": "2022-02-21T19:30:25.245448Z",
          "iopub.status.busy": "2022-02-21T19:30:25.244755Z",
          "iopub.status.idle": "2022-02-21T19:34:17.600419Z",
          "shell.execute_reply": "2022-02-21T19:34:17.601237Z",
          "shell.execute_reply.started": "2022-02-21T18:40:27.308581Z"
        },
        "papermill": {
          "duration": 232.461343,
          "end_time": "2022-02-21T19:34:17.601508",
          "exception": false,
          "start_time": "2022-02-21T19:30:25.140165",
          "status": "completed"
        },
        "tags": [],
        "id": "9a1e1a21",
        "outputId": "19bce031-e63e-4eea-cb24-727c1cf83561",
        "colab": {
          "base_uri": "https://localhost:8080/"
        }
      },
      "outputs": [
        {
          "output_type": "stream",
          "name": "stdout",
          "text": [
            "0.0032072464599669473\n"
          ]
        }
      ],
      "source": [
        "forest_model = RandomForestRegressor(random_state=100)\n",
        "forest_model.fit(train_X, train_y)\n",
        "pred = forest_model.predict(val_X)\n",
        "print(mean_absolute_error(val_y,pred))"
      ]
    },
    {
      "cell_type": "code",
      "execution_count": 59,
      "id": "8c7ccc1b",
      "metadata": {
        "execution": {
          "iopub.execute_input": "2022-02-21T19:34:17.808164Z",
          "iopub.status.busy": "2022-02-21T19:34:17.807128Z",
          "iopub.status.idle": "2022-02-21T19:34:20.041464Z",
          "shell.execute_reply": "2022-02-21T19:34:20.041997Z",
          "shell.execute_reply.started": "2022-02-21T18:43:54.255169Z"
        },
        "papermill": {
          "duration": 2.338618,
          "end_time": "2022-02-21T19:34:20.042202",
          "exception": false,
          "start_time": "2022-02-21T19:34:17.703584",
          "status": "completed"
        },
        "tags": [],
        "id": "8c7ccc1b",
        "outputId": "beeaa83e-ef9a-4194-d93d-04d97240f7a5",
        "colab": {
          "base_uri": "https://localhost:8080/"
        }
      },
      "outputs": [
        {
          "output_type": "execute_result",
          "data": {
            "text/plain": [
              "0.9996046966911932"
            ]
          },
          "metadata": {},
          "execution_count": 59
        }
      ],
      "source": [
        "from sklearn import metrics\n",
        "forest_model.score(val_X,val_y)"
      ]
    },
    {
      "cell_type": "code",
      "execution_count": 60,
      "id": "8acf61ed",
      "metadata": {
        "execution": {
          "iopub.execute_input": "2022-02-21T19:34:20.249800Z",
          "iopub.status.busy": "2022-02-21T19:34:20.248824Z",
          "iopub.status.idle": "2022-02-21T19:34:20.252506Z",
          "shell.execute_reply": "2022-02-21T19:34:20.253006Z",
          "shell.execute_reply.started": "2022-02-21T18:43:56.294487Z"
        },
        "papermill": {
          "duration": 0.110162,
          "end_time": "2022-02-21T19:34:20.253210",
          "exception": false,
          "start_time": "2022-02-21T19:34:20.143048",
          "status": "completed"
        },
        "tags": [],
        "id": "8acf61ed"
      },
      "outputs": [],
      "source": [
        "Y111=val_y.values"
      ]
    },
    {
      "cell_type": "code",
      "execution_count": 61,
      "id": "d19f98c1",
      "metadata": {
        "execution": {
          "iopub.execute_input": "2022-02-21T19:34:20.459680Z",
          "iopub.status.busy": "2022-02-21T19:34:20.458704Z",
          "iopub.status.idle": "2022-02-21T19:34:20.466617Z",
          "shell.execute_reply": "2022-02-21T19:34:20.466040Z",
          "shell.execute_reply.started": "2022-02-21T18:43:56.302583Z"
        },
        "papermill": {
          "duration": 0.112379,
          "end_time": "2022-02-21T19:34:20.466772",
          "exception": false,
          "start_time": "2022-02-21T19:34:20.354393",
          "status": "completed"
        },
        "tags": [],
        "id": "d19f98c1",
        "outputId": "1e29bbdf-0443-4aed-9f8d-bd6da55f8180",
        "colab": {
          "base_uri": "https://localhost:8080/"
        }
      },
      "outputs": [
        {
          "output_type": "execute_result",
          "data": {
            "text/plain": [
              "array([ 0.,  1.,  0.,  2.,  0.,  1.,  0.,  0.,  0.,  0.,  0.,  2.,  0.,\n",
              "        1.,  0.,  0.,  0.,  0.,  0.,  0.,  0.,  3.,  0.,  0.,  0.,  0.,\n",
              "        0.,  0.,  2.,  1.,  0.,  0.,  0.,  0.,  0.,  3.,  0.,  0.,  2.,\n",
              "        0.,  4.,  0.,  0.,  0.,  0.,  3.,  0.,  9.,  0.,  0.,  0.,  0.,\n",
              "        0.,  1.,  0.,  0.,  0.,  0.,  0., 14.,  0.,  0.,  0.,  0.,  0.,\n",
              "        0.,  0.,  1.,  0.,  0.,  2.,  0.,  0., 11.,  0.,  0., 10., 14.,\n",
              "        0.,  0.,  0.,  2.,  0.,  4.,  0.,  1.,  4.,  0.,  0.,  4.,  7.,\n",
              "        0.,  1.,  0.,  1.,  1.,  0.,  0.,  0.,  1.])"
            ]
          },
          "metadata": {},
          "execution_count": 61
        }
      ],
      "source": [
        "Y111[:100]"
      ]
    },
    {
      "cell_type": "code",
      "execution_count": 62,
      "id": "ef9a1526",
      "metadata": {
        "execution": {
          "iopub.execute_input": "2022-02-21T19:34:20.675722Z",
          "iopub.status.busy": "2022-02-21T19:34:20.674722Z",
          "iopub.status.idle": "2022-02-21T19:34:20.682174Z",
          "shell.execute_reply": "2022-02-21T19:34:20.682704Z",
          "shell.execute_reply.started": "2022-02-21T18:43:56.318063Z"
        },
        "papermill": {
          "duration": 0.114248,
          "end_time": "2022-02-21T19:34:20.682903",
          "exception": false,
          "start_time": "2022-02-21T19:34:20.568655",
          "status": "completed"
        },
        "tags": [],
        "id": "ef9a1526",
        "outputId": "0de71bc6-69e7-4b74-ef90-3aa4933ffd45",
        "colab": {
          "base_uri": "https://localhost:8080/"
        }
      },
      "outputs": [
        {
          "output_type": "execute_result",
          "data": {
            "text/plain": [
              "array([ 0.        ,  1.        ,  0.        ,  2.        ,  0.        ,\n",
              "        1.        ,  0.        ,  0.        ,  0.        ,  0.        ,\n",
              "        0.        ,  2.        ,  0.        ,  1.        ,  0.        ,\n",
              "        0.        ,  0.        ,  0.        ,  0.        ,  0.        ,\n",
              "        0.        ,  3.        ,  0.        ,  0.        ,  0.        ,\n",
              "        0.        ,  0.        ,  0.        ,  2.        ,  1.        ,\n",
              "        0.        ,  0.        ,  0.        ,  0.        ,  0.        ,\n",
              "        3.        ,  0.        ,  0.        ,  2.        ,  0.        ,\n",
              "        4.        ,  0.        ,  0.        ,  0.        ,  0.        ,\n",
              "        3.        ,  0.        ,  9.        ,  0.        ,  0.        ,\n",
              "        0.        ,  0.        ,  0.        ,  1.        ,  0.        ,\n",
              "        0.        ,  0.        ,  0.        ,  0.        , 14.        ,\n",
              "        0.        ,  0.        ,  0.        ,  0.        ,  0.        ,\n",
              "        0.        ,  0.        ,  1.        ,  0.        ,  0.        ,\n",
              "        2.        ,  0.        ,  0.        , 11.        ,  0.        ,\n",
              "        0.        , 10.        , 14.        ,  0.        ,  0.        ,\n",
              "        0.        ,  2.47278372,  0.        ,  4.        ,  0.        ,\n",
              "        1.        ,  4.        ,  0.        ,  0.        ,  4.        ,\n",
              "        7.        ,  0.        ,  1.        ,  0.        ,  1.        ,\n",
              "        1.        ,  0.        ,  0.        ,  0.        ,  1.        ])"
            ]
          },
          "metadata": {},
          "execution_count": 62
        }
      ],
      "source": [
        "pred[:100]"
      ]
    },
    {
      "cell_type": "code",
      "execution_count": 63,
      "id": "2215d9c8",
      "metadata": {
        "execution": {
          "iopub.execute_input": "2022-02-21T19:34:20.894072Z",
          "iopub.status.busy": "2022-02-21T19:34:20.893110Z",
          "iopub.status.idle": "2022-02-21T19:34:20.919432Z",
          "shell.execute_reply": "2022-02-21T19:34:20.919950Z",
          "shell.execute_reply.started": "2022-02-21T18:43:56.334812Z"
        },
        "papermill": {
          "duration": 0.134271,
          "end_time": "2022-02-21T19:34:20.920172",
          "exception": false,
          "start_time": "2022-02-21T19:34:20.785901",
          "status": "completed"
        },
        "tags": [],
        "id": "2215d9c8",
        "outputId": "a7e41af6-4e6c-4a60-cbba-dfd629ca9384",
        "colab": {
          "base_uri": "https://localhost:8080/"
        }
      },
      "outputs": [
        {
          "output_type": "execute_result",
          "data": {
            "text/plain": [
              "0    0.0\n",
              "dtype: float64"
            ]
          },
          "metadata": {},
          "execution_count": 63
        }
      ],
      "source": [
        "Y.mode()"
      ]
    },
    {
      "cell_type": "code",
      "execution_count": 64,
      "id": "e1184ce1",
      "metadata": {
        "execution": {
          "iopub.execute_input": "2022-02-21T19:34:21.133234Z",
          "iopub.status.busy": "2022-02-21T19:34:21.132242Z",
          "iopub.status.idle": "2022-02-21T19:34:21.139299Z",
          "shell.execute_reply": "2022-02-21T19:34:21.138635Z",
          "shell.execute_reply.started": "2022-02-21T18:43:56.368774Z"
        },
        "papermill": {
          "duration": 0.114191,
          "end_time": "2022-02-21T19:34:21.139460",
          "exception": false,
          "start_time": "2022-02-21T19:34:21.025269",
          "status": "completed"
        },
        "tags": [],
        "id": "e1184ce1",
        "outputId": "fbdeda5e-614b-442a-dda5-77b25b791766",
        "colab": {
          "base_uri": "https://localhost:8080/"
        }
      },
      "outputs": [
        {
          "output_type": "execute_result",
          "data": {
            "text/plain": [
              "Index(['TIMESTAMP', 'M_TRACK_TEMPERATURE', 'M_FORECAST_ACCURACY',\n",
              "       'M_AIR_TEMPERATURE', 'M_TRACK_ID',\n",
              "       'M_WEATHER_FORECAST_SAMPLES_M_SESSION_TYPE', 'M_TIME_OFFSET',\n",
              "       'M_AIR_TEMPERATURE_CHANGE', 'M_WEATHER'],\n",
              "      dtype='object')"
            ]
          },
          "metadata": {},
          "execution_count": 64
        }
      ],
      "source": [
        "X.columns"
      ]
    },
    {
      "cell_type": "code",
      "execution_count": 65,
      "id": "bf641337",
      "metadata": {
        "execution": {
          "iopub.execute_input": "2022-02-21T19:34:21.356472Z",
          "iopub.status.busy": "2022-02-21T19:34:21.355361Z",
          "iopub.status.idle": "2022-02-21T19:34:21.420283Z",
          "shell.execute_reply": "2022-02-21T19:34:21.421291Z",
          "shell.execute_reply.started": "2022-02-21T18:51:34.35137Z"
        },
        "papermill": {
          "duration": 0.177889,
          "end_time": "2022-02-21T19:34:21.421509",
          "exception": false,
          "start_time": "2022-02-21T19:34:21.243620",
          "status": "completed"
        },
        "tags": [],
        "id": "bf641337",
        "outputId": "d3a59949-ed4e-4423-e2a6-88009eca724b",
        "colab": {
          "base_uri": "https://localhost:8080/"
        }
      },
      "outputs": [
        {
          "output_type": "stream",
          "name": "stdout",
          "text": [
            "0.0 predicted value 0.0 is the actual value\n",
            "1.0 predicted value 1.0 is the actual value\n",
            "0.0 predicted value 0.0 is the actual value\n",
            "2.0 predicted value 2.0 is the actual value\n",
            "0.0 predicted value 0.0 is the actual value\n",
            "1.0 predicted value 1.0 is the actual value\n",
            "0.0 predicted value 0.0 is the actual value\n",
            "0.0 predicted value 0.0 is the actual value\n",
            "0.0 predicted value 0.0 is the actual value\n",
            "0.0 predicted value 0.0 is the actual value\n",
            "0.0 predicted value 0.0 is the actual value\n",
            "2.0 predicted value 2.0 is the actual value\n",
            "0.0 predicted value 0.0 is the actual value\n",
            "1.0 predicted value 1.0 is the actual value\n",
            "0.0 predicted value 0.0 is the actual value\n",
            "0.0 predicted value 0.0 is the actual value\n",
            "0.0 predicted value 0.0 is the actual value\n",
            "0.0 predicted value 0.0 is the actual value\n",
            "0.0 predicted value 0.0 is the actual value\n",
            "0.0 predicted value 0.0 is the actual value\n",
            "0.0 predicted value 0.0 is the actual value\n",
            "3.0 predicted value 3.0 is the actual value\n",
            "0.0 predicted value 0.0 is the actual value\n",
            "0.0 predicted value 0.0 is the actual value\n",
            "0.0 predicted value 0.0 is the actual value\n",
            "0.0 predicted value 0.0 is the actual value\n",
            "0.0 predicted value 0.0 is the actual value\n",
            "0.0 predicted value 0.0 is the actual value\n",
            "2.0 predicted value 2.0 is the actual value\n",
            "1.0 predicted value 1.0 is the actual value\n",
            "0.0 predicted value 0.0 is the actual value\n",
            "0.0 predicted value 0.0 is the actual value\n",
            "0.0 predicted value 0.0 is the actual value\n",
            "0.0 predicted value 0.0 is the actual value\n",
            "0.0 predicted value 0.0 is the actual value\n",
            "3.0 predicted value 3.0 is the actual value\n",
            "0.0 predicted value 0.0 is the actual value\n",
            "0.0 predicted value 0.0 is the actual value\n",
            "2.0 predicted value 2.0 is the actual value\n",
            "0.0 predicted value 0.0 is the actual value\n",
            "4.0 predicted value 4.0 is the actual value\n",
            "0.0 predicted value 0.0 is the actual value\n",
            "0.0 predicted value 0.0 is the actual value\n",
            "0.0 predicted value 0.0 is the actual value\n",
            "0.0 predicted value 0.0 is the actual value\n",
            "3.0 predicted value 3.0 is the actual value\n",
            "0.0 predicted value 0.0 is the actual value\n",
            "9.0 predicted value 9.0 is the actual value\n",
            "0.0 predicted value 0.0 is the actual value\n",
            "0.0 predicted value 0.0 is the actual value\n",
            "0.0 predicted value 0.0 is the actual value\n",
            "0.0 predicted value 0.0 is the actual value\n",
            "0.0 predicted value 0.0 is the actual value\n",
            "1.0 predicted value 1.0 is the actual value\n",
            "0.0 predicted value 0.0 is the actual value\n",
            "0.0 predicted value 0.0 is the actual value\n",
            "0.0 predicted value 0.0 is the actual value\n",
            "0.0 predicted value 0.0 is the actual value\n",
            "0.0 predicted value 0.0 is the actual value\n",
            "14.0 predicted value 14.0 is the actual value\n",
            "0.0 predicted value 0.0 is the actual value\n",
            "0.0 predicted value 0.0 is the actual value\n",
            "0.0 predicted value 0.0 is the actual value\n",
            "0.0 predicted value 0.0 is the actual value\n",
            "0.0 predicted value 0.0 is the actual value\n",
            "0.0 predicted value 0.0 is the actual value\n",
            "0.0 predicted value 0.0 is the actual value\n",
            "1.0 predicted value 1.0 is the actual value\n",
            "0.0 predicted value 0.0 is the actual value\n",
            "0.0 predicted value 0.0 is the actual value\n",
            "2.0 predicted value 2.0 is the actual value\n",
            "0.0 predicted value 0.0 is the actual value\n",
            "0.0 predicted value 0.0 is the actual value\n",
            "11.0 predicted value 11.0 is the actual value\n",
            "0.0 predicted value 0.0 is the actual value\n",
            "0.0 predicted value 0.0 is the actual value\n",
            "10.0 predicted value 10.0 is the actual value\n",
            "14.0 predicted value 14.0 is the actual value\n",
            "0.0 predicted value 0.0 is the actual value\n",
            "0.0 predicted value 0.0 is the actual value\n",
            "0.0 predicted value 0.0 is the actual value\n",
            "2.4727837187641803 predicted value 2.0 is the actual value\n",
            "0.0 predicted value 0.0 is the actual value\n",
            "4.0 predicted value 4.0 is the actual value\n",
            "0.0 predicted value 0.0 is the actual value\n",
            "1.0 predicted value 1.0 is the actual value\n",
            "4.0 predicted value 4.0 is the actual value\n",
            "0.0 predicted value 0.0 is the actual value\n",
            "0.0 predicted value 0.0 is the actual value\n",
            "4.0 predicted value 4.0 is the actual value\n",
            "7.0 predicted value 7.0 is the actual value\n",
            "0.0 predicted value 0.0 is the actual value\n",
            "1.0 predicted value 1.0 is the actual value\n",
            "0.0 predicted value 0.0 is the actual value\n",
            "1.0 predicted value 1.0 is the actual value\n",
            "1.0 predicted value 1.0 is the actual value\n",
            "0.0 predicted value 0.0 is the actual value\n",
            "0.0 predicted value 0.0 is the actual value\n",
            "0.0 predicted value 0.0 is the actual value\n",
            "1.0 predicted value 1.0 is the actual value\n"
          ]
        }
      ],
      "source": [
        "y_val1=forest_model.predict(val_X.iloc[0:100])\n",
        "for i in range(len(y_val1)):\n",
        "    print(y_val1[i],\"predicted value\",val_y.iloc[i],\"is the actual value\")"
      ]
    },
    {
      "cell_type": "code",
      "execution_count": 66,
      "id": "2f8de7b1",
      "metadata": {
        "execution": {
          "iopub.execute_input": "2022-02-21T19:34:21.633168Z",
          "iopub.status.busy": "2022-02-21T19:34:21.632453Z",
          "iopub.status.idle": "2022-02-21T19:34:21.732615Z",
          "shell.execute_reply": "2022-02-21T19:34:21.731992Z",
          "shell.execute_reply.started": "2022-02-21T18:53:24.291788Z"
        },
        "papermill": {
          "duration": 0.208111,
          "end_time": "2022-02-21T19:34:21.732781",
          "exception": false,
          "start_time": "2022-02-21T19:34:21.524670",
          "status": "completed"
        },
        "tags": [],
        "id": "2f8de7b1"
      },
      "outputs": [],
      "source": [
        "from xgboost import XGBRegressor"
      ]
    },
    {
      "cell_type": "code",
      "execution_count": 67,
      "id": "80b380ea",
      "metadata": {
        "execution": {
          "iopub.execute_input": "2022-02-21T19:34:21.947587Z",
          "iopub.status.busy": "2022-02-21T19:34:21.945900Z",
          "iopub.status.idle": "2022-02-21T19:36:11.000931Z",
          "shell.execute_reply": "2022-02-21T19:36:11.001558Z",
          "shell.execute_reply.started": "2022-02-21T18:53:24.418115Z"
        },
        "papermill": {
          "duration": 109.165201,
          "end_time": "2022-02-21T19:36:11.001750",
          "exception": false,
          "start_time": "2022-02-21T19:34:21.836549",
          "status": "completed"
        },
        "tags": [],
        "id": "80b380ea",
        "outputId": "064bd173-87a1-4bf2-f2fa-bd091d86a81b",
        "colab": {
          "base_uri": "https://localhost:8080/"
        }
      },
      "outputs": [
        {
          "output_type": "stream",
          "name": "stdout",
          "text": [
            "[21:41:26] WARNING: /workspace/src/objective/regression_obj.cu:152: reg:linear is now deprecated in favor of reg:squarederror.\n"
          ]
        },
        {
          "output_type": "execute_result",
          "data": {
            "text/plain": [
              "XGBRegressor()"
            ]
          },
          "metadata": {},
          "execution_count": 67
        }
      ],
      "source": [
        "my_model = XGBRegressor()\n",
        "my_model.fit(train_X,train_y)"
      ]
    },
    {
      "cell_type": "code",
      "execution_count": 68,
      "id": "5bceebe3",
      "metadata": {
        "execution": {
          "iopub.execute_input": "2022-02-21T19:36:11.216729Z",
          "iopub.status.busy": "2022-02-21T19:36:11.216082Z",
          "iopub.status.idle": "2022-02-21T19:36:11.755071Z",
          "shell.execute_reply": "2022-02-21T19:36:11.755637Z",
          "shell.execute_reply.started": "2022-02-21T18:55:11.142059Z"
        },
        "papermill": {
          "duration": 0.648516,
          "end_time": "2022-02-21T19:36:11.755861",
          "exception": false,
          "start_time": "2022-02-21T19:36:11.107345",
          "status": "completed"
        },
        "tags": [],
        "id": "5bceebe3",
        "outputId": "e36b18c3-d3e6-43ff-f36f-a531524b4025",
        "colab": {
          "base_uri": "https://localhost:8080/"
        }
      },
      "outputs": [
        {
          "output_type": "execute_result",
          "data": {
            "text/plain": [
              "0.8741242362368958"
            ]
          },
          "metadata": {},
          "execution_count": 68
        }
      ],
      "source": [
        "my_model.score(val_X,val_y)"
      ]
    },
    {
      "cell_type": "code",
      "execution_count": 69,
      "id": "924e466c",
      "metadata": {
        "execution": {
          "iopub.execute_input": "2022-02-21T19:36:11.974051Z",
          "iopub.status.busy": "2022-02-21T19:36:11.973010Z",
          "iopub.status.idle": "2022-02-21T19:36:12.030448Z",
          "shell.execute_reply": "2022-02-21T19:36:12.029579Z",
          "shell.execute_reply.started": "2022-02-21T18:59:26.596204Z"
        },
        "papermill": {
          "duration": 0.169507,
          "end_time": "2022-02-21T19:36:12.030705",
          "exception": false,
          "start_time": "2022-02-21T19:36:11.861198",
          "status": "completed"
        },
        "tags": [],
        "id": "924e466c",
        "outputId": "38d9e103-990b-4363-bbff-2de378d45024",
        "colab": {
          "base_uri": "https://localhost:8080/"
        }
      },
      "outputs": [
        {
          "output_type": "stream",
          "name": "stdout",
          "text": [
            "0.1695686 predicted value 0.0 is the actual value\n",
            "0.814605 predicted value 1.0 is the actual value\n",
            "-0.03288281 predicted value 0.0 is the actual value\n",
            "2.9449494 predicted value 2.0 is the actual value\n",
            "-0.034338534 predicted value 0.0 is the actual value\n",
            "3.1944122 predicted value 1.0 is the actual value\n",
            "-0.034338534 predicted value 0.0 is the actual value\n",
            "0.0288288 predicted value 0.0 is the actual value\n",
            "-0.07604551 predicted value 0.0 is the actual value\n",
            "-0.03288281 predicted value 0.0 is the actual value\n",
            "-0.034338534 predicted value 0.0 is the actual value\n",
            "2.6968439 predicted value 2.0 is the actual value\n",
            "-0.07604551 predicted value 0.0 is the actual value\n",
            "1.2379005 predicted value 1.0 is the actual value\n",
            "-0.001182437 predicted value 0.0 is the actual value\n",
            "-0.034338534 predicted value 0.0 is the actual value\n",
            "-0.0138806105 predicted value 0.0 is the actual value\n",
            "0.1695686 predicted value 0.0 is the actual value\n",
            "-0.034338534 predicted value 0.0 is the actual value\n",
            "-0.0138806105 predicted value 0.0 is the actual value\n",
            "0.048911273 predicted value 0.0 is the actual value\n",
            "3.3007457 predicted value 3.0 is the actual value\n",
            "-0.034338534 predicted value 0.0 is the actual value\n",
            "0.122859985 predicted value 0.0 is the actual value\n",
            "-0.03288281 predicted value 0.0 is the actual value\n",
            "-0.034338534 predicted value 0.0 is the actual value\n",
            "-0.034338534 predicted value 0.0 is the actual value\n",
            "0.14003822 predicted value 0.0 is the actual value\n",
            "1.3281822 predicted value 2.0 is the actual value\n",
            "1.7134376 predicted value 1.0 is the actual value\n",
            "-0.034338534 predicted value 0.0 is the actual value\n",
            "-0.0715881 predicted value 0.0 is the actual value\n",
            "-0.034338534 predicted value 0.0 is the actual value\n",
            "-0.07604551 predicted value 0.0 is the actual value\n",
            "0.1695686 predicted value 0.0 is the actual value\n",
            "10.342636 predicted value 3.0 is the actual value\n",
            "-0.034338534 predicted value 0.0 is the actual value\n",
            "-0.0138806105 predicted value 0.0 is the actual value\n",
            "2.8014266 predicted value 2.0 is the actual value\n",
            "0.1695686 predicted value 0.0 is the actual value\n",
            "7.564693 predicted value 4.0 is the actual value\n",
            "0.076863885 predicted value 0.0 is the actual value\n",
            "-0.034338534 predicted value 0.0 is the actual value\n",
            "0.14003822 predicted value 0.0 is the actual value\n",
            "-0.03288281 predicted value 0.0 is the actual value\n",
            "3.1460993 predicted value 3.0 is the actual value\n",
            "-0.0138806105 predicted value 0.0 is the actual value\n",
            "11.778047 predicted value 9.0 is the actual value\n",
            "-0.034338534 predicted value 0.0 is the actual value\n",
            "0.018189877 predicted value 0.0 is the actual value\n",
            "-0.034338534 predicted value 0.0 is the actual value\n",
            "-0.034338534 predicted value 0.0 is the actual value\n",
            "-0.07604551 predicted value 0.0 is the actual value\n",
            "0.5958995 predicted value 1.0 is the actual value\n",
            "0.08155292 predicted value 0.0 is the actual value\n",
            "-0.03288281 predicted value 0.0 is the actual value\n",
            "-0.001182437 predicted value 0.0 is the actual value\n",
            "-0.034338534 predicted value 0.0 is the actual value\n",
            "0.43491876 predicted value 0.0 is the actual value\n",
            "13.710671 predicted value 14.0 is the actual value\n",
            "-0.001182437 predicted value 0.0 is the actual value\n",
            "-0.07604551 predicted value 0.0 is the actual value\n",
            "-0.034338534 predicted value 0.0 is the actual value\n",
            "-0.0138806105 predicted value 0.0 is the actual value\n",
            "-0.03288281 predicted value 0.0 is the actual value\n",
            "-0.0138806105 predicted value 0.0 is the actual value\n",
            "-0.034338534 predicted value 0.0 is the actual value\n",
            "1.2227116 predicted value 1.0 is the actual value\n",
            "-0.03288281 predicted value 0.0 is the actual value\n",
            "-0.034338534 predicted value 0.0 is the actual value\n",
            "3.1012502 predicted value 2.0 is the actual value\n",
            "-0.0138806105 predicted value 0.0 is the actual value\n",
            "-0.034338534 predicted value 0.0 is the actual value\n",
            "10.172539 predicted value 11.0 is the actual value\n",
            "-0.034338534 predicted value 0.0 is the actual value\n",
            "-0.07604551 predicted value 0.0 is the actual value\n",
            "9.534685 predicted value 10.0 is the actual value\n",
            "13.44415 predicted value 14.0 is the actual value\n",
            "0.09086564 predicted value 0.0 is the actual value\n",
            "-0.044865847 predicted value 0.0 is the actual value\n",
            "-0.034338534 predicted value 0.0 is the actual value\n",
            "2.7590804 predicted value 2.0 is the actual value\n",
            "0.19593006 predicted value 0.0 is the actual value\n",
            "3.8130984 predicted value 4.0 is the actual value\n",
            "-0.034338534 predicted value 0.0 is the actual value\n",
            "2.70625 predicted value 1.0 is the actual value\n",
            "3.7435539 predicted value 4.0 is the actual value\n",
            "0.09086564 predicted value 0.0 is the actual value\n",
            "0.048911273 predicted value 0.0 is the actual value\n",
            "1.8369597 predicted value 4.0 is the actual value\n",
            "7.1086297 predicted value 7.0 is the actual value\n",
            "-0.034338534 predicted value 0.0 is the actual value\n",
            "0.83025265 predicted value 1.0 is the actual value\n",
            "0.14003822 predicted value 0.0 is the actual value\n",
            "2.1103466 predicted value 1.0 is the actual value\n",
            "1.2549512 predicted value 1.0 is the actual value\n",
            "-0.03288281 predicted value 0.0 is the actual value\n",
            "-0.034338534 predicted value 0.0 is the actual value\n",
            "-0.022791147 predicted value 0.0 is the actual value\n",
            "2.4337497 predicted value 1.0 is the actual value\n"
          ]
        }
      ],
      "source": [
        "y_val2=my_model.predict(val_X.iloc[0:100])\n",
        "for i in range(len(y_val1)):\n",
        "    print(y_val2[i],\"predicted value\",val_y.iloc[i],\"is the actual value\")"
      ]
    },
    {
      "cell_type": "code",
      "execution_count": 74,
      "id": "8e147c08",
      "metadata": {
        "execution": {
          "iopub.execute_input": "2022-02-21T19:36:12.797295Z",
          "iopub.status.busy": "2022-02-21T19:36:12.796218Z",
          "iopub.status.idle": "2022-02-21T19:36:12.798991Z",
          "shell.execute_reply": "2022-02-21T19:36:12.798479Z",
          "shell.execute_reply.started": "2022-02-21T18:55:11.754048Z"
        },
        "papermill": {
          "duration": 0.18721,
          "end_time": "2022-02-21T19:36:12.799166",
          "exception": false,
          "start_time": "2022-02-21T19:36:12.611956",
          "status": "completed"
        },
        "tags": [],
        "id": "8e147c08"
      },
      "outputs": [],
      "source": [
        "y_c=F1['M_WEATHER']\n",
        "x_c=F1.drop(columns=['M_WEATHER'],inplace=False)"
      ]
    },
    {
      "cell_type": "code",
      "execution_count": 75,
      "id": "fe809746",
      "metadata": {
        "execution": {
          "iopub.execute_input": "2022-02-21T19:36:13.022716Z",
          "iopub.status.busy": "2022-02-21T19:36:13.021856Z",
          "iopub.status.idle": "2022-02-21T19:36:14.042810Z",
          "shell.execute_reply": "2022-02-21T19:36:14.042226Z",
          "shell.execute_reply.started": "2022-02-21T18:55:11.818194Z"
        },
        "papermill": {
          "duration": 1.136283,
          "end_time": "2022-02-21T19:36:14.043002",
          "exception": false,
          "start_time": "2022-02-21T19:36:12.906719",
          "status": "completed"
        },
        "tags": [],
        "id": "fe809746"
      },
      "outputs": [],
      "source": [
        "from sklearn.model_selection import train_test_split as tts\n",
        "x_ctrain,x_ctest,y_ctrain,y_ctest = tts(x_c,y_c,test_size=0.25,random_state=0)"
      ]
    },
    {
      "cell_type": "code",
      "execution_count": 76,
      "id": "a4bd6cc5",
      "metadata": {
        "execution": {
          "iopub.execute_input": "2022-02-21T19:36:14.266068Z",
          "iopub.status.busy": "2022-02-21T19:36:14.264411Z",
          "iopub.status.idle": "2022-02-21T19:36:16.796019Z",
          "shell.execute_reply": "2022-02-21T19:36:16.795348Z",
          "shell.execute_reply.started": "2022-02-21T18:55:12.800044Z"
        },
        "papermill": {
          "duration": 2.646838,
          "end_time": "2022-02-21T19:36:16.796167",
          "exception": false,
          "start_time": "2022-02-21T19:36:14.149329",
          "status": "completed"
        },
        "tags": [],
        "id": "a4bd6cc5",
        "outputId": "fc9ad1d1-0410-4de9-bbbb-b311ecaee083",
        "colab": {
          "base_uri": "https://localhost:8080/",
          "height": 370
        }
      },
      "outputs": [
        {
          "output_type": "execute_result",
          "data": {
            "text/plain": [
              "[Text(0.5, 0.8333333333333334, 'X[1] <= 29.5\\ngini = 0.452\\nsamples = 1497333\\nvalue = [1025647, 416341, 55345]'),\n",
              " Text(0.25, 0.5, 'X[1] <= 26.0\\ngini = 0.359\\nsamples = 332716\\nvalue = [19166, 260417, 53133]'),\n",
              " Text(0.125, 0.16666666666666666, 'gini = 0.0\\nsamples = 47608\\nvalue = [0, 0, 47608]'),\n",
              " Text(0.375, 0.16666666666666666, 'gini = 0.161\\nsamples = 285108\\nvalue = [19166, 260417, 5525]'),\n",
              " Text(0.75, 0.5, 'X[7] <= 2861699840.0\\ngini = 0.235\\nsamples = 1164617\\nvalue = [1006481, 155924, 2212]'),\n",
              " Text(0.625, 0.16666666666666666, 'gini = 0.025\\nsamples = 630592\\nvalue = [622787, 5891, 1914]'),\n",
              " Text(0.875, 0.16666666666666666, 'gini = 0.405\\nsamples = 534025\\nvalue = [383694, 150033, 298]')]"
            ]
          },
          "metadata": {},
          "execution_count": 76
        },
        {
          "output_type": "display_data",
          "data": {
            "image/png": "[encoded data removed]",
            "text/plain": [
              "<Figure size 432x288 with 1 Axes>"
            ]
          },
          "metadata": {
            "needs_background": "light"
          }
        }
      ],
      "source": [
        "#Decision Tree Classifier for max depth=2\n",
        "\n",
        "from sklearn import tree\n",
        "clf = tree.DecisionTreeClassifier(max_depth = 2).fit(x_ctrain,y_ctrain)\n",
        "clf.predict(x_ctest)\n",
        "tree.plot_tree(clf)"
      ]
    },
    {
      "cell_type": "code",
      "execution_count": 77,
      "id": "d68ddffd",
      "metadata": {
        "execution": {
          "iopub.execute_input": "2022-02-21T19:36:17.016931Z",
          "iopub.status.busy": "2022-02-21T19:36:17.016189Z",
          "iopub.status.idle": "2022-02-21T19:36:17.222519Z",
          "shell.execute_reply": "2022-02-21T19:36:17.223335Z",
          "shell.execute_reply.started": "2022-02-21T18:55:15.328335Z"
        },
        "papermill": {
          "duration": 0.317995,
          "end_time": "2022-02-21T19:36:17.223587",
          "exception": false,
          "start_time": "2022-02-21T19:36:16.905592",
          "status": "completed"
        },
        "tags": [],
        "id": "d68ddffd",
        "outputId": "a5200204-4637-4e31-b42d-ae0a2d53b8c3",
        "colab": {
          "base_uri": "https://localhost:8080/"
        }
      },
      "outputs": [
        {
          "output_type": "stream",
          "name": "stdout",
          "text": [
            "[1 0 0 ... 0 1 0]\n"
          ]
        },
        {
          "output_type": "execute_result",
          "data": {
            "text/plain": [
              "0.8771157575854718"
            ]
          },
          "metadata": {},
          "execution_count": 77
        }
      ],
      "source": [
        "print(clf.predict(x_ctest))\n",
        "clf.score(x_ctest,y_ctest)"
      ]
    },
    {
      "cell_type": "code",
      "execution_count": 80,
      "id": "65a7735c",
      "metadata": {
        "execution": {
          "iopub.execute_input": "2022-02-21T19:36:17.747223Z",
          "iopub.status.busy": "2022-02-21T19:36:17.745514Z",
          "iopub.status.idle": "2022-02-21T19:36:21.523553Z",
          "shell.execute_reply": "2022-02-21T19:36:21.522726Z",
          "shell.execute_reply.started": "2022-02-21T18:55:15.497755Z"
        },
        "papermill": {
          "duration": 3.897149,
          "end_time": "2022-02-21T19:36:21.523710",
          "exception": false,
          "start_time": "2022-02-21T19:36:17.626561",
          "status": "completed"
        },
        "tags": [],
        "id": "65a7735c",
        "outputId": "7de09d9b-be93-47f9-d4bc-4cb02b529c4d",
        "colab": {
          "base_uri": "https://localhost:8080/",
          "height": 474
        }
      },
      "outputs": [
        {
          "output_type": "execute_result",
          "data": {
            "text/plain": [
              "[Text(0.4230769230769231, 0.875, 'X[1] <= 29.5\\ngini = 0.452\\nsamples = 1497333\\nvalue = [1025647, 416341, 55345]'),\n",
              " Text(0.15384615384615385, 0.625, 'X[4] <= 17.5\\ngini = 0.359\\nsamples = 332716\\nvalue = [19166, 260417, 53133]'),\n",
              " Text(0.07692307692307693, 0.375, 'gini = 0.0\\nsamples = 47608\\nvalue = [0, 0, 47608]'),\n",
              " Text(0.23076923076923078, 0.375, 'X[0] <= 1641499136.0\\ngini = 0.161\\nsamples = 285108\\nvalue = [19166, 260417, 5525]'),\n",
              " Text(0.15384615384615385, 0.125, 'gini = 0.338\\nsamples = 24434\\nvalue = [19166, 0, 5268]'),\n",
              " Text(0.3076923076923077, 0.125, 'gini = 0.002\\nsamples = 260674\\nvalue = [0, 260417, 257]'),\n",
              " Text(0.6923076923076923, 0.625, 'X[7] <= 2861699840.0\\ngini = 0.235\\nsamples = 1164617\\nvalue = [1006481, 155924, 2212]'),\n",
              " Text(0.5384615384615384, 0.375, 'X[4] <= 26.5\\ngini = 0.025\\nsamples = 630592\\nvalue = [622787, 5891, 1914]'),\n",
              " Text(0.46153846153846156, 0.125, 'gini = 0.011\\nsamples = 626214\\nvalue = [622787, 1513, 1914]'),\n",
              " Text(0.6153846153846154, 0.125, 'gini = 0.0\\nsamples = 4378\\nvalue = [0, 4378, 0]'),\n",
              " Text(0.8461538461538461, 0.375, 'X[4] <= 27.5\\ngini = 0.405\\nsamples = 534025\\nvalue = [383694, 150033, 298]'),\n",
              " Text(0.7692307692307693, 0.125, 'gini = 0.5\\nsamples = 268139\\nvalue = [127093, 140748, 298]'),\n",
              " Text(0.9230769230769231, 0.125, 'gini = 0.067\\nsamples = 265886\\nvalue = [256601, 9285, 0]')]"
            ]
          },
          "metadata": {},
          "execution_count": 80
        },
        {
          "output_type": "display_data",
          "data": {
            "image/png": "[encoded data removed]",
            "text/plain": [
              "<Figure size 432x288 with 1 Axes>"
            ]
          },
          "metadata": {
            "needs_background": "light"
          }
        }
      ],
      "source": [
        "#DecisionTree Classifier with maxdepth = 3\n",
        "\n",
        "clf1 = tree.DecisionTreeClassifier(max_depth = 3).fit(x_ctrain,y_ctrain)\n",
        "clf1.predict(x_ctest)\n",
        "tree.plot_tree(clf1)"
      ]
    },
    {
      "cell_type": "code",
      "execution_count": 81,
      "id": "059d4496",
      "metadata": {
        "execution": {
          "iopub.execute_input": "2022-02-21T19:36:21.751382Z",
          "iopub.status.busy": "2022-02-21T19:36:21.750711Z",
          "iopub.status.idle": "2022-02-21T19:36:21.962384Z",
          "shell.execute_reply": "2022-02-21T19:36:21.961403Z",
          "shell.execute_reply.started": "2022-02-21T18:55:18.72122Z"
        },
        "papermill": {
          "duration": 0.328718,
          "end_time": "2022-02-21T19:36:21.962577",
          "exception": false,
          "start_time": "2022-02-21T19:36:21.633859",
          "status": "completed"
        },
        "tags": [],
        "id": "059d4496",
        "outputId": "253ba9de-9c66-4cf5-dd0c-1d1e2f37703e",
        "colab": {
          "base_uri": "https://localhost:8080/"
        }
      },
      "outputs": [
        {
          "output_type": "stream",
          "name": "stdout",
          "text": [
            "[1 0 0 ... 0 1 1]\n"
          ]
        },
        {
          "output_type": "execute_result",
          "data": {
            "text/plain": [
              "0.9027793361009152"
            ]
          },
          "metadata": {},
          "execution_count": 81
        }
      ],
      "source": [
        "print(clf1.predict(x_ctest))\n",
        "clf1.score(x_ctest,y_ctest)"
      ]
    },
    {
      "cell_type": "code",
      "execution_count": 83,
      "id": "0cc709c8",
      "metadata": {
        "execution": {
          "iopub.execute_input": "2022-02-21T19:36:22.492944Z",
          "iopub.status.busy": "2022-02-21T19:36:22.492288Z",
          "iopub.status.idle": "2022-02-21T19:36:28.500611Z",
          "shell.execute_reply": "2022-02-21T19:36:28.501363Z",
          "shell.execute_reply.started": "2022-02-21T18:55:18.895006Z"
        },
        "papermill": {
          "duration": 6.130655,
          "end_time": "2022-02-21T19:36:28.501573",
          "exception": false,
          "start_time": "2022-02-21T19:36:22.370918",
          "status": "completed"
        },
        "tags": [],
        "id": "0cc709c8",
        "outputId": "5fd3ed54-db20-4dee-e279-d15cefcca62e",
        "colab": {
          "base_uri": "https://localhost:8080/",
          "height": 821
        }
      },
      "outputs": [
        {
          "output_type": "execute_result",
          "data": {
            "text/plain": [
              "[Text(0.365, 0.9166666666666666, 'X[1] <= 29.5\\ngini = 0.452\\nsamples = 1497333\\nvalue = [1025647, 416341, 55345]'),\n",
              " Text(0.12, 0.75, 'X[4] <= 17.5\\ngini = 0.359\\nsamples = 332716\\nvalue = [19166, 260417, 53133]'),\n",
              " Text(0.08, 0.5833333333333334, 'gini = 0.0\\nsamples = 47608\\nvalue = [0, 0, 47608]'),\n",
              " Text(0.16, 0.5833333333333334, 'X[0] <= 1641499136.0\\ngini = 0.161\\nsamples = 285108\\nvalue = [19166, 260417, 5525]'),\n",
              " Text(0.08, 0.4166666666666667, 'X[1] <= 27.5\\ngini = 0.338\\nsamples = 24434\\nvalue = [19166, 0, 5268]'),\n",
              " Text(0.04, 0.25, 'gini = 0.0\\nsamples = 5268\\nvalue = [0, 0, 5268]'),\n",
              " Text(0.12, 0.25, 'gini = 0.0\\nsamples = 19166\\nvalue = [19166, 0, 0]'),\n",
              " Text(0.24, 0.4166666666666667, 'X[10] <= 1.5\\ngini = 0.002\\nsamples = 260674\\nvalue = [0, 260417, 257]'),\n",
              " Text(0.2, 0.25, 'X[5] <= 8.0\\ngini = 0.002\\nsamples = 260662\\nvalue = [0, 260417, 245]'),\n",
              " Text(0.16, 0.08333333333333333, 'gini = 0.043\\nsamples = 11029\\nvalue = [0, 10784, 245]'),\n",
              " Text(0.24, 0.08333333333333333, 'gini = 0.0\\nsamples = 249633\\nvalue = [0, 249633, 0]'),\n",
              " Text(0.28, 0.25, 'gini = 0.0\\nsamples = 12\\nvalue = [0, 0, 12]'),\n",
              " Text(0.61, 0.75, 'X[7] <= 2861699840.0\\ngini = 0.235\\nsamples = 1164617\\nvalue = [1006481, 155924, 2212]'),\n",
              " Text(0.44, 0.5833333333333334, 'X[4] <= 26.5\\ngini = 0.025\\nsamples = 630592\\nvalue = [622787, 5891, 1914]'),\n",
              " Text(0.4, 0.4166666666666667, 'X[1] <= 30.5\\ngini = 0.011\\nsamples = 626214\\nvalue = [622787, 1513, 1914]'),\n",
              " Text(0.36, 0.25, 'gini = 0.0\\nsamples = 1914\\nvalue = [0, 0, 1914]'),\n",
              " Text(0.44, 0.25, 'X[3] <= 0.5\\ngini = 0.005\\nsamples = 624300\\nvalue = [622787, 1513, 0]'),\n",
              " Text(0.4, 0.08333333333333333, 'gini = 0.0\\nsamples = 615629\\nvalue = [615629, 0, 0]'),\n",
              " Text(0.48, 0.08333333333333333, 'gini = 0.288\\nsamples = 8671\\nvalue = [7158, 1513, 0]'),\n",
              " Text(0.48, 0.4166666666666667, 'gini = 0.0\\nsamples = 4378\\nvalue = [0, 4378, 0]'),\n",
              " Text(0.78, 0.5833333333333334, 'X[4] <= 27.5\\ngini = 0.405\\nsamples = 534025\\nvalue = [383694, 150033, 298]'),\n",
              " Text(0.68, 0.4166666666666667, 'X[5] <= 8.5\\ngini = 0.5\\nsamples = 268139\\nvalue = [127093, 140748, 298]'),\n",
              " Text(0.6, 0.25, 'X[0] <= 1642509760.0\\ngini = 0.008\\nsamples = 73453\\nvalue = [73155, 0, 298]'),\n",
              " Text(0.56, 0.08333333333333333, 'gini = 0.0\\nsamples = 73155\\nvalue = [73155, 0, 0]'),\n",
              " Text(0.64, 0.08333333333333333, 'gini = 0.0\\nsamples = 298\\nvalue = [0, 0, 298]'),\n",
              " Text(0.76, 0.25, 'X[1] <= 33.5\\ngini = 0.401\\nsamples = 194686\\nvalue = [53938, 140748, 0]'),\n",
              " Text(0.72, 0.08333333333333333, 'gini = 0.496\\nsamples = 118704\\nvalue = [53938, 64766, 0]'),\n",
              " Text(0.8, 0.08333333333333333, 'gini = 0.0\\nsamples = 75982\\nvalue = [0, 75982, 0]'),\n",
              " Text(0.88, 0.4166666666666667, 'X[0] <= 1641820864.0\\ngini = 0.067\\nsamples = 265886\\nvalue = [256601, 9285, 0]'),\n",
              " Text(0.84, 0.25, 'gini = 0.0\\nsamples = 179575\\nvalue = [179575, 0, 0]'),\n",
              " Text(0.92, 0.25, 'X[0] <= 1641824960.0\\ngini = 0.192\\nsamples = 86311\\nvalue = [77026, 9285, 0]'),\n",
              " Text(0.88, 0.08333333333333333, 'gini = 0.471\\nsamples = 14944\\nvalue = [5659, 9285, 0]'),\n",
              " Text(0.96, 0.08333333333333333, 'gini = 0.0\\nsamples = 71367\\nvalue = [71367, 0, 0]')]"
            ]
          },
          "metadata": {},
          "execution_count": 83
        },
        {
          "output_type": "display_data",
          "data": {
            "image/png": "[encoded data removed]",
            "text/plain": [
              "<Figure size 432x288 with 1 Axes>"
            ]
          },
          "metadata": {
            "needs_background": "light"
          }
        }
      ],
      "source": [
        "#Decision Tree Classifier for max depth=5\n",
        "\n",
        "from sklearn import tree\n",
        "clf2 = tree.DecisionTreeClassifier(max_depth = 5).fit(x_ctrain,y_ctrain)\n",
        "clf2.predict(x_ctest)\n",
        "tree.plot_tree(clf2)"
      ]
    },
    {
      "cell_type": "code",
      "execution_count": 84,
      "id": "5f34bb28",
      "metadata": {
        "execution": {
          "iopub.execute_input": "2022-02-21T19:36:28.734914Z",
          "iopub.status.busy": "2022-02-21T19:36:28.733937Z",
          "iopub.status.idle": "2022-02-21T19:36:28.956922Z",
          "shell.execute_reply": "2022-02-21T19:36:28.956341Z",
          "shell.execute_reply.started": "2022-02-21T18:55:24.321348Z"
        },
        "papermill": {
          "duration": 0.341005,
          "end_time": "2022-02-21T19:36:28.957110",
          "exception": false,
          "start_time": "2022-02-21T19:36:28.616105",
          "status": "completed"
        },
        "tags": [],
        "id": "5f34bb28",
        "outputId": "1daedae8-df85-4f65-ea18-6ae716670c7c",
        "colab": {
          "base_uri": "https://localhost:8080/"
        }
      },
      "outputs": [
        {
          "output_type": "stream",
          "name": "stdout",
          "text": [
            "[1 0 0 ... 0 1 0]\n"
          ]
        },
        {
          "output_type": "execute_result",
          "data": {
            "text/plain": [
              "0.9593778550706054"
            ]
          },
          "metadata": {},
          "execution_count": 84
        }
      ],
      "source": [
        "print(clf2.predict(x_ctest))\n",
        "clf2.score(x_ctest,y_ctest)"
      ]
    },
    {
      "cell_type": "code",
      "execution_count": 86,
      "id": "c0d47751",
      "metadata": {
        "execution": {
          "iopub.execute_input": "2022-02-21T19:36:29.484389Z",
          "iopub.status.busy": "2022-02-21T19:36:29.483705Z",
          "iopub.status.idle": "2022-02-21T19:36:29.674665Z",
          "shell.execute_reply": "2022-02-21T19:36:29.675165Z",
          "shell.execute_reply.started": "2022-02-21T18:55:24.510371Z"
        },
        "papermill": {
          "duration": 0.313088,
          "end_time": "2022-02-21T19:36:29.675345",
          "exception": false,
          "start_time": "2022-02-21T19:36:29.362257",
          "status": "completed"
        },
        "tags": [],
        "id": "c0d47751",
        "outputId": "61cb8054-d7e5-4501-cd8f-eb411209acdf",
        "colab": {
          "base_uri": "https://localhost:8080/"
        }
      },
      "outputs": [
        {
          "output_type": "stream",
          "name": "stdout",
          "text": [
            "{0, 1, 2}\n"
          ]
        }
      ],
      "source": [
        "print(set(clf2.predict(x_ctest)))"
      ]
    },
    {
      "cell_type": "code",
      "execution_count": 87,
      "id": "56ec2db8",
      "metadata": {
        "execution": {
          "iopub.execute_input": "2022-02-21T19:36:29.917329Z",
          "iopub.status.busy": "2022-02-21T19:36:29.916629Z",
          "iopub.status.idle": "2022-02-21T19:36:37.057861Z",
          "shell.execute_reply": "2022-02-21T19:36:37.058537Z",
          "shell.execute_reply.started": "2022-02-21T18:55:24.686781Z"
        },
        "papermill": {
          "duration": 7.266282,
          "end_time": "2022-02-21T19:36:37.058745",
          "exception": false,
          "start_time": "2022-02-21T19:36:29.792463",
          "status": "completed"
        },
        "tags": [],
        "id": "56ec2db8",
        "outputId": "7e32c290-35ba-485d-8046-b47fecd46d0a",
        "colab": {
          "base_uri": "https://localhost:8080/",
          "height": 1000
        }
      },
      "outputs": [
        {
          "output_type": "execute_result",
          "data": {
            "text/plain": [
              "[Text(0.3392857142857143, 0.9444444444444444, 'X[1] <= 29.5\\ngini = 0.452\\nsamples = 1497333\\nvalue = [1025647, 416341, 55345]'),\n",
              " Text(0.10714285714285714, 0.8333333333333334, 'X[4] <= 17.5\\ngini = 0.359\\nsamples = 332716\\nvalue = [19166, 260417, 53133]'),\n",
              " Text(0.07142857142857142, 0.7222222222222222, 'gini = 0.0\\nsamples = 47608\\nvalue = [0, 0, 47608]'),\n",
              " Text(0.14285714285714285, 0.7222222222222222, 'X[0] <= 1641499136.0\\ngini = 0.161\\nsamples = 285108\\nvalue = [19166, 260417, 5525]'),\n",
              " Text(0.07142857142857142, 0.6111111111111112, 'X[1] <= 27.5\\ngini = 0.338\\nsamples = 24434\\nvalue = [19166, 0, 5268]'),\n",
              " Text(0.03571428571428571, 0.5, 'gini = 0.0\\nsamples = 5268\\nvalue = [0, 0, 5268]'),\n",
              " Text(0.10714285714285714, 0.5, 'gini = 0.0\\nsamples = 19166\\nvalue = [19166, 0, 0]'),\n",
              " Text(0.21428571428571427, 0.6111111111111112, 'X[10] <= 1.5\\ngini = 0.002\\nsamples = 260674\\nvalue = [0, 260417, 257]'),\n",
              " Text(0.17857142857142858, 0.5, 'X[5] <= 8.0\\ngini = 0.002\\nsamples = 260662\\nvalue = [0, 260417, 245]'),\n",
              " Text(0.14285714285714285, 0.3888888888888889, 'X[4] <= 19.5\\ngini = 0.043\\nsamples = 11029\\nvalue = [0, 10784, 245]'),\n",
              " Text(0.10714285714285714, 0.2777777777777778, 'gini = 0.0\\nsamples = 245\\nvalue = [0, 0, 245]'),\n",
              " Text(0.17857142857142858, 0.2777777777777778, 'gini = 0.0\\nsamples = 10784\\nvalue = [0, 10784, 0]'),\n",
              " Text(0.21428571428571427, 0.3888888888888889, 'gini = 0.0\\nsamples = 249633\\nvalue = [0, 249633, 0]'),\n",
              " Text(0.25, 0.5, 'gini = 0.0\\nsamples = 12\\nvalue = [0, 0, 12]'),\n",
              " Text(0.5714285714285714, 0.8333333333333334, 'X[7] <= 2861699840.0\\ngini = 0.235\\nsamples = 1164617\\nvalue = [1006481, 155924, 2212]'),\n",
              " Text(0.39285714285714285, 0.7222222222222222, 'X[4] <= 26.5\\ngini = 0.025\\nsamples = 630592\\nvalue = [622787, 5891, 1914]'),\n",
              " Text(0.35714285714285715, 0.6111111111111112, 'X[1] <= 30.5\\ngini = 0.011\\nsamples = 626214\\nvalue = [622787, 1513, 1914]'),\n",
              " Text(0.32142857142857145, 0.5, 'gini = 0.0\\nsamples = 1914\\nvalue = [0, 0, 1914]'),\n",
              " Text(0.39285714285714285, 0.5, 'X[3] <= 0.5\\ngini = 0.005\\nsamples = 624300\\nvalue = [622787, 1513, 0]'),\n",
              " Text(0.35714285714285715, 0.3888888888888889, 'gini = 0.0\\nsamples = 615629\\nvalue = [615629, 0, 0]'),\n",
              " Text(0.42857142857142855, 0.3888888888888889, 'X[0] <= 1641913024.0\\ngini = 0.288\\nsamples = 8671\\nvalue = [7158, 1513, 0]'),\n",
              " Text(0.39285714285714285, 0.2777777777777778, 'gini = 0.0\\nsamples = 7069\\nvalue = [7069, 0, 0]'),\n",
              " Text(0.4642857142857143, 0.2777777777777778, 'X[5] <= 28.5\\ngini = 0.105\\nsamples = 1602\\nvalue = [89, 1513, 0]'),\n",
              " Text(0.42857142857142855, 0.16666666666666666, 'gini = 0.0\\nsamples = 1513\\nvalue = [0, 1513, 0]'),\n",
              " Text(0.5, 0.16666666666666666, 'gini = 0.0\\nsamples = 89\\nvalue = [89, 0, 0]'),\n",
              " Text(0.42857142857142855, 0.6111111111111112, 'gini = 0.0\\nsamples = 4378\\nvalue = [0, 4378, 0]'),\n",
              " Text(0.75, 0.7222222222222222, 'X[4] <= 27.5\\ngini = 0.405\\nsamples = 534025\\nvalue = [383694, 150033, 298]'),\n",
              " Text(0.6071428571428571, 0.6111111111111112, 'X[5] <= 8.5\\ngini = 0.5\\nsamples = 268139\\nvalue = [127093, 140748, 298]'),\n",
              " Text(0.5357142857142857, 0.5, 'X[7] <= 2894682496.0\\ngini = 0.008\\nsamples = 73453\\nvalue = [73155, 0, 298]'),\n",
              " Text(0.5, 0.3888888888888889, 'gini = 0.0\\nsamples = 298\\nvalue = [0, 0, 298]'),\n",
              " Text(0.5714285714285714, 0.3888888888888889, 'gini = 0.0\\nsamples = 73155\\nvalue = [73155, 0, 0]'),\n",
              " Text(0.6785714285714286, 0.5, 'X[1] <= 33.5\\ngini = 0.401\\nsamples = 194686\\nvalue = [53938, 140748, 0]'),\n",
              " Text(0.6428571428571429, 0.3888888888888889, 'X[0] <= 1642508032.0\\ngini = 0.496\\nsamples = 118704\\nvalue = [53938, 64766, 0]'),\n",
              " Text(0.6071428571428571, 0.2777777777777778, 'gini = 0.0\\nsamples = 44313\\nvalue = [44313, 0, 0]'),\n",
              " Text(0.6785714285714286, 0.2777777777777778, 'X[7] <= 3218276480.0\\ngini = 0.225\\nsamples = 74391\\nvalue = [9625, 64766, 0]'),\n",
              " Text(0.6428571428571429, 0.16666666666666666, 'X[0] <= 1642728704.0\\ngini = 0.451\\nsamples = 28079\\nvalue = [9625, 18454, 0]'),\n",
              " Text(0.6071428571428571, 0.05555555555555555, 'gini = 0.0\\nsamples = 18048\\nvalue = [0, 18048, 0]'),\n",
              " Text(0.6785714285714286, 0.05555555555555555, 'gini = 0.078\\nsamples = 10031\\nvalue = [9625, 406, 0]'),\n",
              " Text(0.7142857142857143, 0.16666666666666666, 'gini = 0.0\\nsamples = 46312\\nvalue = [0, 46312, 0]'),\n",
              " Text(0.7142857142857143, 0.3888888888888889, 'gini = 0.0\\nsamples = 75982\\nvalue = [0, 75982, 0]'),\n",
              " Text(0.8928571428571429, 0.6111111111111112, 'X[0] <= 1641820864.0\\ngini = 0.067\\nsamples = 265886\\nvalue = [256601, 9285, 0]'),\n",
              " Text(0.8571428571428571, 0.5, 'gini = 0.0\\nsamples = 179575\\nvalue = [179575, 0, 0]'),\n",
              " Text(0.9285714285714286, 0.5, 'X[0] <= 1641824960.0\\ngini = 0.192\\nsamples = 86311\\nvalue = [77026, 9285, 0]'),\n",
              " Text(0.8928571428571429, 0.3888888888888889, 'X[0] <= 1641820992.0\\ngini = 0.471\\nsamples = 14944\\nvalue = [5659, 9285, 0]'),\n",
              " Text(0.8571428571428571, 0.2777777777777778, 'X[11] <= 34.5\\ngini = 0.498\\nsamples = 10616\\nvalue = [5659, 4957, 0]'),\n",
              " Text(0.7857142857142857, 0.16666666666666666, 'X[15] <= 8.0\\ngini = 0.498\\nsamples = 10101\\nvalue = [5358, 4743, 0]'),\n",
              " Text(0.75, 0.05555555555555555, 'gini = 0.498\\nsamples = 8570\\nvalue = [4575, 3995, 0]'),\n",
              " Text(0.8214285714285714, 0.05555555555555555, 'gini = 0.5\\nsamples = 1531\\nvalue = [783, 748, 0]'),\n",
              " Text(0.9285714285714286, 0.16666666666666666, 'X[10] <= 0.5\\ngini = 0.486\\nsamples = 515\\nvalue = [301, 214, 0]'),\n",
              " Text(0.8928571428571429, 0.05555555555555555, 'gini = 0.0\\nsamples = 104\\nvalue = [104, 0, 0]'),\n",
              " Text(0.9642857142857143, 0.05555555555555555, 'gini = 0.499\\nsamples = 411\\nvalue = [197, 214, 0]'),\n",
              " Text(0.9285714285714286, 0.2777777777777778, 'gini = 0.0\\nsamples = 4328\\nvalue = [0, 4328, 0]'),\n",
              " Text(0.9642857142857143, 0.3888888888888889, 'gini = 0.0\\nsamples = 71367\\nvalue = [71367, 0, 0]')]"
            ]
          },
          "metadata": {},
          "execution_count": 87
        },
        {
          "output_type": "display_data",
          "data": {
            "image/png": "[encoded data removed]",
            "text/plain": [
              "<Figure size 432x288 with 1 Axes>"
            ]
          },
          "metadata": {
            "needs_background": "light"
          }
        }
      ],
      "source": [
        "#Decision Tree Classifier for max depth=8\n",
        "\n",
        "from sklearn import tree\n",
        "clf3 = tree.DecisionTreeClassifier(max_depth = 8).fit(x_ctrain,y_ctrain)\n",
        "clf3.predict(x_ctest)\n",
        "tree.plot_tree(clf3)"
      ]
    },
    {
      "cell_type": "code",
      "execution_count": 88,
      "id": "0cecc9a5",
      "metadata": {
        "execution": {
          "iopub.execute_input": "2022-02-21T19:36:37.329874Z",
          "iopub.status.busy": "2022-02-21T19:36:37.329030Z",
          "iopub.status.idle": "2022-02-21T19:36:37.460850Z",
          "shell.execute_reply": "2022-02-21T19:36:37.459893Z",
          "shell.execute_reply.started": "2022-02-21T18:55:31.155754Z"
        },
        "papermill": {
          "duration": 0.283325,
          "end_time": "2022-02-21T19:36:37.461105",
          "exception": false,
          "start_time": "2022-02-21T19:36:37.177780",
          "status": "completed"
        },
        "tags": [],
        "id": "0cecc9a5",
        "outputId": "24e70b4d-ac31-4941-e0e8-dd9e802e0ddb",
        "colab": {
          "base_uri": "https://localhost:8080/"
        }
      },
      "outputs": [
        {
          "output_type": "execute_result",
          "data": {
            "text/plain": [
              "0.9961691964929715"
            ]
          },
          "metadata": {},
          "execution_count": 88
        }
      ],
      "source": [
        "clf3.score(x_ctest,y_ctest)"
      ]
    },
    {
      "cell_type": "code",
      "execution_count": 90,
      "id": "fe19aa4a",
      "metadata": {
        "execution": {
          "iopub.execute_input": "2022-02-21T19:36:38.079322Z",
          "iopub.status.busy": "2022-02-21T19:36:38.078521Z",
          "iopub.status.idle": "2022-02-21T19:36:44.644901Z",
          "shell.execute_reply": "2022-02-21T19:36:44.645604Z",
          "shell.execute_reply.started": "2022-02-21T19:09:14.214583Z"
        },
        "papermill": {
          "duration": 6.70903,
          "end_time": "2022-02-21T19:36:44.646238",
          "exception": false,
          "start_time": "2022-02-21T19:36:37.937208",
          "status": "completed"
        },
        "tags": [],
        "id": "fe19aa4a",
        "outputId": "59e1a694-9fb0-4e99-b95b-c7ecb314ac10",
        "colab": {
          "base_uri": "https://localhost:8080/",
          "height": 1000
        }
      },
      "outputs": [
        {
          "output_type": "execute_result",
          "data": {
            "text/plain": [
              "[Text(0.3392857142857143, 0.9444444444444444, 'X[1] <= 29.5\\ngini = 0.452\\nsamples = 1497333\\nvalue = [1025647, 416341, 55345]'),\n",
              " Text(0.10714285714285714, 0.8333333333333334, 'X[4] <= 17.5\\ngini = 0.359\\nsamples = 332716\\nvalue = [19166, 260417, 53133]'),\n",
              " Text(0.07142857142857142, 0.7222222222222222, 'gini = 0.0\\nsamples = 47608\\nvalue = [0, 0, 47608]'),\n",
              " Text(0.14285714285714285, 0.7222222222222222, 'X[0] <= 1641499136.0\\ngini = 0.161\\nsamples = 285108\\nvalue = [19166, 260417, 5525]'),\n",
              " Text(0.07142857142857142, 0.6111111111111112, 'X[1] <= 27.5\\ngini = 0.338\\nsamples = 24434\\nvalue = [19166, 0, 5268]'),\n",
              " Text(0.03571428571428571, 0.5, 'gini = 0.0\\nsamples = 5268\\nvalue = [0, 0, 5268]'),\n",
              " Text(0.10714285714285714, 0.5, 'gini = 0.0\\nsamples = 19166\\nvalue = [19166, 0, 0]'),\n",
              " Text(0.21428571428571427, 0.6111111111111112, 'X[10] <= 1.5\\ngini = 0.002\\nsamples = 260674\\nvalue = [0, 260417, 257]'),\n",
              " Text(0.17857142857142858, 0.5, 'X[5] <= 8.0\\ngini = 0.002\\nsamples = 260662\\nvalue = [0, 260417, 245]'),\n",
              " Text(0.14285714285714285, 0.3888888888888889, 'X[4] <= 19.5\\ngini = 0.043\\nsamples = 11029\\nvalue = [0, 10784, 245]'),\n",
              " Text(0.10714285714285714, 0.2777777777777778, 'gini = 0.0\\nsamples = 245\\nvalue = [0, 0, 245]'),\n",
              " Text(0.17857142857142858, 0.2777777777777778, 'gini = 0.0\\nsamples = 10784\\nvalue = [0, 10784, 0]'),\n",
              " Text(0.21428571428571427, 0.3888888888888889, 'gini = 0.0\\nsamples = 249633\\nvalue = [0, 249633, 0]'),\n",
              " Text(0.25, 0.5, 'gini = 0.0\\nsamples = 12\\nvalue = [0, 0, 12]'),\n",
              " Text(0.5714285714285714, 0.8333333333333334, 'X[7] <= 2861699840.0\\ngini = 0.235\\nsamples = 1164617\\nvalue = [1006481, 155924, 2212]'),\n",
              " Text(0.39285714285714285, 0.7222222222222222, 'X[4] <= 26.5\\ngini = 0.025\\nsamples = 630592\\nvalue = [622787, 5891, 1914]'),\n",
              " Text(0.35714285714285715, 0.6111111111111112, 'X[1] <= 30.5\\ngini = 0.011\\nsamples = 626214\\nvalue = [622787, 1513, 1914]'),\n",
              " Text(0.32142857142857145, 0.5, 'gini = 0.0\\nsamples = 1914\\nvalue = [0, 0, 1914]'),\n",
              " Text(0.39285714285714285, 0.5, 'X[3] <= 0.5\\ngini = 0.005\\nsamples = 624300\\nvalue = [622787, 1513, 0]'),\n",
              " Text(0.35714285714285715, 0.3888888888888889, 'gini = 0.0\\nsamples = 615629\\nvalue = [615629, 0, 0]'),\n",
              " Text(0.42857142857142855, 0.3888888888888889, 'X[0] <= 1641913024.0\\ngini = 0.288\\nsamples = 8671\\nvalue = [7158, 1513, 0]'),\n",
              " Text(0.39285714285714285, 0.2777777777777778, 'gini = 0.0\\nsamples = 7069\\nvalue = [7069, 0, 0]'),\n",
              " Text(0.4642857142857143, 0.2777777777777778, 'X[5] <= 28.5\\ngini = 0.105\\nsamples = 1602\\nvalue = [89, 1513, 0]'),\n",
              " Text(0.42857142857142855, 0.16666666666666666, 'gini = 0.0\\nsamples = 1513\\nvalue = [0, 1513, 0]'),\n",
              " Text(0.5, 0.16666666666666666, 'gini = 0.0\\nsamples = 89\\nvalue = [89, 0, 0]'),\n",
              " Text(0.42857142857142855, 0.6111111111111112, 'gini = 0.0\\nsamples = 4378\\nvalue = [0, 4378, 0]'),\n",
              " Text(0.75, 0.7222222222222222, 'X[4] <= 27.5\\ngini = 0.405\\nsamples = 534025\\nvalue = [383694, 150033, 298]'),\n",
              " Text(0.6071428571428571, 0.6111111111111112, 'X[5] <= 8.5\\ngini = 0.5\\nsamples = 268139\\nvalue = [127093, 140748, 298]'),\n",
              " Text(0.5357142857142857, 0.5, 'X[7] <= 2894682496.0\\ngini = 0.008\\nsamples = 73453\\nvalue = [73155, 0, 298]'),\n",
              " Text(0.5, 0.3888888888888889, 'gini = 0.0\\nsamples = 298\\nvalue = [0, 0, 298]'),\n",
              " Text(0.5714285714285714, 0.3888888888888889, 'gini = 0.0\\nsamples = 73155\\nvalue = [73155, 0, 0]'),\n",
              " Text(0.6785714285714286, 0.5, 'X[1] <= 33.5\\ngini = 0.401\\nsamples = 194686\\nvalue = [53938, 140748, 0]'),\n",
              " Text(0.6428571428571429, 0.3888888888888889, 'X[0] <= 1642508032.0\\ngini = 0.496\\nsamples = 118704\\nvalue = [53938, 64766, 0]'),\n",
              " Text(0.6071428571428571, 0.2777777777777778, 'gini = 0.0\\nsamples = 44313\\nvalue = [44313, 0, 0]'),\n",
              " Text(0.6785714285714286, 0.2777777777777778, 'X[7] <= 3218276480.0\\ngini = 0.225\\nsamples = 74391\\nvalue = [9625, 64766, 0]'),\n",
              " Text(0.6428571428571429, 0.16666666666666666, 'X[0] <= 1642728704.0\\ngini = 0.451\\nsamples = 28079\\nvalue = [9625, 18454, 0]'),\n",
              " Text(0.6071428571428571, 0.05555555555555555, 'gini = 0.0\\nsamples = 18048\\nvalue = [0, 18048, 0]'),\n",
              " Text(0.6785714285714286, 0.05555555555555555, 'gini = 0.078\\nsamples = 10031\\nvalue = [9625, 406, 0]'),\n",
              " Text(0.7142857142857143, 0.16666666666666666, 'gini = 0.0\\nsamples = 46312\\nvalue = [0, 46312, 0]'),\n",
              " Text(0.7142857142857143, 0.3888888888888889, 'gini = 0.0\\nsamples = 75982\\nvalue = [0, 75982, 0]'),\n",
              " Text(0.8928571428571429, 0.6111111111111112, 'X[0] <= 1641820864.0\\ngini = 0.067\\nsamples = 265886\\nvalue = [256601, 9285, 0]'),\n",
              " Text(0.8571428571428571, 0.5, 'gini = 0.0\\nsamples = 179575\\nvalue = [179575, 0, 0]'),\n",
              " Text(0.9285714285714286, 0.5, 'X[0] <= 1641824960.0\\ngini = 0.192\\nsamples = 86311\\nvalue = [77026, 9285, 0]'),\n",
              " Text(0.8928571428571429, 0.3888888888888889, 'X[0] <= 1641820992.0\\ngini = 0.471\\nsamples = 14944\\nvalue = [5659, 9285, 0]'),\n",
              " Text(0.8571428571428571, 0.2777777777777778, 'X[11] <= 34.5\\ngini = 0.498\\nsamples = 10616\\nvalue = [5659, 4957, 0]'),\n",
              " Text(0.7857142857142857, 0.16666666666666666, 'X[15] <= 8.0\\ngini = 0.498\\nsamples = 10101\\nvalue = [5358, 4743, 0]'),\n",
              " Text(0.75, 0.05555555555555555, 'gini = 0.498\\nsamples = 8570\\nvalue = [4575, 3995, 0]'),\n",
              " Text(0.8214285714285714, 0.05555555555555555, 'gini = 0.5\\nsamples = 1531\\nvalue = [783, 748, 0]'),\n",
              " Text(0.9285714285714286, 0.16666666666666666, 'X[10] <= 0.5\\ngini = 0.486\\nsamples = 515\\nvalue = [301, 214, 0]'),\n",
              " Text(0.8928571428571429, 0.05555555555555555, 'gini = 0.0\\nsamples = 104\\nvalue = [104, 0, 0]'),\n",
              " Text(0.9642857142857143, 0.05555555555555555, 'gini = 0.499\\nsamples = 411\\nvalue = [197, 214, 0]'),\n",
              " Text(0.9285714285714286, 0.2777777777777778, 'gini = 0.0\\nsamples = 4328\\nvalue = [0, 4328, 0]'),\n",
              " Text(0.9642857142857143, 0.3888888888888889, 'gini = 0.0\\nsamples = 71367\\nvalue = [71367, 0, 0]')]"
            ]
          },
          "metadata": {},
          "execution_count": 90
        },
        {
          "output_type": "display_data",
          "data": {
            "image/png": "[encoded data removed]",
            "text/plain": [
              "<Figure size 432x288 with 1 Axes>"
            ]
          },
          "metadata": {
            "needs_background": "light"
          }
        }
      ],
      "source": [
        "from sklearn import tree\n",
        "clf4 = tree.DecisionTreeClassifier(max_depth = 8,criterion=\"entropy\").fit(x_ctrain,y_ctrain)\n",
        "clf4.predict(x_ctest)\n",
        "tree.plot_tree(clf3)"
      ]
    },
    {
      "cell_type": "code",
      "execution_count": 91,
      "id": "0d84fd47",
      "metadata": {
        "execution": {
          "iopub.execute_input": "2022-02-21T19:36:44.903197Z",
          "iopub.status.busy": "2022-02-21T19:36:44.902100Z",
          "iopub.status.idle": "2022-02-21T19:36:45.867043Z",
          "shell.execute_reply": "2022-02-21T19:36:45.869531Z",
          "shell.execute_reply.started": "2022-02-21T19:09:34.983908Z"
        },
        "papermill": {
          "duration": 1.097863,
          "end_time": "2022-02-21T19:36:45.870546",
          "exception": false,
          "start_time": "2022-02-21T19:36:44.772683",
          "status": "completed"
        },
        "tags": [],
        "id": "0d84fd47",
        "outputId": "10f66a7b-3c61-4529-f9c0-3c3dc05004ab",
        "colab": {
          "base_uri": "https://localhost:8080/"
        }
      },
      "outputs": [
        {
          "output_type": "execute_result",
          "data": {
            "text/plain": [
              "0.9962673708506308"
            ]
          },
          "metadata": {},
          "execution_count": 91
        }
      ],
      "source": [
        "clf4.score(x_ctest,y_ctest)"
      ]
    }
  ],
  "metadata": {
    "kernelspec": {
      "display_name": "Python 3",
      "language": "python",
      "name": "python3"
    },
    "language_info": {
      "codemirror_mode": {
        "name": "ipython",
        "version": 3
      },
      "file_extension": ".py",
      "mimetype": "text/x-python",
      "name": "python",
      "nbconvert_exporter": "python",
      "pygments_lexer": "ipython3",
      "version": "3.7.12"
    },
    "papermill": {
      "default_parameters": {},
      "duration": 450.96866,
      "end_time": "2022-02-21T19:36:48.138692",
      "environment_variables": {},
      "exception": null,
      "input_path": "__notebook__.ipynb",
      "output_path": "__notebook__.ipynb",
      "parameters": {},
      "start_time": "2022-02-21T19:29:17.170032",
      "version": "2.3.3"
    },
    "colab": {
      "name": "Team_DivineAngle_Challenge1.ipynb",
      "provenance": []
    }
  },
  "nbformat": 4,
  "nbformat_minor": 5
}